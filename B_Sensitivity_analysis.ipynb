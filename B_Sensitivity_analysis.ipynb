import numpy as np
from SALib.sample import saltelli
from SALib.analyze import sobol

# Define the model function
def model(param):
    # Extract parameters
    mu_max = param['mu_max']
    X_max = param['X_max']
    Ks = param['Ks']
    Ks_qs = param['Ks_qs']
    Ki = param['Ki']
    Yxs = param['Yxs']
    qs_max = param['qs_max']
    m_s = param['m_s']
    lag = param['lag']
    X0 = param['X0']
    S0 = param['S0']
    V0 = param['V0']
    c_glu_feed = param['c_glu_feed']

    # Run the model and return the desired output (e.g., final biomass concentration)
    # Update growth and glucose uptake rate
    mu = mu_eq(mu_max, c_glucose, Ks, c_biomass, X_max)
    qs = qs_eq(Yxs, f_glucose, V)
    S_met[i] = qs * c_biomass * V

    # Update biomass and substrate concentrations
    dX_dt = dXdt(mu, c_biomass, f_glucose, V)
    dS_dt[i] = dSdt(f_glucose, V, c_glu_feed, c_glucose, qs, c_biomass, m_s)
    dV_dt = F_in[i] - (0.4/num_steps)  # not complete -- somehow add base and acid to it + include samples + evaporation
    biomass[i] = c_biomass + dX_dt * dt
    substrate[i] = c_glucose + dS_dt[i] * dt
    volume[i] = V + dV_dt

    return biomass[-1]  # Return the final biomass concentration


# Define the parameter bounds
problem = {
    'num_vars': 11,
    'names': ['mu_max', 'X_max', 'Ks', 'Ks_qs', 'Ki', 'Yxs', 'qs_max', 'm_s', 'lag', 'X0', 'c_glu_feed'],
    'bounds': [[0.1, 0.5], [1.0, 10.0], [0.01, 1.0], [0.01, 1.0], [0.01, 1.0], [0.1, 0.5], [0.1, 1.0], [0.01, 1.0], [0.0, 1.0], [0.1, 1.0], [100, 500]]
}

# Generate the parameter samples using the Saltelli sampling scheme
param_samples = saltelli.sample(problem, 1000)

# Run the model for each parameter sample and collect the output
outputs = np.array([model(param) for param in param_samples])

# Perform the Sobol sensitivity analysis
Si = sobol.analyze(problem, outputs)

# Print the first-order and total sensitivity indices
print("First-order indices:")
for i, name in enumerate(problem['names']):
    print("{}: {:.3f}".format(name, Si['S1'][i]))

print("\nTotal indices:")
for i, name in enumerate(problem['names']):
    print