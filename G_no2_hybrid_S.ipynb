{
 "cells": [
  {
   "cell_type": "code",
   "execution_count": 1,
   "metadata": {},
   "outputs": [],
   "source": [
    "import numpy as np\n",
    "import pandas as pd\n",
    "import yaml\n",
    "import matplotlib.pyplot as plt\n",
    "import seaborn as sns\n",
    "from sklearn.model_selection import train_test_split\n",
    "from sklearn.ensemble import RandomForestRegressor\n",
    "from G_model import model_single_timestep_S, model_batch_no2, plot_show\n",
    "\n",
    "pd.options.mode.chained_assignment = None  # Suppress the warning"
   ]
  },
  {
   "cell_type": "code",
   "execution_count": 2,
   "metadata": {},
   "outputs": [],
   "source": [
    "# Load parameters from YAML file\n",
    "with open('config/parameters.yml', 'r') as file:\n",
    "    param = yaml.safe_load(file)"
   ]
  },
  {
   "cell_type": "code",
   "execution_count": 3,
   "metadata": {},
   "outputs": [
    {
     "data": {
      "text/plain": [
       "time        0\n",
       "biomass     0\n",
       "glucose     0\n",
       "co2         0\n",
       "batch_id    0\n",
       "dtype: int64"
      ]
     },
     "execution_count": 3,
     "metadata": {},
     "output_type": "execute_result"
    }
   ],
   "source": [
    "# Load data\n",
    "df_batch = pd.read_csv('data/batch_no2/generated data/df_gen_co2_1.csv')\n",
    "df_batch.drop(['Unnamed: 0'], axis=1, inplace=True)\n",
    "df_batch['batch_id'] = df_batch['batch_id'].astype(str).str.zfill(3)\n",
    "# check of all NaN are removed\n",
    "df_batch.isna().sum()"
   ]
  },
  {
   "cell_type": "code",
   "execution_count": 4,
   "metadata": {},
   "outputs": [],
   "source": [
    "# Normalization for batch 1\n",
    "df_norm = df_batch.drop(['time', 'batch_id'], axis=1).copy()\n",
    "mean = df_norm.mean()\n",
    "std = df_norm.std()\n",
    "df_norm = (df_norm - mean) / std\n",
    "df_norm['time'] = df_batch['time']\n",
    "df_norm['batch_id'] = df_batch['batch_id']"
   ]
  },
  {
   "cell_type": "code",
   "execution_count": 5,
   "metadata": {},
   "outputs": [],
   "source": [
    "# group the df by batch_id and take the maximum value of qs\n",
    "## output is an array (shape: [50,2]) which contains all unique batch_ids and a corresponding max qs\n",
    "# based on the mean value a binary col is created\n",
    "## when splitting the data in train & test it is ensured that high and low values of qs are equally distributed\n",
    "df_grouped = df_norm.groupby('batch_id')['glucose'].max().reset_index()\n",
    "mean_S = df_grouped['glucose'].mean()\n",
    "df_grouped['bin'] = df_grouped['glucose'].apply(lambda x: 1 if x > mean_S else 0)\n",
    "\n",
    "# Split in the list of unique batch_ids into train and test\n",
    "## I take the batch_ids instead of the whole dataset because otherwise snippets of one batch can be in\n",
    "## both train and test set\n",
    "## result is better because it has already seen the data\n",
    "b_train, b_test = train_test_split(df_grouped, test_size=0.2, stratify=df_grouped['bin'], random_state=42)"
   ]
  },
  {
   "cell_type": "code",
   "execution_count": 6,
   "metadata": {},
   "outputs": [],
   "source": [
    "b_train = list(b_train['batch_id'].values)\n",
    "b_test = list(b_test['batch_id'].values)\n",
    "\n",
    "df_train = df_batch[df_batch['batch_id'].isin(b_train)]\n",
    "df_test = df_batch[df_batch['batch_id'].isin(b_test)]\n",
    "\n",
    "# Define X and y\n",
    "X_train = df_train.copy().drop(['glucose'], axis=1)\n",
    "y_train = df_train['glucose'].values\n",
    "\n",
    "X_test = df_test.copy().drop(['glucose'], axis=1)\n",
    "y_test = df_test[['glucose', 'batch_id']]"
   ]
  },
  {
   "cell_type": "code",
   "execution_count": 7,
   "metadata": {},
   "outputs": [
    {
     "data": {
      "text/html": [
       "<style>#sk-container-id-1 {color: black;background-color: white;}#sk-container-id-1 pre{padding: 0;}#sk-container-id-1 div.sk-toggleable {background-color: white;}#sk-container-id-1 label.sk-toggleable__label {cursor: pointer;display: block;width: 100%;margin-bottom: 0;padding: 0.3em;box-sizing: border-box;text-align: center;}#sk-container-id-1 label.sk-toggleable__label-arrow:before {content: \"▸\";float: left;margin-right: 0.25em;color: #696969;}#sk-container-id-1 label.sk-toggleable__label-arrow:hover:before {color: black;}#sk-container-id-1 div.sk-estimator:hover label.sk-toggleable__label-arrow:before {color: black;}#sk-container-id-1 div.sk-toggleable__content {max-height: 0;max-width: 0;overflow: hidden;text-align: left;background-color: #f0f8ff;}#sk-container-id-1 div.sk-toggleable__content pre {margin: 0.2em;color: black;border-radius: 0.25em;background-color: #f0f8ff;}#sk-container-id-1 input.sk-toggleable__control:checked~div.sk-toggleable__content {max-height: 200px;max-width: 100%;overflow: auto;}#sk-container-id-1 input.sk-toggleable__control:checked~label.sk-toggleable__label-arrow:before {content: \"▾\";}#sk-container-id-1 div.sk-estimator input.sk-toggleable__control:checked~label.sk-toggleable__label {background-color: #d4ebff;}#sk-container-id-1 div.sk-label input.sk-toggleable__control:checked~label.sk-toggleable__label {background-color: #d4ebff;}#sk-container-id-1 input.sk-hidden--visually {border: 0;clip: rect(1px 1px 1px 1px);clip: rect(1px, 1px, 1px, 1px);height: 1px;margin: -1px;overflow: hidden;padding: 0;position: absolute;width: 1px;}#sk-container-id-1 div.sk-estimator {font-family: monospace;background-color: #f0f8ff;border: 1px dotted black;border-radius: 0.25em;box-sizing: border-box;margin-bottom: 0.5em;}#sk-container-id-1 div.sk-estimator:hover {background-color: #d4ebff;}#sk-container-id-1 div.sk-parallel-item::after {content: \"\";width: 100%;border-bottom: 1px solid gray;flex-grow: 1;}#sk-container-id-1 div.sk-label:hover label.sk-toggleable__label {background-color: #d4ebff;}#sk-container-id-1 div.sk-serial::before {content: \"\";position: absolute;border-left: 1px solid gray;box-sizing: border-box;top: 0;bottom: 0;left: 50%;z-index: 0;}#sk-container-id-1 div.sk-serial {display: flex;flex-direction: column;align-items: center;background-color: white;padding-right: 0.2em;padding-left: 0.2em;position: relative;}#sk-container-id-1 div.sk-item {position: relative;z-index: 1;}#sk-container-id-1 div.sk-parallel {display: flex;align-items: stretch;justify-content: center;background-color: white;position: relative;}#sk-container-id-1 div.sk-item::before, #sk-container-id-1 div.sk-parallel-item::before {content: \"\";position: absolute;border-left: 1px solid gray;box-sizing: border-box;top: 0;bottom: 0;left: 50%;z-index: -1;}#sk-container-id-1 div.sk-parallel-item {display: flex;flex-direction: column;z-index: 1;position: relative;background-color: white;}#sk-container-id-1 div.sk-parallel-item:first-child::after {align-self: flex-end;width: 50%;}#sk-container-id-1 div.sk-parallel-item:last-child::after {align-self: flex-start;width: 50%;}#sk-container-id-1 div.sk-parallel-item:only-child::after {width: 0;}#sk-container-id-1 div.sk-dashed-wrapped {border: 1px dashed gray;margin: 0 0.4em 0.5em 0.4em;box-sizing: border-box;padding-bottom: 0.4em;background-color: white;}#sk-container-id-1 div.sk-label label {font-family: monospace;font-weight: bold;display: inline-block;line-height: 1.2em;}#sk-container-id-1 div.sk-label-container {text-align: center;}#sk-container-id-1 div.sk-container {/* jupyter's `normalize.less` sets `[hidden] { display: none; }` but bootstrap.min.css set `[hidden] { display: none !important; }` so we also need the `!important` here to be able to override the default hidden behavior on the sphinx rendered scikit-learn.org. See: https://github.com/scikit-learn/scikit-learn/issues/21755 */display: inline-block !important;position: relative;}#sk-container-id-1 div.sk-text-repr-fallback {display: none;}</style><div id=\"sk-container-id-1\" class=\"sk-top-container\"><div class=\"sk-text-repr-fallback\"><pre>RandomForestRegressor(min_samples_leaf=15, n_estimators=50, random_state=42)</pre><b>In a Jupyter environment, please rerun this cell to show the HTML representation or trust the notebook. <br />On GitHub, the HTML representation is unable to render, please try loading this page with nbviewer.org.</b></div><div class=\"sk-container\" hidden><div class=\"sk-item\"><div class=\"sk-estimator sk-toggleable\"><input class=\"sk-toggleable__control sk-hidden--visually\" id=\"sk-estimator-id-1\" type=\"checkbox\" checked><label for=\"sk-estimator-id-1\" class=\"sk-toggleable__label sk-toggleable__label-arrow\">RandomForestRegressor</label><div class=\"sk-toggleable__content\"><pre>RandomForestRegressor(min_samples_leaf=15, n_estimators=50, random_state=42)</pre></div></div></div></div></div>"
      ],
      "text/plain": [
       "RandomForestRegressor(min_samples_leaf=15, n_estimators=50, random_state=42)"
      ]
     },
     "execution_count": 7,
     "metadata": {},
     "output_type": "execute_result"
    }
   ],
   "source": [
    "model = RandomForestRegressor(n_estimators=50, min_samples_leaf=15 ,random_state=42)\n",
    "model.fit(X_train, y_train)"
   ]
  },
  {
   "cell_type": "code",
   "execution_count": 8,
   "metadata": {},
   "outputs": [],
   "source": [
    "batch_ids = X_test['batch_id'].unique()\n",
    "one_batch = X_test[X_test['batch_id'] == batch_ids[0]]\n",
    "\n",
    "df_hybrid = pd.DataFrame()"
   ]
  },
  {
   "cell_type": "code",
   "execution_count": 10,
   "metadata": {},
   "outputs": [],
   "source": [
    "for b in range(len(batch_ids)):\n",
    "    one_batch = X_test[X_test['batch_id'] == batch_ids[b]]\n",
    "\n",
    "    # Simulation settings\n",
    "    t0 = 0\n",
    "    t_end = 36.8\n",
    "    delta_t = 2\n",
    "    dt = delta_t/60\n",
    "    num_steps = int((t_end - t0) / dt) + 1 # Number of time steps\n",
    "\n",
    "    time = np.linspace(t0, t_end, num_steps)\n",
    "    biomass = np.zeros(num_steps)\n",
    "    substrate_ML = np.zeros(num_steps)\n",
    "    substrate = np.zeros(num_steps)\n",
    "    co2 = np.zeros(num_steps)\n",
    "    volume = np.zeros(num_steps)\n",
    "\n",
    "    # Extract parameters\n",
    "    X0 = param['X0_2']\n",
    "    S0 = param['S0']\n",
    "    co20 = param['co20']\n",
    "    V0 = param['V0_2']\n",
    "\n",
    "    # Set initial values\n",
    "    biomass[0] = X0\n",
    "    substrate[0] = S0\n",
    "    substrate_ML[0] = S0\n",
    "    co2[0] = co20\n",
    "    volume[0] = V0\n",
    "    \n",
    "    for i in range(1, num_steps):\n",
    "        # calculating qs    \n",
    "        input = one_batch.iloc[[i]]\n",
    "        c_glucose = model.predict(input)\n",
    "\n",
    "        # previous values\n",
    "        c_biomass = biomass[i-1]\n",
    "        c_co2 = co2[i-1]\n",
    "        vol = volume[i-1]\n",
    "\n",
    "        # new values from model\n",
    "        substrate_ML[i] = c_glucose\n",
    "        biomass[i], substrate[i], co2[i], volume[i] = model_single_timestep_S(i, c_glucose, c_biomass, c_co2, vol)\n",
    "    \n",
    "    one_batch['glucose'] = y_test.loc[y_test['batch_id'] == batch_ids[b], 'glucose']\n",
    "    one_batch['biomass_sim'] = biomass\n",
    "    one_batch['glucose_ML'] = substrate_ML\n",
    "    one_batch['glucose_sim'] = substrate\n",
    "    one_batch['volume_sim'] = volume\n",
    "\n",
    "    df_hybrid = pd.concat([df_hybrid, one_batch])"
   ]
  },
  {
   "cell_type": "code",
   "execution_count": 11,
   "metadata": {},
   "outputs": [
    {
     "data": {
      "text/plain": [
       "array(['008', '010', '026', '032', '039', '043', '047', '061', '074',\n",
       "       '090'], dtype=object)"
      ]
     },
     "execution_count": 11,
     "metadata": {},
     "output_type": "execute_result"
    }
   ],
   "source": [
    "batch_ids_hybrid = df_hybrid['batch_id'].unique()\n",
    "batch_ids_hybrid[:10]"
   ]
  },
  {
   "cell_type": "code",
   "execution_count": 12,
   "metadata": {},
   "outputs": [],
   "source": [
    "one_batch_hybrid = df_hybrid[df_hybrid['batch_id'] == '008']\n",
    "one_batch_plot = X_test[X_test['batch_id'] == '008']"
   ]
  },
  {
   "cell_type": "code",
   "execution_count": 13,
   "metadata": {},
   "outputs": [
    {
     "data": {
      "text/plain": [
       "[<matplotlib.lines.Line2D at 0x2a1418e4c40>]"
      ]
     },
     "execution_count": 13,
     "metadata": {},
     "output_type": "execute_result"
    },
    {
     "data": {
      "image/png": "[encoded data removed]",
      "text/plain": [
       "<Figure size 640x480 with 1 Axes>"
      ]
     },
     "metadata": {},
     "output_type": "display_data"
    }
   ],
   "source": [
    "plt.plot(one_batch_hybrid['time'], one_batch_hybrid['glucose'], color='blue')\n",
    "plt.plot(one_batch_hybrid['time'], one_batch_hybrid['glucose_ML'], color='orange')"
   ]
  }
 ],
 "metadata": {
  "kernelspec": {
   "display_name": "june_project",
   "language": "python",
   "name": "python3"
  },
  "language_info": {
   "codemirror_mode": {
    "name": "ipython",
    "version": 3
   },
   "file_extension": ".py",
   "mimetype": "text/x-python",
   "name": "python",
   "nbconvert_exporter": "python",
   "pygments_lexer": "ipython3",
   "version": "3.9.13"
  },
  "orig_nbformat": 4
 },
 "nbformat": 4,
 "nbformat_minor": 2
}
