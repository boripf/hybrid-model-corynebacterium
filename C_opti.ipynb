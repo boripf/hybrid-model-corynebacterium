{
 "cells": [
  {
   "attachments": {},
   "cell_type": "markdown",
   "metadata": {},
   "source": [
    "#### Definition of the model"
   ]
  },
  {
   "attachments": {},
   "cell_type": "markdown",
   "metadata": {},
   "source": [
    "* finding the optimal parameters\n",
    "* finding the optimal equations for mu and qs\n",
    "* applying **Latin Hypercube Sampling** for generating parameter sets\n",
    "* calculating the **RMSE** of model and experiment"
   ]
  },
  {
   "attachments": {},
   "cell_type": "markdown",
   "metadata": {},
   "source": [
    "#### Code"
   ]
  },
  {
   "cell_type": "code",
   "execution_count": 1,
   "metadata": {},
   "outputs": [],
   "source": [
    "import pandas as pd\n",
    "import numpy as np\n",
    "import yaml\n",
    "from sklearn.metrics import mean_squared_error\n",
    "from C_model import get_LHS_samples, model_optimization, plot_estimation"
   ]
  },
  {
   "cell_type": "code",
   "execution_count": 2,
   "metadata": {},
   "outputs": [],
   "source": [
    "# Load experimental data\n",
    "df_exp = pd.read_csv('data/data_combined.csv')\n",
    "biomass_exp = df_exp['Biomass [g/L]']\n",
    "substrate_exp = df_exp['Glucose [g/L]']"
   ]
  },
  {
   "cell_type": "code",
   "execution_count": 3,
   "metadata": {},
   "outputs": [],
   "source": [
    "# Load parameters from YAML file\n",
    "with open('config/parameters.yml', 'r') as file:\n",
    "    param = yaml.safe_load(file)"
   ]
  },
  {
   "attachments": {},
   "cell_type": "markdown",
   "metadata": {},
   "source": [
    "! [Cell growth model] (images/correlation_muqs.png)"
   ]
  },
  {
   "attachments": {},
   "cell_type": "markdown",
   "metadata": {},
   "source": [
    "The growth rate and the substrate uptake rate are dependend on each other. Glucose is present in the media. From there the cell consumes glucose which is described by the glucose uptake rate qs. Many processes are supplied by the energy production due to the glucose such as growth described by the growth rate mu, maintenance, product formation and so on. Consequently, we will find the optimal equation for the glucose uptake and calculate the growth rate mu by $mu = qs * Yxs$."
   ]
  },
  {
   "cell_type": "code",
   "execution_count": 4,
   "metadata": {},
   "outputs": [],
   "source": [
    "qs0 = lambda qs_max, c_glucose, Ks: qs_max * c_glucose / (Ks + c_glucose) # -- MONOD\n",
    "qs1 = lambda qs_max, c_glucose, Ks, Ki, glu_met: qs_max * c_glucose / (Ks + c_glucose) * (Ki / (Ki + glu_met)) # -- MONOD + NON COMPETITIVE INHIBITION\n",
    "qs2 = lambda qs_max, c_glucose, Ks, c_biomass, lag: qs_max * c_glucose / (Ks + c_glucose) * (1 / (np.exp(c_biomass * lag))) # -- MONOD + METABOLIZED GLU"
   ]
  },
  {
   "cell_type": "code",
   "execution_count": 5,
   "metadata": {},
   "outputs": [],
   "source": [
    "# Saving all equations in each list\n",
    "qs_all=[qs0, qs1, qs2]"
   ]
  },
  {
   "cell_type": "code",
   "execution_count": 6,
   "metadata": {},
   "outputs": [],
   "source": [
    "# Root mean squared error is the objective function\n",
    "def objective_function(parameters, qs_eq, num_qs):\n",
    "    # Solve the model using the optimal parameters\n",
    "    time_pred, biomass_pred, substrate_pred, volume_pred = model_optimization(param, parameters, qs_eq, num_qs)  # Solve the model using the current parameters\n",
    "    biomass = pd.concat([biomass_exp, pd.Series(biomass_pred)], axis=1, keys=['biomass_exp', 'biomass_pred']).dropna()\n",
    "    biomass_exp_ = biomass['biomass_exp'].values\n",
    "    biomass_pred_ = biomass['biomass_pred'].values\n",
    "    mse_x = mean_squared_error(biomass_exp_, biomass_pred_)  # Calculate mean squared error for biomass\n",
    "\n",
    "    glucose = pd.concat([substrate_exp, pd.Series(substrate_pred)], axis=1, keys=['substrate_exp', 'substrate_pred']).dropna()\n",
    "    substrate_exp_ = glucose['substrate_exp'].values\n",
    "    substrate_pred_ = glucose['substrate_pred'].values\n",
    "    mse_s = mean_squared_error(substrate_exp_, substrate_pred_)  # Calculate mean squared error for substrate\n",
    "    \n",
    "    # Calculate the combined rmse\n",
    "    mse = (mse_x + mse_s)/2\n",
    "    rmse = np.sqrt(mse)  # Calculate root mean squared error\n",
    "    return rmse, time_pred, biomass_pred, substrate_pred, volume_pred"
   ]
  },
  {
   "cell_type": "code",
   "execution_count": 7,
   "metadata": {},
   "outputs": [],
   "source": [
    "# Set the number of samples and parameters\n",
    "num_samples = 100\n",
    "num_parameters = 6\n",
    "\n",
    "# Define the ranges for each parameter\n",
    "parameter_bounds = [\n",
    "    [0.3, 0.5],    # Range for parameter 0 Yxs\n",
    "    [0.1, 1.5],       # Range for parameter 1 qs_max\n",
    "    [0.1, 20.0],    # Range for parameter 2 - Ks\n",
    "    [0.1, 20.0],    # Range for parameter 3 - Ki\n",
    "    [0.0, 0.2],     # Range for parameter 4 - m_s\n",
    "    [0.001, 1.0],     # Range for parameter 5 - lag\n",
    "]"
   ]
  },
  {
   "cell_type": "code",
   "execution_count": 8,
   "metadata": {},
   "outputs": [
    {
     "data": {
      "text/plain": [
       "(100, 6)"
      ]
     },
     "execution_count": 8,
     "metadata": {},
     "output_type": "execute_result"
    }
   ],
   "source": [
    "LHS_samples = get_LHS_samples(num_samples, num_parameters, parameter_bounds)\n",
    "LHS_samples.shape"
   ]
  },
  {
   "cell_type": "code",
   "execution_count": 10,
   "metadata": {},
   "outputs": [
    {
     "data": {
      "text/html": [
       "<div>\n",
       "<style scoped>\n",
       "    .dataframe tbody tr th:only-of-type {\n",
       "        vertical-align: middle;\n",
       "    }\n",
       "\n",
       "    .dataframe tbody tr th {\n",
       "        vertical-align: top;\n",
       "    }\n",
       "\n",
       "    .dataframe thead th {\n",
       "        text-align: right;\n",
       "    }\n",
       "</style>\n",
       "<table border=\"1\" class=\"dataframe\">\n",
       "  <thead>\n",
       "    <tr style=\"text-align: right;\">\n",
       "      <th></th>\n",
       "      <th>set</th>\n",
       "      <th>qs</th>\n",
       "      <th>Yxs</th>\n",
       "      <th>qs_max</th>\n",
       "      <th>Ks</th>\n",
       "      <th>Ki</th>\n",
       "      <th>m_s</th>\n",
       "      <th>lag</th>\n",
       "      <th>rmse</th>\n",
       "    </tr>\n",
       "  </thead>\n",
       "  <tbody>\n",
       "    <tr>\n",
       "      <th>269</th>\n",
       "      <td>89</td>\n",
       "      <td>2</td>\n",
       "      <td>0.406619</td>\n",
       "      <td>0.846710</td>\n",
       "      <td>1.355904</td>\n",
       "      <td>13.652274</td>\n",
       "      <td>0.086777</td>\n",
       "      <td>0.265662</td>\n",
       "      <td>5.834</td>\n",
       "    </tr>\n",
       "    <tr>\n",
       "      <th>32</th>\n",
       "      <td>10</td>\n",
       "      <td>2</td>\n",
       "      <td>0.450759</td>\n",
       "      <td>1.348163</td>\n",
       "      <td>16.248245</td>\n",
       "      <td>18.284727</td>\n",
       "      <td>0.011123</td>\n",
       "      <td>0.305023</td>\n",
       "      <td>5.859</td>\n",
       "    </tr>\n",
       "    <tr>\n",
       "      <th>41</th>\n",
       "      <td>13</td>\n",
       "      <td>2</td>\n",
       "      <td>0.397879</td>\n",
       "      <td>1.151370</td>\n",
       "      <td>4.309711</td>\n",
       "      <td>14.500328</td>\n",
       "      <td>0.095019</td>\n",
       "      <td>0.369708</td>\n",
       "      <td>5.930</td>\n",
       "    </tr>\n",
       "    <tr>\n",
       "      <th>5</th>\n",
       "      <td>1</td>\n",
       "      <td>2</td>\n",
       "      <td>0.453494</td>\n",
       "      <td>1.056616</td>\n",
       "      <td>1.233745</td>\n",
       "      <td>8.568690</td>\n",
       "      <td>0.033991</td>\n",
       "      <td>0.398989</td>\n",
       "      <td>5.990</td>\n",
       "    </tr>\n",
       "    <tr>\n",
       "      <th>293</th>\n",
       "      <td>97</td>\n",
       "      <td>2</td>\n",
       "      <td>0.358769</td>\n",
       "      <td>1.049629</td>\n",
       "      <td>17.114502</td>\n",
       "      <td>19.181768</td>\n",
       "      <td>0.028571</td>\n",
       "      <td>0.180705</td>\n",
       "      <td>6.229</td>\n",
       "    </tr>\n",
       "    <tr>\n",
       "      <th>104</th>\n",
       "      <td>34</td>\n",
       "      <td>2</td>\n",
       "      <td>0.393007</td>\n",
       "      <td>1.075469</td>\n",
       "      <td>7.317970</td>\n",
       "      <td>6.362284</td>\n",
       "      <td>0.013123</td>\n",
       "      <td>0.359360</td>\n",
       "      <td>6.306</td>\n",
       "    </tr>\n",
       "    <tr>\n",
       "      <th>266</th>\n",
       "      <td>88</td>\n",
       "      <td>2</td>\n",
       "      <td>0.478655</td>\n",
       "      <td>0.893121</td>\n",
       "      <td>5.093273</td>\n",
       "      <td>0.723069</td>\n",
       "      <td>0.056429</td>\n",
       "      <td>0.417355</td>\n",
       "      <td>6.478</td>\n",
       "    </tr>\n",
       "    <tr>\n",
       "      <th>257</th>\n",
       "      <td>85</td>\n",
       "      <td>2</td>\n",
       "      <td>0.345029</td>\n",
       "      <td>0.932140</td>\n",
       "      <td>8.583261</td>\n",
       "      <td>13.174963</td>\n",
       "      <td>0.002042</td>\n",
       "      <td>0.297929</td>\n",
       "      <td>6.496</td>\n",
       "    </tr>\n",
       "    <tr>\n",
       "      <th>143</th>\n",
       "      <td>47</td>\n",
       "      <td>2</td>\n",
       "      <td>0.408087</td>\n",
       "      <td>1.244597</td>\n",
       "      <td>16.681080</td>\n",
       "      <td>16.672167</td>\n",
       "      <td>0.163676</td>\n",
       "      <td>0.289621</td>\n",
       "      <td>6.500</td>\n",
       "    </tr>\n",
       "    <tr>\n",
       "      <th>65</th>\n",
       "      <td>21</td>\n",
       "      <td>2</td>\n",
       "      <td>0.471430</td>\n",
       "      <td>0.562694</td>\n",
       "      <td>2.253670</td>\n",
       "      <td>3.852938</td>\n",
       "      <td>0.129934</td>\n",
       "      <td>0.373260</td>\n",
       "      <td>6.507</td>\n",
       "    </tr>\n",
       "  </tbody>\n",
       "</table>\n",
       "</div>"
      ],
      "text/plain": [
       "    set qs       Yxs    qs_max         Ks         Ki       m_s       lag  \\\n",
       "269  89  2  0.406619  0.846710   1.355904  13.652274  0.086777  0.265662   \n",
       "32   10  2  0.450759  1.348163  16.248245  18.284727  0.011123  0.305023   \n",
       "41   13  2  0.397879  1.151370   4.309711  14.500328  0.095019  0.369708   \n",
       "5     1  2  0.453494  1.056616   1.233745   8.568690  0.033991  0.398989   \n",
       "293  97  2  0.358769  1.049629  17.114502  19.181768  0.028571  0.180705   \n",
       "104  34  2  0.393007  1.075469   7.317970   6.362284  0.013123  0.359360   \n",
       "266  88  2  0.478655  0.893121   5.093273   0.723069  0.056429  0.417355   \n",
       "257  85  2  0.345029  0.932140   8.583261  13.174963  0.002042  0.297929   \n",
       "143  47  2  0.408087  1.244597  16.681080  16.672167  0.163676  0.289621   \n",
       "65   21  2  0.471430  0.562694   2.253670   3.852938  0.129934  0.373260   \n",
       "\n",
       "      rmse  \n",
       "269  5.834  \n",
       "32   5.859  \n",
       "41   5.930  \n",
       "5    5.990  \n",
       "293  6.229  \n",
       "104  6.306  \n",
       "266  6.478  \n",
       "257  6.496  \n",
       "143  6.500  \n",
       "65   6.507  "
      ]
     },
     "execution_count": 10,
     "metadata": {},
     "output_type": "execute_result"
    }
   ],
   "source": [
    "df_all_sets = pd.DataFrame(columns=['set', 'qs', 'Yxs', 'qs_max', 'Ks', 'Ki', 'm_s', 'lag', 'rmse'])\n",
    "for set_num in range(LHS_samples.shape[0]):\n",
    "    # Save all parameters and equations and the RMSE in a dataframe\n",
    "    ## with the beginning of one set a new rmse_overview will be created\n",
    "    rmse_one_set = []\n",
    "    #key = f'set{set_num}' ; init_p = est_mu_max[key]\n",
    "    init_p = list(LHS_samples[set_num, :])\n",
    "    for j in range(len(qs_all)):\n",
    "        qs_eq = qs_all[j]; num_qs = j   \n",
    "\n",
    "        # Make the predictions and calculate the error\n",
    "        rmse, time_pred, biomass_pred, substrate_pred, volume_pred = objective_function(init_p, qs_eq, num_qs)\n",
    "        # save the parameters in a dataframe\n",
    "        append_list=[set_num, j, init_p[0], init_p[1], init_p[2], init_p[3], init_p[4], init_p[5], round(rmse, 3)]\n",
    "        rmse_one_set.append(append_list)\n",
    "\n",
    "        # Make a plot and save it\n",
    "        title = f'set{set_num}/ qs{j} - rmse: {round(rmse, 3)}'\n",
    "        plot_name = f'set{set_num}_qs{j}_rmse{int(rmse)}'\n",
    "\n",
    "        if rmse <= float(5):\n",
    "            plot_estimation(time_pred, biomass_pred, substrate_pred, volume_pred, title, plot_name, set_num)\n",
    "        \n",
    "    # save the parameters of one set\n",
    "    df_1set = pd.DataFrame(rmse_one_set, columns=['set', 'qs', 'Yxs', 'qs_max', 'Ks', 'Ki', 'm_s', 'lag', 'rmse'])\n",
    "    df_all_sets = pd.concat([df_all_sets,df_1set], axis=0, ignore_index=True)\n",
    "\n",
    "\n",
    "df_all_sets.sort_values(by=['rmse'], ascending=True, inplace=True)\n",
    "df_all_sets.to_csv(f'data/estimation/0207_1/data.csv')\n",
    "\n",
    "df_all_sets.head(10)"
   ]
  },
  {
   "cell_type": "code",
   "execution_count": null,
   "metadata": {},
   "outputs": [],
   "source": [
    "df_LHS = pd.read_csv('data/estimation/LHS_sampling/data.csv')"
   ]
  }
 ],
 "metadata": {
  "kernelspec": {
   "display_name": "june_project",
   "language": "python",
   "name": "python3"
  },
  "language_info": {
   "codemirror_mode": {
    "name": "ipython",
    "version": 3
   },
   "file_extension": ".py",
   "mimetype": "text/x-python",
   "name": "python",
   "nbconvert_exporter": "python",
   "pygments_lexer": "ipython3",
   "version": "3.9.13"
  },
  "orig_nbformat": 4
 },
 "nbformat": 4,
 "nbformat_minor": 2
}
