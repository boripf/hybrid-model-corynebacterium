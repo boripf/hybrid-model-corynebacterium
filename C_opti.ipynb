{
 "cells": [
  {
   "cell_type": "code",
   "execution_count": 18,
   "metadata": {},
   "outputs": [],
   "source": [
    "import pandas as pd\n",
    "import numpy as np\n",
    "import yaml\n",
    "from scipy.optimize import minimize\n",
    "from sklearn.metrics import mean_squared_error\n",
    "from C_functions_opti import get_LHS_samples, model_optimization, plot_estimation"
   ]
  },
  {
   "attachments": {},
   "cell_type": "markdown",
   "metadata": {},
   "source": [
    "##### 1. Load all data that is needed"
   ]
  },
  {
   "cell_type": "code",
   "execution_count": 19,
   "metadata": {},
   "outputs": [],
   "source": [
    "# Load experimental data\n",
    "df_exp = pd.read_csv('data/data_combined.csv')\n",
    "biomass_exp = df_exp['Biomass [g/L]']\n",
    "substrate_exp = df_exp['Glucose [g/L]']"
   ]
  },
  {
   "cell_type": "code",
   "execution_count": 20,
   "metadata": {},
   "outputs": [],
   "source": [
    "# Load parameters from YAML file\n",
    "with open('config/parameters.yml', 'r') as file:\n",
    "    param = yaml.safe_load(file)\n",
    "\n",
    "mu_max = param['mu_max']\n",
    "X_max = param['X_max']\n",
    "Ks = param['Ks']\n",
    "Ks_qs = param['Ks_qs']\n",
    "Ki = param['Ki']\n",
    "Yxs = param['Yxs']\n",
    "qs_max = param['qs_max']\n",
    "m_s = param['m_s']\n",
    "lag = param['lag']"
   ]
  },
  {
   "attachments": {},
   "cell_type": "markdown",
   "metadata": {},
   "source": [
    "##### 2. Define all possible equations for mu and qs"
   ]
  },
  {
   "cell_type": "code",
   "execution_count": 21,
   "metadata": {},
   "outputs": [],
   "source": [
    "# -- MONOD / insert: mu_max, c_glucose, Ks\n",
    "mu0 = lambda mu_max, c_glucose, Ks: mu_max * c_glucose / (c_glucose + Ks)\n",
    "# -- LOGISTIC / insert: mu_max, c_biomass, X_max\n",
    "mu1 = lambda mu_max, c_biomass, X_max: mu_max * (1 - (c_biomass/ X_max)) \n",
    "# -- MONOD + LOGISTIC / insert: mu_max, c_glucose, Ks, c_biomass, X_max\n",
    "mu2 = lambda mu_max, c_glucose, Ks, c_biomass, X_max: mu_max * (c_glucose / (c_glucose + Ks)) * (1 - (c_biomass/ X_max))\n",
    "# -- MONOD + LOGISTIC + INHIBITION / insert: mu_max, c_glucose, Ks, Ki, c_biomass, X_max\n",
    "mu3 = lambda mu_max, c_glucose, Ks, Ki, c_biomass, X_max: mu_max * (c_glucose / (c_glucose + Ks + (c_glucose**2/ Ki))) * (1 - (c_biomass/ X_max))"
   ]
  },
  {
   "cell_type": "code",
   "execution_count": 22,
   "metadata": {},
   "outputs": [],
   "source": [
    "# -- MONOD / insert: qs_max, c_glucose, Ks_qs\n",
    "qs0 = lambda qs_max, c_glucose, Ks_qs: qs_max * c_glucose / (Ks_qs + c_glucose)\n",
    "# -- MONOD + NON COMPETITIVE INHIBITION / insert: qs_max, c_glucose, Ks_qs, Ki, glu_met\n",
    "qs1 = lambda qs_max, c_glucose, Ks_qs, Ki, glu_met: qs_max * c_glucose / (Ks_qs + c_glucose) * (Ki / (Ki + glu_met))\n",
    "# -- YIELD / insert: Yxs, f_glucose, V\n",
    "qs2 = lambda Yxs, f_glucose, V: 1/Yxs * f_glucose / V #NOT SURE IF CORRECT because g_S/g_X but not per h\n",
    "# -- MONOD + METABOLIZED GLU / insert: qs_max, c_glucose, Ks_qs, glu_met, lag\n",
    "qs3 = lambda qs_max, c_glucose, Ks_qs, glu_met, lag: qs_max * c_glucose / (Ks_qs + c_glucose) * (1 / (np.exp(glu_met * lag)))"
   ]
  },
  {
   "cell_type": "code",
   "execution_count": 23,
   "metadata": {},
   "outputs": [],
   "source": [
    "mu_all=[mu0, mu1, mu2, mu3]\n",
    "qs_all=[qs0, qs1, qs2, qs3]"
   ]
  },
  {
   "attachments": {},
   "cell_type": "markdown",
   "metadata": {},
   "source": [
    "##### 3. Define functions that are needed"
   ]
  },
  {
   "cell_type": "code",
   "execution_count": 24,
   "metadata": {},
   "outputs": [],
   "source": [
    "# Root mean squared error is the objective function\n",
    "def objective_function(parameters, mu_eq, num_mu, qs_eq, num_qs):\n",
    "    # Solve the model using the optimal parameters\n",
    "    time_pred, biomass_pred, substrate_pred, volume_pred = model_optimization(param, parameters, mu_eq, num_mu, qs_eq, num_qs)  # Solve the model using the current parameters\n",
    "    biomass = pd.concat([biomass_exp, pd.Series(biomass_pred)], axis=1, keys=['biomass_exp', 'biomass_pred']).dropna()\n",
    "    biomass_exp_ = biomass['biomass_exp'].values\n",
    "    biomass_pred_ = biomass['biomass_pred'].values\n",
    "    mse_x = mean_squared_error(biomass_exp_, biomass_pred_)  # Calculate mean squared error for biomass\n",
    "\n",
    "    glucose = pd.concat([substrate_exp, pd.Series(substrate_pred)], axis=1, keys=['substrate_exp', 'substrate_pred']).dropna()\n",
    "    substrate_exp_ = glucose['substrate_exp'].values\n",
    "    substrate_pred_ = glucose['substrate_pred'].values\n",
    "    mse_s = mean_squared_error(substrate_exp_, substrate_pred_)  # Calculate mean squared error for substrate\n",
    "    \n",
    "    # Calculate the combined rmse\n",
    "    mse = (mse_x + mse_s)/2\n",
    "    rmse = np.sqrt(mse)  # Calculate root mean squared error\n",
    "    return rmse, time_pred, biomass_pred, substrate_pred, volume_pred"
   ]
  },
  {
   "attachments": {},
   "cell_type": "markdown",
   "metadata": {},
   "source": [
    "##### 4. Define set of parameters in config file"
   ]
  },
  {
   "cell_type": "code",
   "execution_count": 25,
   "metadata": {},
   "outputs": [],
   "source": [
    "# Extract the parameter combination and the number of the set in order to save it in the correct folder\n",
    "est_mu_max = param['est_mu_max'] # ['set0']\n",
    "est_Ks = param['est_ks']"
   ]
  },
  {
   "cell_type": "code",
   "execution_count": 26,
   "metadata": {},
   "outputs": [],
   "source": [
    "# Set the number of samples and parameters\n",
    "num_samples = 100\n",
    "num_parameters = 9\n",
    "\n",
    "# Define the ranges for each parameter\n",
    "parameter_bounds = [\n",
    "    [0.01, 0.6],    # Range for parameter 1 mu_max\n",
    "    [18, 25],       # Range for parameter 2 X_max\n",
    "    [0.1, 10.0],    # Range for parameter 3 - Ks\n",
    "    [0.01, 0.1],    # Range for parameter 4 - Ks_qs\n",
    "    [6.0, 8.0],     # Range for parameter 5 - Ki\n",
    "    [0.4, 0.5],     # Range for parameter 6 - Yxs\n",
    "    [0.5, 1.5],     # Range for parameter 7 - qs_max\n",
    "    [0.05, 0.15],   # Range for parameter 8 - m_s\n",
    "    [0.001, 0.02],    # Range for parameter 9 - lag\n",
    "]"
   ]
  },
  {
   "cell_type": "code",
   "execution_count": 27,
   "metadata": {},
   "outputs": [
    {
     "data": {
      "text/plain": [
       "(100, 9)"
      ]
     },
     "execution_count": 27,
     "metadata": {},
     "output_type": "execute_result"
    }
   ],
   "source": [
    "LHS_samples = get_LHS_samples(num_samples, num_parameters, parameter_bounds)\n",
    "LHS_samples.shape"
   ]
  },
  {
   "attachments": {},
   "cell_type": "markdown",
   "metadata": {},
   "source": [
    "##### 5. Run it"
   ]
  },
  {
   "cell_type": "code",
   "execution_count": 29,
   "metadata": {},
   "outputs": [
    {
     "name": "stdout",
     "output_type": "stream",
     "text": [
      "[0.1485238478336399, 22.293301608131287, 9.870131827970152, 0.08120136377981549, 7.010735086121652, 0.46505263310132033, 1.2707492630192125, 0.14290283536057755, 0.012808668246171703]\n"
     ]
    },
    {
     "name": "stderr",
     "output_type": "stream",
     "text": [
      "C:\\Users\\dxp2904\\AppData\\Local\\Temp\\ipykernel_13944\\465046859.py:8: RuntimeWarning: overflow encountered in exp\n",
      "  qs3 = lambda qs_max, c_glucose, Ks_qs, glu_met, lag: qs_max * c_glucose / (Ks_qs + c_glucose) * (1 / (np.exp(glu_met * lag)))\n"
     ]
    },
    {
     "name": "stdout",
     "output_type": "stream",
     "text": [
      "[0.3203148688136113, 19.58582572354488, 0.4832295681056016, 0.022120926625127227, 6.329364487978653, 0.41126209558748084, 0.8050920894514602, 0.14495247685821577, 0.011153158556868]\n",
      "[0.542857164617334, 20.25897667024924, 3.352407629259761, 0.08091578962980754, 6.985637429253727, 0.40456470902946845, 0.8974786888695617, 0.0655756214704503, 0.008454560907614352]\n",
      "[0.4409398042063017, 18.364935282136916, 1.6153110571787128, 0.054500766559563714, 6.712595022727813, 0.4754819237308886, 1.085994966811608, 0.10897190293925668, 0.005349419962728184]\n"
     ]
    },
    {
     "name": "stderr",
     "output_type": "stream",
     "text": [
      "C:\\Users\\dxp2904\\AppData\\Local\\Temp\\ipykernel_13944\\465046859.py:8: RuntimeWarning: overflow encountered in exp\n",
      "  qs3 = lambda qs_max, c_glucose, Ks_qs, glu_met, lag: qs_max * c_glucose / (Ks_qs + c_glucose) * (1 / (np.exp(glu_met * lag)))\n"
     ]
    },
    {
     "name": "stdout",
     "output_type": "stream",
     "text": [
      "[0.397751227589453, 23.067518192861684, 2.4520581474194585, 0.01618395116586707, 6.780164662471706, 0.4831594026649274, 0.7913392644382143, 0.06388572247416505, 0.014114872661511603]\n"
     ]
    },
    {
     "name": "stderr",
     "output_type": "stream",
     "text": [
      "C:\\Users\\dxp2904\\AppData\\Local\\Temp\\ipykernel_13944\\465046859.py:8: RuntimeWarning: overflow encountered in exp\n",
      "  qs3 = lambda qs_max, c_glucose, Ks_qs, glu_met, lag: qs_max * c_glucose / (Ks_qs + c_glucose) * (1 / (np.exp(glu_met * lag)))\n"
     ]
    },
    {
     "name": "stdout",
     "output_type": "stream",
     "text": [
      "[0.5471366137938843, 23.167384830969702, 9.737428157468, 0.06983539395027044, 7.9850637467379855, 0.4971130818477873, 0.5988110486051784, 0.08790649335193336, 0.013169225389147433]\n",
      "[0.32434671335417375, 21.311932006560983, 5.760750085635212, 0.07543440925450229, 7.376142415328431, 0.4869868581882326, 1.3288664206012206, 0.09390071723875146, 0.016422834167891413]\n"
     ]
    },
    {
     "name": "stderr",
     "output_type": "stream",
     "text": [
      "C:\\Users\\dxp2904\\AppData\\Local\\Temp\\ipykernel_13944\\465046859.py:8: RuntimeWarning: overflow encountered in exp\n",
      "  qs3 = lambda qs_max, c_glucose, Ks_qs, glu_met, lag: qs_max * c_glucose / (Ks_qs + c_glucose) * (1 / (np.exp(glu_met * lag)))\n"
     ]
    },
    {
     "name": "stdout",
     "output_type": "stream",
     "text": [
      "[0.10470378225928595, 21.217041199536823, 0.8418030199716963, 0.06821659384639699, 7.088912355662015, 0.4633012555551229, 1.485872591525883, 0.10552517245131618, 0.0013394060424852785]\n"
     ]
    },
    {
     "name": "stderr",
     "output_type": "stream",
     "text": [
      "C:\\Users\\dxp2904\\AppData\\Local\\Temp\\ipykernel_13944\\465046859.py:8: RuntimeWarning: overflow encountered in exp\n",
      "  qs3 = lambda qs_max, c_glucose, Ks_qs, glu_met, lag: qs_max * c_glucose / (Ks_qs + c_glucose) * (1 / (np.exp(glu_met * lag)))\n"
     ]
    },
    {
     "name": "stdout",
     "output_type": "stream",
     "text": [
      "[0.5390042602853251, 21.148517077692503, 8.696644955933634, 0.012008337411528399, 7.631398411748179, 0.43803771150909965, 1.3972023276757026, 0.13912369676878372, 0.0034092634840269895]\n"
     ]
    },
    {
     "name": "stderr",
     "output_type": "stream",
     "text": [
      "C:\\Users\\dxp2904\\AppData\\Local\\Temp\\ipykernel_13944\\465046859.py:8: RuntimeWarning: overflow encountered in exp\n",
      "  qs3 = lambda qs_max, c_glucose, Ks_qs, glu_met, lag: qs_max * c_glucose / (Ks_qs + c_glucose) * (1 / (np.exp(glu_met * lag)))\n"
     ]
    },
    {
     "name": "stdout",
     "output_type": "stream",
     "text": [
      "[0.5063223596298253, 24.518565409263278, 6.534937966862976, 0.08495710669422805, 6.880823044914094, 0.40569800184290944, 0.6442047203811333, 0.05991313975286018, 0.005963044300594502]\n",
      "[0.18779761175366258, 23.231282576378216, 5.198065232027087, 0.013143385444331327, 6.2019951154264445, 0.4039815409789432, 0.8293835973084014, 0.12519899939921902, 0.006258593373987817]\n",
      "[0.42025167694281224, 23.978104459339107, 4.020819038594351, 0.047864708045396206, 7.548158542887318, 0.4487560957743205, 0.6984753744681869, 0.07099151476608297, 0.014364337138809729]\n",
      "[0.5649275592923064, 21.93633923714687, 3.8724724356009963, 0.04626994296790066, 7.598695865347377, 0.4746094861020029, 1.2128151274525591, 0.05594885951550532, 0.013589441324009185]\n"
     ]
    },
    {
     "name": "stderr",
     "output_type": "stream",
     "text": [
      "C:\\Users\\dxp2904\\AppData\\Local\\Temp\\ipykernel_13944\\465046859.py:8: RuntimeWarning: overflow encountered in exp\n",
      "  qs3 = lambda qs_max, c_glucose, Ks_qs, glu_met, lag: qs_max * c_glucose / (Ks_qs + c_glucose) * (1 / (np.exp(glu_met * lag)))\n"
     ]
    },
    {
     "name": "stdout",
     "output_type": "stream",
     "text": [
      "[0.3447379098478795, 18.951334105813494, 5.252839780997622, 0.049184745117778525, 6.01387523772004, 0.4697540188250338, 1.069389617522217, 0.13373566051750907, 0.014026782427009072]\n"
     ]
    },
    {
     "name": "stderr",
     "output_type": "stream",
     "text": [
      "C:\\Users\\dxp2904\\AppData\\Local\\Temp\\ipykernel_13944\\465046859.py:8: RuntimeWarning: overflow encountered in exp\n",
      "  qs3 = lambda qs_max, c_glucose, Ks_qs, glu_met, lag: qs_max * c_glucose / (Ks_qs + c_glucose) * (1 / (np.exp(glu_met * lag)))\n"
     ]
    },
    {
     "name": "stdout",
     "output_type": "stream",
     "text": [
      "[0.030623625352363362, 20.95367741229476, 4.944204194025461, 0.027045013444268455, 7.152844456915954, 0.41738321288524116, 0.6622854800818405, 0.0908495673847668, 0.018267688337600452]\n",
      "[0.16385740691356207, 21.683132171500983, 2.303382485700642, 0.08701326149926068, 6.13977018503462, 0.4723548727128405, 0.6859875457466204, 0.0910206805356583, 0.007513705005236769]\n",
      "[0.2519690632464833, 22.236720601039686, 5.115038927042312, 0.09657809342083677, 6.188914695158584, 0.4494142157184149, 1.0007643298224465, 0.11708075991887916, 0.017933887412870886]\n"
     ]
    },
    {
     "name": "stderr",
     "output_type": "stream",
     "text": [
      "C:\\Users\\dxp2904\\AppData\\Local\\Temp\\ipykernel_13944\\465046859.py:8: RuntimeWarning: overflow encountered in exp\n",
      "  qs3 = lambda qs_max, c_glucose, Ks_qs, glu_met, lag: qs_max * c_glucose / (Ks_qs + c_glucose) * (1 / (np.exp(glu_met * lag)))\n"
     ]
    },
    {
     "name": "stdout",
     "output_type": "stream",
     "text": [
      "[0.5999353318626318, 18.00924306852243, 7.184480019530923, 0.06682810051557883, 7.867284083437194, 0.491427901272238, 0.957475427149323, 0.05029604102778945, 0.015117764329366071]\n"
     ]
    },
    {
     "name": "stderr",
     "output_type": "stream",
     "text": [
      "C:\\Users\\dxp2904\\AppData\\Local\\Temp\\ipykernel_13944\\465046859.py:8: RuntimeWarning: overflow encountered in exp\n",
      "  qs3 = lambda qs_max, c_glucose, Ks_qs, glu_met, lag: qs_max * c_glucose / (Ks_qs + c_glucose) * (1 / (np.exp(glu_met * lag)))\n"
     ]
    },
    {
     "name": "stdout",
     "output_type": "stream",
     "text": [
      "[0.07904927531753254, 19.78131229411622, 8.26622218515747, 0.018376711687077902, 6.948670195330511, 0.44620860032750304, 0.7786387159794611, 0.11806155645505764, 0.0077301961062430985]\n",
      "[0.4852597002566521, 18.57095805728927, 2.6906451364743385, 0.02578077635268944, 7.973475164500572, 0.429225539433909, 1.221339687641447, 0.14144044164817604, 0.004606463010128769]\n"
     ]
    },
    {
     "name": "stderr",
     "output_type": "stream",
     "text": [
      "C:\\Users\\dxp2904\\AppData\\Local\\Temp\\ipykernel_13944\\465046859.py:8: RuntimeWarning: overflow encountered in exp\n",
      "  qs3 = lambda qs_max, c_glucose, Ks_qs, glu_met, lag: qs_max * c_glucose / (Ks_qs + c_glucose) * (1 / (np.exp(glu_met * lag)))\n"
     ]
    },
    {
     "name": "stdout",
     "output_type": "stream",
     "text": [
      "[0.2661361840070942, 22.165470020123525, 4.653568174249155, 0.04150025615695576, 7.321463682765744, 0.49628601883604556, 1.0964197891198908, 0.07169688716114951, 0.0159953459249158]\n"
     ]
    },
    {
     "name": "stderr",
     "output_type": "stream",
     "text": [
      "C:\\Users\\dxp2904\\AppData\\Local\\Temp\\ipykernel_13944\\465046859.py:8: RuntimeWarning: overflow encountered in exp\n",
      "  qs3 = lambda qs_max, c_glucose, Ks_qs, glu_met, lag: qs_max * c_glucose / (Ks_qs + c_glucose) * (1 / (np.exp(glu_met * lag)))\n"
     ]
    },
    {
     "name": "stdout",
     "output_type": "stream",
     "text": [
      "[0.5715757373664734, 23.661972213237156, 0.9973275723379377, 0.07074208914732374, 7.945285600602075, 0.49300288702386247, 0.9726450970641023, 0.06232586000040709, 0.008967797998970833]\n",
      "[0.019616101336462473, 18.137985218711624, 3.120574502845957, 0.05773677457367406, 7.5298986277388, 0.4451883794393634, 0.6241732671254626, 0.12813405069233674, 0.00409099498960274]\n",
      "[0.23739468144912795, 24.279944683584404, 3.061520643402668, 0.0746579527707849, 6.7769758858192555, 0.45919799855508125, 0.8809420294568602, 0.06448094241416669, 0.008256620785646734]\n",
      "[0.4318855588191018, 22.562524256416047, 3.4914133006297203, 0.08330807355133943, 6.608980292072637, 0.48023862689874813, 1.106669848552601, 0.1364209458168304, 0.008753258924219909]\n"
     ]
    },
    {
     "name": "stderr",
     "output_type": "stream",
     "text": [
      "C:\\Users\\dxp2904\\AppData\\Local\\Temp\\ipykernel_13944\\465046859.py:8: RuntimeWarning: overflow encountered in exp\n",
      "  qs3 = lambda qs_max, c_glucose, Ks_qs, glu_met, lag: qs_max * c_glucose / (Ks_qs + c_glucose) * (1 / (np.exp(glu_met * lag)))\n"
     ]
    },
    {
     "name": "stdout",
     "output_type": "stream",
     "text": [
      "[0.07279167940185736, 22.807868607382332, 0.9459815888670723, 0.08767743202270825, 6.472500389424065, 0.47920011350179925, 1.1819690343214169, 0.08495746634917156, 0.015602402949325168]\n"
     ]
    },
    {
     "name": "stderr",
     "output_type": "stream",
     "text": [
      "C:\\Users\\dxp2904\\AppData\\Local\\Temp\\ipykernel_13944\\465046859.py:8: RuntimeWarning: overflow encountered in exp\n",
      "  qs3 = lambda qs_max, c_glucose, Ks_qs, glu_met, lag: qs_max * c_glucose / (Ks_qs + c_glucose) * (1 / (np.exp(glu_met * lag)))\n"
     ]
    },
    {
     "name": "stdout",
     "output_type": "stream",
     "text": [
      "[0.2868528326849605, 19.421219829866963, 0.7144511438894325, 0.0953253902562877, 6.108961926816615, 0.4907472553926162, 0.676160032024427, 0.054178263051771564, 0.018812987930801293]\n",
      "[0.4122557019393196, 20.87572730124192, 2.6244426049942473, 0.01926940670034042, 6.642066142251599, 0.4519259596118673, 0.7026621318727602, 0.08851944519789955, 0.016980781690729026]\n",
      "[0.1292369444735999, 20.71017484932042, 1.3170310817088202, 0.05227976648372866, 7.6458760728566215, 0.44456133926762936, 1.0527466206719773, 0.10755408142772446, 0.017230754679216503]\n"
     ]
    },
    {
     "name": "stderr",
     "output_type": "stream",
     "text": [
      "C:\\Users\\dxp2904\\AppData\\Local\\Temp\\ipykernel_13944\\465046859.py:8: RuntimeWarning: overflow encountered in exp\n",
      "  qs3 = lambda qs_max, c_glucose, Ks_qs, glu_met, lag: qs_max * c_glucose / (Ks_qs + c_glucose) * (1 / (np.exp(glu_met * lag)))\n"
     ]
    },
    {
     "name": "stdout",
     "output_type": "stream",
     "text": [
      "[0.4943475629508032, 20.571292337299614, 6.073013422518287, 0.028899320895237578, 6.502412389931111, 0.44074589861336705, 0.714686015214152, 0.08671398493743374, 0.013477021669403878]\n",
      "[0.404401084777144, 20.383251350942047, 4.973143517585772, 0.05378285946588627, 6.058858162821558, 0.42227734059456196, 0.8559181303732417, 0.10482009929954608, 0.006442874139220344]\n",
      "[0.11248966558103868, 18.520366218657156, 5.595015657152168, 0.09829663817228462, 7.340504607935702, 0.4611780526012289, 0.9833149220400892, 0.12366141183537681, 0.01844527653863129]\n"
     ]
    },
    {
     "name": "stderr",
     "output_type": "stream",
     "text": [
      "C:\\Users\\dxp2904\\AppData\\Local\\Temp\\ipykernel_13944\\465046859.py:8: RuntimeWarning: overflow encountered in exp\n",
      "  qs3 = lambda qs_max, c_glucose, Ks_qs, glu_met, lag: qs_max * c_glucose / (Ks_qs + c_glucose) * (1 / (np.exp(glu_met * lag)))\n"
     ]
    },
    {
     "name": "stdout",
     "output_type": "stream",
     "text": [
      "[0.10341455166644763, 24.112791248099768, 8.924578548837204, 0.09607214828067369, 7.779743235074957, 0.487105514271845, 1.0419234607225938, 0.13737369231588625, 0.005414028058203749]\n",
      "[0.40626740893341984, 22.830646371596792, 7.355251168563781, 0.07713841002640595, 6.5449821369763885, 0.4307721297625251, 0.9949658063629686, 0.0780579103808127, 0.005607413674444089]\n",
      "[0.37199466729415653, 22.129685243733288, 3.8164935940780795, 0.07932092171686246, 6.752470104925733, 0.4238862395187968, 1.3350818070399852, 0.05153895026425344, 0.006888755254152854]\n"
     ]
    },
    {
     "name": "stderr",
     "output_type": "stream",
     "text": [
      "C:\\Users\\dxp2904\\AppData\\Local\\Temp\\ipykernel_13944\\465046859.py:8: RuntimeWarning: overflow encountered in exp\n",
      "  qs3 = lambda qs_max, c_glucose, Ks_qs, glu_met, lag: qs_max * c_glucose / (Ks_qs + c_glucose) * (1 / (np.exp(glu_met * lag)))\n"
     ]
    },
    {
     "name": "stdout",
     "output_type": "stream",
     "text": [
      "[0.26269562107204425, 22.498128055344107, 6.621904415963009, 0.05078633780041335, 7.561506103610807, 0.4731612693972211, 1.2414264629535026, 0.12974502763753926, 0.003688029625898785]\n"
     ]
    },
    {
     "name": "stderr",
     "output_type": "stream",
     "text": [
      "C:\\Users\\dxp2904\\AppData\\Local\\Temp\\ipykernel_13944\\465046859.py:8: RuntimeWarning: overflow encountered in exp\n",
      "  qs3 = lambda qs_max, c_glucose, Ks_qs, glu_met, lag: qs_max * c_glucose / (Ks_qs + c_glucose) * (1 / (np.exp(glu_met * lag)))\n"
     ]
    },
    {
     "name": "stdout",
     "output_type": "stream",
     "text": [
      "[0.02681408723161923, 24.788445167589778, 6.700358263638761, 0.04556629777433397, 6.846918339232077, 0.428036740426542, 0.5647519966698116, 0.05773069370597466, 0.007138769885881429]\n",
      "[0.48816781739580506, 23.8009679223409, 8.412713471754866, 0.07903668955661208, 7.675735147913409, 0.46848094254154904, 1.0103648709071975, 0.06049095701681572, 0.004689095238390016]\n",
      "[0.08099521815468982, 23.034259493471765, 1.9083924007600634, 0.010676704440131697, 6.867402593341237, 0.45223093541074133, 0.5876567656677186, 0.10668687046253517, 0.005145611186595017]\n",
      "[0.5045358737410591, 24.203870342807768, 6.893309226734996, 0.04712723955729283, 6.0966765972047625, 0.43324633139263374, 0.6163250210346778, 0.1341275331588267, 0.010337242411509025]\n",
      "[0.22699658506933965, 21.03364540597259, 3.42062780647077, 0.04062058956411822, 7.8974112079333905, 0.4159649082823937, 1.3194977884076184, 0.07440538036022819, 0.01973918037430159]\n"
     ]
    },
    {
     "name": "stderr",
     "output_type": "stream",
     "text": [
      "C:\\Users\\dxp2904\\AppData\\Local\\Temp\\ipykernel_13944\\465046859.py:8: RuntimeWarning: overflow encountered in exp\n",
      "  qs3 = lambda qs_max, c_glucose, Ks_qs, glu_met, lag: qs_max * c_glucose / (Ks_qs + c_glucose) * (1 / (np.exp(glu_met * lag)))\n"
     ]
    },
    {
     "name": "stdout",
     "output_type": "stream",
     "text": [
      "[0.1169709637460663, 24.432191018382618, 8.873401878017916, 0.040463396232778254, 7.269681340109266, 0.4777486067661881, 0.8469673427519355, 0.11104572051880887, 0.017812040477293078]\n"
     ]
    },
    {
     "name": "stderr",
     "output_type": "stream",
     "text": [
      "C:\\Users\\dxp2904\\AppData\\Local\\Temp\\ipykernel_13944\\465046859.py:8: RuntimeWarning: overflow encountered in exp\n",
      "  qs3 = lambda qs_max, c_glucose, Ks_qs, glu_met, lag: qs_max * c_glucose / (Ks_qs + c_glucose) * (1 / (np.exp(glu_met * lag)))\n"
     ]
    },
    {
     "name": "stdout",
     "output_type": "stream",
     "text": [
      "[0.04130314009155446, 21.9058034719715, 4.516159824370235, 0.06494938119218918, 6.2676940938383146, 0.4247312240617379, 1.4407517157560745, 0.11607129555419642, 0.009739858882177203]\n"
     ]
    },
    {
     "name": "stderr",
     "output_type": "stream",
     "text": [
      "C:\\Users\\dxp2904\\AppData\\Local\\Temp\\ipykernel_13944\\465046859.py:8: RuntimeWarning: overflow encountered in exp\n",
      "  qs3 = lambda qs_max, c_glucose, Ks_qs, glu_met, lag: qs_max * c_glucose / (Ks_qs + c_glucose) * (1 / (np.exp(glu_met * lag)))\n"
     ]
    },
    {
     "name": "stdout",
     "output_type": "stream",
     "text": [
      "[0.2456306030354576, 23.448560283702648, 3.5750760182396935, 0.016641355827869672, 6.150391349529039, 0.49555362520468327, 1.4074270126708939, 0.14304102521972856, 0.0028522432427296766]\n"
     ]
    },
    {
     "name": "stderr",
     "output_type": "stream",
     "text": [
      "C:\\Users\\dxp2904\\AppData\\Local\\Temp\\ipykernel_13944\\465046859.py:8: RuntimeWarning: overflow encountered in exp\n",
      "  qs3 = lambda qs_max, c_glucose, Ks_qs, glu_met, lag: qs_max * c_glucose / (Ks_qs + c_glucose) * (1 / (np.exp(glu_met * lag)))\n"
     ]
    },
    {
     "name": "stdout",
     "output_type": "stream",
     "text": [
      "[0.045589038388679996, 18.863761325143706, 0.6127383937276963, 0.014599306639268051, 7.704938380948443, 0.4887275895388567, 0.8690428341546652, 0.13105066237885515, 0.01669784298225881]\n"
     ]
    },
    {
     "name": "stderr",
     "output_type": "stream",
     "text": [
      "C:\\Users\\dxp2904\\AppData\\Local\\Temp\\ipykernel_13944\\465046859.py:8: RuntimeWarning: overflow encountered in exp\n",
      "  qs3 = lambda qs_max, c_glucose, Ks_qs, glu_met, lag: qs_max * c_glucose / (Ks_qs + c_glucose) * (1 / (np.exp(glu_met * lag)))\n"
     ]
    },
    {
     "name": "stdout",
     "output_type": "stream",
     "text": [
      "[0.21835554337607965, 18.65907682864327, 1.2103805632792877, 0.05504731978481899, 6.178526871281655, 0.4540243889753357, 0.7238493188842342, 0.07623613438745146, 0.01217830626156137]\n",
      "[0.29466285033549866, 24.328006737758344, 7.590767424332501, 0.031362457890111294, 6.915260818436793, 0.4323564221314859, 0.5098901353275098, 0.07789130181807427, 0.007315253761638205]\n",
      "[0.3083921933492956, 19.62985708120782, 6.950527724274276, 0.06270688066883764, 6.6691615006405645, 0.43592904767164914, 1.2076803875426108, 0.11374018263585978, 0.003129888531794599]\n"
     ]
    },
    {
     "name": "stderr",
     "output_type": "stream",
     "text": [
      "C:\\Users\\dxp2904\\AppData\\Local\\Temp\\ipykernel_13944\\465046859.py:8: RuntimeWarning: overflow encountered in exp\n",
      "  qs3 = lambda qs_max, c_glucose, Ks_qs, glu_met, lag: qs_max * c_glucose / (Ks_qs + c_glucose) * (1 / (np.exp(glu_met * lag)))\n"
     ]
    },
    {
     "name": "stdout",
     "output_type": "stream",
     "text": [
      "[0.13986576638377446, 23.4638116259144, 6.253094420987306, 0.027281318216998668, 7.919310224917916, 0.42086335212720716, 1.160831012932886, 0.12008791271709719, 0.012482764132684041]\n"
     ]
    },
    {
     "name": "stderr",
     "output_type": "stream",
     "text": [
      "C:\\Users\\dxp2904\\AppData\\Local\\Temp\\ipykernel_13944\\465046859.py:8: RuntimeWarning: overflow encountered in exp\n",
      "  qs3 = lambda qs_max, c_glucose, Ks_qs, glu_met, lag: qs_max * c_glucose / (Ks_qs + c_glucose) * (1 / (np.exp(glu_met * lag)))\n"
     ]
    },
    {
     "name": "stdout",
     "output_type": "stream",
     "text": [
      "[0.45622502858298497, 22.019319184802836, 3.6852584635481787, 0.09100117850273694, 6.0671566356517115, 0.4704215356155518, 0.9041029401941048, 0.052682286638641704, 0.002649361411995535]\n",
      "[0.3036686744732037, 18.775359402809784, 6.35393235564304, 0.05960506600922169, 7.721722195789169, 0.4341563442556727, 1.4554754792363243, 0.06799801995360136, 0.019402686888536864]\n"
     ]
    },
    {
     "name": "stderr",
     "output_type": "stream",
     "text": [
      "C:\\Users\\dxp2904\\AppData\\Local\\Temp\\ipykernel_13944\\465046859.py:8: RuntimeWarning: overflow encountered in exp\n",
      "  qs3 = lambda qs_max, c_glucose, Ks_qs, glu_met, lag: qs_max * c_glucose / (Ks_qs + c_glucose) * (1 / (np.exp(glu_met * lag)))\n"
     ]
    },
    {
     "name": "stdout",
     "output_type": "stream",
     "text": [
      "[0.5837850392708485, 21.715907420730566, 7.960015372222307, 0.03872476874303523, 7.301451802307708, 0.45390886059522767, 0.5707764277285212, 0.08059132502445569, 0.011413599679606694]\n",
      "[0.18382905436620262, 21.486865599899925, 9.162793029131402, 0.09446329597960844, 7.842436128907236, 0.48531801458494817, 0.9665236911007258, 0.1241024150155196, 0.012212443201232888]\n",
      "[0.3815256719598825, 19.342724004811597, 7.05652557194076, 0.04459641539812803, 6.293650684284661, 0.41640718159934303, 1.1732030623842835, 0.056654645323866736, 0.004343393042451531]\n"
     ]
    },
    {
     "name": "stderr",
     "output_type": "stream",
     "text": [
      "C:\\Users\\dxp2904\\AppData\\Local\\Temp\\ipykernel_13944\\465046859.py:8: RuntimeWarning: overflow encountered in exp\n",
      "  qs3 = lambda qs_max, c_glucose, Ks_qs, glu_met, lag: qs_max * c_glucose / (Ks_qs + c_glucose) * (1 / (np.exp(glu_met * lag)))\n"
     ]
    },
    {
     "name": "stdout",
     "output_type": "stream",
     "text": [
      "[0.13669939496667122, 18.216403217500186, 0.5355889653838167, 0.07600947492430458, 6.491255293692918, 0.4500123822561774, 1.430207138323437, 0.11082021135926137, 0.016074094420799833]\n"
     ]
    },
    {
     "name": "stderr",
     "output_type": "stream",
     "text": [
      "C:\\Users\\dxp2904\\AppData\\Local\\Temp\\ipykernel_13944\\465046859.py:8: RuntimeWarning: overflow encountered in exp\n",
      "  qs3 = lambda qs_max, c_glucose, Ks_qs, glu_met, lag: qs_max * c_glucose / (Ks_qs + c_glucose) * (1 / (np.exp(glu_met * lag)))\n"
     ]
    },
    {
     "name": "stdout",
     "output_type": "stream",
     "text": [
      "[0.28980835604750366, 22.734735141667755, 4.389651171250432, 0.09233686497369295, 6.805547344062882, 0.44172344250750445, 0.600005712295463, 0.06622420715858905, 0.011555228732979123]\n",
      "[0.27717660018154805, 24.486202018615224, 2.1533430036457286, 0.06093643241890906, 7.680731319940186, 0.4432211751928218, 1.3702719116291897, 0.06996972178905315, 0.0015595146505267446]\n"
     ]
    },
    {
     "name": "stderr",
     "output_type": "stream",
     "text": [
      "C:\\Users\\dxp2904\\AppData\\Local\\Temp\\ipykernel_13944\\465046859.py:8: RuntimeWarning: overflow encountered in exp\n",
      "  qs3 = lambda qs_max, c_glucose, Ks_qs, glu_met, lag: qs_max * c_glucose / (Ks_qs + c_glucose) * (1 / (np.exp(glu_met * lag)))\n"
     ]
    },
    {
     "name": "stdout",
     "output_type": "stream",
     "text": [
      "[0.5562349728411725, 24.913840836965754, 9.584138442647872, 0.0713522357236495, 7.229501744738002, 0.48205762960895865, 0.8305574892639386, 0.07207526437728189, 0.013084209811871323]\n",
      "[0.4286364142245643, 20.852441220139823, 9.620952323899386, 0.058947948674471326, 6.523067788533127, 0.4427852189223747, 1.4977233887727528, 0.12626567196413102, 0.0020451895335127854]\n"
     ]
    },
    {
     "name": "stderr",
     "output_type": "stream",
     "text": [
      "C:\\Users\\dxp2904\\AppData\\Local\\Temp\\ipykernel_13944\\465046859.py:8: RuntimeWarning: overflow encountered in exp\n",
      "  qs3 = lambda qs_max, c_glucose, Ks_qs, glu_met, lag: qs_max * c_glucose / (Ks_qs + c_glucose) * (1 / (np.exp(glu_met * lag)))\n"
     ]
    },
    {
     "name": "stdout",
     "output_type": "stream",
     "text": [
      "[0.15184224811977703, 21.610649514582388, 1.8493661288732914, 0.07796244353529821, 7.402748800311494, 0.49958505107830686, 1.1361572394511357, 0.12175812841901047, 0.017414288796847775]\n"
     ]
    },
    {
     "name": "stderr",
     "output_type": "stream",
     "text": [
      "C:\\Users\\dxp2904\\AppData\\Local\\Temp\\ipykernel_13944\\465046859.py:8: RuntimeWarning: overflow encountered in exp\n",
      "  qs3 = lambda qs_max, c_glucose, Ks_qs, glu_met, lag: qs_max * c_glucose / (Ks_qs + c_glucose) * (1 / (np.exp(glu_met * lag)))\n"
     ]
    },
    {
     "name": "stdout",
     "output_type": "stream",
     "text": [
      "[0.33273552901433806, 19.937271156198392, 6.764213320072164, 0.018078639806806428, 6.458075705442764, 0.4767728810566495, 0.5507520263679522, 0.10045825290212643, 0.003007346190450471]\n",
      "[0.38352666231059285, 19.272758401623225, 7.441128802201234, 0.06480258361716018, 7.475118639607343, 0.41809259352371164, 0.9177597527777817, 0.11224831099442958, 0.018563344718917945]\n"
     ]
    },
    {
     "name": "stderr",
     "output_type": "stream",
     "text": [
      "C:\\Users\\dxp2904\\AppData\\Local\\Temp\\ipykernel_13944\\465046859.py:8: RuntimeWarning: overflow encountered in exp\n",
      "  qs3 = lambda qs_max, c_glucose, Ks_qs, glu_met, lag: qs_max * c_glucose / (Ks_qs + c_glucose) * (1 / (np.exp(glu_met * lag)))\n"
     ]
    },
    {
     "name": "stdout",
     "output_type": "stream",
     "text": [
      "[0.34730796443711776, 22.67966704913008, 2.7781797422410244, 0.039303549084135504, 6.419215014549403, 0.4668884088428482, 0.9250494657981891, 0.09453622431363426, 0.001635688098855555]\n",
      "[0.2736820415533154, 19.21252905949789, 8.55511262200184, 0.09365734434826604, 7.9298630324139205, 0.40739458072631396, 1.0383501290168402, 0.10126437948053399, 0.019176043128883203]\n"
     ]
    },
    {
     "name": "stderr",
     "output_type": "stream",
     "text": [
      "C:\\Users\\dxp2904\\AppData\\Local\\Temp\\ipykernel_13944\\465046859.py:8: RuntimeWarning: overflow encountered in exp\n",
      "  qs3 = lambda qs_max, c_glucose, Ks_qs, glu_met, lag: qs_max * c_glucose / (Ks_qs + c_glucose) * (1 / (np.exp(glu_met * lag)))\n"
     ]
    },
    {
     "name": "stdout",
     "output_type": "stream",
     "text": [
      "[0.33985417751815306, 18.433128422248668, 3.1720633830351503, 0.030681107023080773, 6.031352280609659, 0.46282300087435635, 0.5452562734559931, 0.09562991021031506, 0.007011977686962849]\n",
      "[0.03634354158249806, 22.928548922159994, 5.852639555395707, 0.023175810101798373, 7.383401358905486, 0.4607210405087551, 0.5380246760477086, 0.10955988852330176, 0.014824160244192218]\n",
      "[0.45148143715899075, 20.015915504271465, 8.175482262870803, 0.043182510211932305, 6.572094261288383, 0.4818362078722097, 0.7393012070747287, 0.11423028382287138, 0.010779427936575652]\n",
      "[0.21339297097369453, 24.816961684773833, 5.355336389546148, 0.0726493312977565, 7.051074297606984, 0.4251823523256664, 1.294372358025794, 0.12204468307236772, 0.005831001468062265]\n"
     ]
    },
    {
     "name": "stderr",
     "output_type": "stream",
     "text": [
      "C:\\Users\\dxp2904\\AppData\\Local\\Temp\\ipykernel_13944\\465046859.py:8: RuntimeWarning: overflow encountered in exp\n",
      "  qs3 = lambda qs_max, c_glucose, Ks_qs, glu_met, lag: qs_max * c_glucose / (Ks_qs + c_glucose) * (1 / (np.exp(glu_met * lag)))\n"
     ]
    },
    {
     "name": "stdout",
     "output_type": "stream",
     "text": [
      "[0.3679791288749544, 24.94801824074405, 0.22126977599427483, 0.09957998199062036, 6.306801525717741, 0.4022362412185588, 1.2362944334681505, 0.09695504364954793, 0.01677082457684557]\n"
     ]
    },
    {
     "name": "stderr",
     "output_type": "stream",
     "text": [
      "C:\\Users\\dxp2904\\AppData\\Local\\Temp\\ipykernel_13944\\465046859.py:8: RuntimeWarning: overflow encountered in exp\n",
      "  qs3 = lambda qs_max, c_glucose, Ks_qs, glu_met, lag: qs_max * c_glucose / (Ks_qs + c_glucose) * (1 / (np.exp(glu_met * lag)))\n"
     ]
    },
    {
     "name": "stdout",
     "output_type": "stream",
     "text": [
      "[0.05983226064284409, 20.095175346894223, 9.233024872885432, 0.08564955335932577, 6.972718517293728, 0.4717147224947516, 1.362065448004432, 0.061375916529890925, 0.009878361131306811]\n"
     ]
    },
    {
     "name": "stderr",
     "output_type": "stream",
     "text": [
      "C:\\Users\\dxp2904\\AppData\\Local\\Temp\\ipykernel_13944\\465046859.py:8: RuntimeWarning: overflow encountered in exp\n",
      "  qs3 = lambda qs_max, c_glucose, Ks_qs, glu_met, lag: qs_max * c_glucose / (Ks_qs + c_glucose) * (1 / (np.exp(glu_met * lag)))\n"
     ]
    },
    {
     "name": "stdout",
     "output_type": "stream",
     "text": [
      "[0.5225750783258817, 23.706577711730063, 9.10143184679461, 0.025098731664293987, 7.757176838777731, 0.4016996046390269, 0.5110150307983705, 0.14994232953314351, 0.018994241813616173]\n",
      "[0.3587865048197125, 24.584153581506136, 8.025903363065515, 0.06379169558557805, 6.690431170728381, 0.40030720685070065, 1.4238537439713594, 0.05814404790890841, 0.011912246877471264]\n"
     ]
    },
    {
     "name": "stderr",
     "output_type": "stream",
     "text": [
      "C:\\Users\\dxp2904\\AppData\\Local\\Temp\\ipykernel_13944\\465046859.py:8: RuntimeWarning: overflow encountered in exp\n",
      "  qs3 = lambda qs_max, c_glucose, Ks_qs, glu_met, lag: qs_max * c_glucose / (Ks_qs + c_glucose) * (1 / (np.exp(glu_met * lag)))\n"
     ]
    },
    {
     "name": "stdout",
     "output_type": "stream",
     "text": [
      "[0.527541474366974, 20.78454976225482, 1.1191376601884278, 0.09086531498402729, 7.2924470837436415, 0.4671006039483971, 1.464768818541709, 0.08912199906504449, 0.00917420951586526]\n"
     ]
    },
    {
     "name": "stderr",
     "output_type": "stream",
     "text": [
      "C:\\Users\\dxp2904\\AppData\\Local\\Temp\\ipykernel_13944\\465046859.py:8: RuntimeWarning: overflow encountered in exp\n",
      "  qs3 = lambda qs_max, c_glucose, Ks_qs, glu_met, lag: qs_max * c_glucose / (Ks_qs + c_glucose) * (1 / (np.exp(glu_met * lag)))\n"
     ]
    },
    {
     "name": "stdout",
     "output_type": "stream",
     "text": [
      "[0.39141495392454256, 21.36972594739088, 9.455703402052404, 0.029649240421187023, 7.114299027819152, 0.45633044225860586, 0.8110256745184237, 0.11994994195859808, 0.01631289516212097]\n"
     ]
    },
    {
     "name": "stderr",
     "output_type": "stream",
     "text": [
      "C:\\Users\\dxp2904\\AppData\\Local\\Temp\\ipykernel_13944\\465046859.py:8: RuntimeWarning: overflow encountered in exp\n",
      "  qs3 = lambda qs_max, c_glucose, Ks_qs, glu_met, lag: qs_max * c_glucose / (Ks_qs + c_glucose) * (1 / (np.exp(glu_met * lag)))\n"
     ]
    },
    {
     "name": "stdout",
     "output_type": "stream",
     "text": [
      "[0.5292865167230089, 23.560019704341318, 4.777614245674385, 0.01402804716429034, 6.232115455125927, 0.42683117137997784, 0.8782205100686968, 0.1279990809068946, 0.0018065599330711357]\n",
      "[0.19485283161097083, 19.116039232141652, 1.5640005366553384, 0.03617732875961346, 7.6060121382955845, 0.41440274011263084, 1.3873207250547555, 0.06806285430700423, 0.013909019677019682]\n"
     ]
    },
    {
     "name": "stderr",
     "output_type": "stream",
     "text": [
      "C:\\Users\\dxp2904\\AppData\\Local\\Temp\\ipykernel_13944\\465046859.py:8: RuntimeWarning: overflow encountered in exp\n",
      "  qs3 = lambda qs_max, c_glucose, Ks_qs, glu_met, lag: qs_max * c_glucose / (Ks_qs + c_glucose) * (1 / (np.exp(glu_met * lag)))\n"
     ]
    },
    {
     "name": "stdout",
     "output_type": "stream",
     "text": [
      "[0.08890818416977808, 23.947533358410958, 2.5658736025556412, 0.07350110725995807, 7.833709990698657, 0.48932280312174403, 0.9314381021845586, 0.09246829299855006, 0.012634476439523274]\n",
      "[0.5635413019583418, 20.139081456726306, 2.0713061972642692, 0.011154286765192149, 7.8164111154952565, 0.40984784267097585, 0.7485900845767968, 0.08185503237468122, 0.015411146049160534]\n"
     ]
    },
    {
     "name": "stderr",
     "output_type": "stream",
     "text": [
      "C:\\Users\\dxp2904\\AppData\\Local\\Temp\\ipykernel_13944\\465046859.py:8: RuntimeWarning: overflow encountered in exp\n",
      "  qs3 = lambda qs_max, c_glucose, Ks_qs, glu_met, lag: qs_max * c_glucose / (Ks_qs + c_glucose) * (1 / (np.exp(glu_met * lag)))\n"
     ]
    },
    {
     "name": "stdout",
     "output_type": "stream",
     "text": [
      "[0.09645031222438473, 20.628088304086646, 7.304272301404553, 0.05309699066719072, 7.437653442584118, 0.4847083314068649, 1.0700189872619654, 0.0998482332382769, 0.010212001356478751]\n"
     ]
    },
    {
     "name": "stderr",
     "output_type": "stream",
     "text": [
      "C:\\Users\\dxp2904\\AppData\\Local\\Temp\\ipykernel_13944\\465046859.py:8: RuntimeWarning: overflow encountered in exp\n",
      "  qs3 = lambda qs_max, c_glucose, Ks_qs, glu_met, lag: qs_max * c_glucose / (Ks_qs + c_glucose) * (1 / (np.exp(glu_met * lag)))\n"
     ]
    },
    {
     "name": "stdout",
     "output_type": "stream",
     "text": [
      "[0.5815845600101366, 20.47216355064509, 8.488088858417262, 0.08832177926933121, 6.360899255383251, 0.43969647190412525, 1.1949831655080785, 0.10360847425956318, 0.01989769493173224]\n"
     ]
    },
    {
     "name": "stderr",
     "output_type": "stream",
     "text": [
      "C:\\Users\\dxp2904\\AppData\\Local\\Temp\\ipykernel_13944\\465046859.py:8: RuntimeWarning: overflow encountered in exp\n",
      "  qs3 = lambda qs_max, c_glucose, Ks_qs, glu_met, lag: qs_max * c_glucose / (Ks_qs + c_glucose) * (1 / (np.exp(glu_met * lag)))\n"
     ]
    },
    {
     "name": "stdout",
     "output_type": "stream",
     "text": [
      "[0.20416415879729577, 19.71394859449639, 5.494394335718221, 0.021464230483682137, 6.3864711887179215, 0.45544819030698613, 1.264491966003526, 0.10218922536922213, 0.008089282697026514]\n"
     ]
    },
    {
     "name": "stderr",
     "output_type": "stream",
     "text": [
      "C:\\Users\\dxp2904\\AppData\\Local\\Temp\\ipykernel_13944\\465046859.py:8: RuntimeWarning: overflow encountered in exp\n",
      "  qs3 = lambda qs_max, c_glucose, Ks_qs, glu_met, lag: qs_max * c_glucose / (Ks_qs + c_glucose) * (1 / (np.exp(glu_met * lag)))\n"
     ]
    },
    {
     "name": "stdout",
     "output_type": "stream",
     "text": [
      "[0.48043205379498466, 23.35372750592876, 7.670338293825072, 0.032127360408402375, 6.592788827886716, 0.4981922212954427, 1.3019104820311644, 0.13561233237526443, 0.014980466979325101]\n"
     ]
    },
    {
     "name": "stderr",
     "output_type": "stream",
     "text": [
      "C:\\Users\\dxp2904\\AppData\\Local\\Temp\\ipykernel_13944\\465046859.py:8: RuntimeWarning: overflow encountered in exp\n",
      "  qs3 = lambda qs_max, c_glucose, Ks_qs, glu_met, lag: qs_max * c_glucose / (Ks_qs + c_glucose) * (1 / (np.exp(glu_met * lag)))\n"
     ]
    },
    {
     "name": "stdout",
     "output_type": "stream",
     "text": [
      "[0.31192405973635445, 23.845584945557775, 0.3562372339655614, 0.04975364810951675, 6.346505255378311, 0.4212784491778955, 1.3435817324699937, 0.13028111524008523, 0.009140324628245922]\n"
     ]
    },
    {
     "name": "stderr",
     "output_type": "stream",
     "text": [
      "C:\\Users\\dxp2904\\AppData\\Local\\Temp\\ipykernel_13944\\465046859.py:8: RuntimeWarning: overflow encountered in exp\n",
      "  qs3 = lambda qs_max, c_glucose, Ks_qs, glu_met, lag: qs_max * c_glucose / (Ks_qs + c_glucose) * (1 / (np.exp(glu_met * lag)))\n"
     ]
    },
    {
     "name": "stdout",
     "output_type": "stream",
     "text": [
      "[0.12694165954125344, 22.438678938086664, 9.953941525600166, 0.037184840937552956, 7.190236134503454, 0.41959744723765147, 0.7875795104315569, 0.09732837632142381, 0.015740177819602685]\n",
      "[0.4683217072926099, 18.74929533909808, 4.242828140203358, 0.05664091973934317, 7.204800613735759, 0.4949932669524985, 1.0262733272111613, 0.07912216153949873, 0.0011629754915396576]\n",
      "[0.06467071888952518, 24.657140987306022, 1.7558496048485508, 0.032507113547039966, 6.939952268316797, 0.4133817220574257, 1.1142649674077976, 0.08379561341498853, 0.0196189595724465]\n"
     ]
    },
    {
     "name": "stderr",
     "output_type": "stream",
     "text": [
      "C:\\Users\\dxp2904\\AppData\\Local\\Temp\\ipykernel_13944\\465046859.py:8: RuntimeWarning: overflow encountered in exp\n",
      "  qs3 = lambda qs_max, c_glucose, Ks_qs, glu_met, lag: qs_max * c_glucose / (Ks_qs + c_glucose) * (1 / (np.exp(glu_met * lag)))\n"
     ]
    },
    {
     "name": "stdout",
     "output_type": "stream",
     "text": [
      "[0.5919346514645413, 21.789567857132695, 4.284308111754703, 0.06859816341115285, 7.068766674436819, 0.43156750066380506, 0.6584616081509261, 0.09891904317247763, 0.0024771386176369644]\n",
      "[0.013577475254299101, 20.232980061663337, 0.1193852690885343, 0.08975313101808526, 7.166128454657117, 0.4274840428707817, 1.285371093313267, 0.0752399651468156, 0.007905167570647326]\n"
     ]
    },
    {
     "name": "stderr",
     "output_type": "stream",
     "text": [
      "C:\\Users\\dxp2904\\AppData\\Local\\Temp\\ipykernel_13944\\465046859.py:8: RuntimeWarning: overflow encountered in exp\n",
      "  qs3 = lambda qs_max, c_glucose, Ks_qs, glu_met, lag: qs_max * c_glucose / (Ks_qs + c_glucose) * (1 / (np.exp(glu_met * lag)))\n"
     ]
    },
    {
     "name": "stdout",
     "output_type": "stream",
     "text": [
      "[0.3573608494327256, 21.234739819565867, 8.772787265789642, 0.04414837354556954, 7.259234574573066, 0.45867483597124836, 0.9412002308751481, 0.08557996854135129, 0.006644202095418204]\n"
     ]
    },
    {
     "name": "stderr",
     "output_type": "stream",
     "text": [
      "C:\\Users\\dxp2904\\AppData\\Local\\Temp\\ipykernel_13944\\465046859.py:8: RuntimeWarning: overflow encountered in exp\n",
      "  qs3 = lambda qs_max, c_glucose, Ks_qs, glu_met, lag: qs_max * c_glucose / (Ks_qs + c_glucose) * (1 / (np.exp(glu_met * lag)))\n"
     ]
    },
    {
     "name": "stdout",
     "output_type": "stream",
     "text": [
      "[0.4709896083777935, 18.305504072201646, 2.1971022184260103, 0.034677686041364585, 7.138203507566371, 0.47802016664866154, 1.1285746935890881, 0.1386455834679346, 0.004007168241504643]\n"
     ]
    },
    {
     "name": "stderr",
     "output_type": "stream",
     "text": [
      "C:\\Users\\dxp2904\\AppData\\Local\\Temp\\ipykernel_13944\\465046859.py:8: RuntimeWarning: overflow encountered in exp\n",
      "  qs3 = lambda qs_max, c_glucose, Ks_qs, glu_met, lag: qs_max * c_glucose / (Ks_qs + c_glucose) * (1 / (np.exp(glu_met * lag)))\n"
     ]
    },
    {
     "name": "stdout",
     "output_type": "stream",
     "text": [
      "[0.5173049209248206, 18.20669462231432, 4.073834852521489, 0.05693450615217478, 6.734415501374713, 0.41049461572211304, 1.3593885405675912, 0.05360255739806215, 0.00936348595513874]\n"
     ]
    },
    {
     "name": "stderr",
     "output_type": "stream",
     "text": [
      "C:\\Users\\dxp2904\\AppData\\Local\\Temp\\ipykernel_13944\\465046859.py:8: RuntimeWarning: overflow encountered in exp\n",
      "  qs3 = lambda qs_max, c_glucose, Ks_qs, glu_met, lag: qs_max * c_glucose / (Ks_qs + c_glucose) * (1 / (np.exp(glu_met * lag)))\n"
     ]
    },
    {
     "name": "stdout",
     "output_type": "stream",
     "text": [
      "[0.459200959767536, 22.395016159041447, 1.482734162049365, 0.08220194356338273, 7.032032150256147, 0.46488900014669265, 1.413099919163645, 0.14096161974988905, 0.014582004739128313]\n"
     ]
    },
    {
     "name": "stderr",
     "output_type": "stream",
     "text": [
      "C:\\Users\\dxp2904\\AppData\\Local\\Temp\\ipykernel_13944\\465046859.py:8: RuntimeWarning: overflow encountered in exp\n",
      "  qs3 = lambda qs_max, c_glucose, Ks_qs, glu_met, lag: qs_max * c_glucose / (Ks_qs + c_glucose) * (1 / (np.exp(glu_met * lag)))\n"
     ]
    },
    {
     "name": "stdout",
     "output_type": "stream",
     "text": [
      "[0.23038089009311738, 20.373899209836235, 7.881812997186181, 0.0337443237056634, 6.436227466072268, 0.4087432093153631, 1.258649984641309, 0.1326772213002426, 0.010570104501279078]\n"
     ]
    },
    {
     "name": "stderr",
     "output_type": "stream",
     "text": [
      "C:\\Users\\dxp2904\\AppData\\Local\\Temp\\ipykernel_13944\\465046859.py:8: RuntimeWarning: overflow encountered in exp\n",
      "  qs3 = lambda qs_max, c_glucose, Ks_qs, glu_met, lag: qs_max * c_glucose / (Ks_qs + c_glucose) * (1 / (np.exp(glu_met * lag)))\n"
     ]
    },
    {
     "name": "stdout",
     "output_type": "stream",
     "text": [
      "[0.25022068309833684, 21.512957274060717, 2.8951792761584834, 0.02351129416081526, 7.785073297972984, 0.43637471680357914, 1.478359350960027, 0.1469974380279221, 0.01754444598453344]\n"
     ]
    },
    {
     "name": "stderr",
     "output_type": "stream",
     "text": [
      "C:\\Users\\dxp2904\\AppData\\Local\\Temp\\ipykernel_13944\\465046859.py:8: RuntimeWarning: overflow encountered in exp\n",
      "  qs3 = lambda qs_max, c_glucose, Ks_qs, glu_met, lag: qs_max * c_glucose / (Ks_qs + c_glucose) * (1 / (np.exp(glu_met * lag)))\n"
     ]
    },
    {
     "name": "stdout",
     "output_type": "stream",
     "text": [
      "[0.43903908964225846, 23.281633657729273, 9.319101556192997, 0.09757154273889351, 7.513209268866477, 0.49262377870246693, 0.5280464423465822, 0.14724840276175882, 0.011779004223503298]\n",
      "[0.16038070808444804, 19.046596145562646, 5.6478589508403125, 0.06599645888247775, 6.8357095820111295, 0.4471206368012257, 0.763885012613264, 0.14586880173488553, 0.0021992940789097833]\n",
      "[0.18100263781223816, 19.182081722813034, 6.158905866856618, 0.020520733770310787, 7.455448247388976, 0.45773847318323474, 0.7569635484741719, 0.11514961756854909, 0.010964204305348078]\n",
      "[0.20583464710800292, 19.526049469152863, 4.660159616999548, 0.061534399265832165, 6.249505258019293, 0.41238259430054874, 1.1445332466513096, 0.08269504300080535, 0.00491976074385739]\n"
     ]
    },
    {
     "name": "stderr",
     "output_type": "stream",
     "text": [
      "C:\\Users\\dxp2904\\AppData\\Local\\Temp\\ipykernel_13944\\465046859.py:8: RuntimeWarning: overflow encountered in exp\n",
      "  qs3 = lambda qs_max, c_glucose, Ks_qs, glu_met, lag: qs_max * c_glucose / (Ks_qs + c_glucose) * (1 / (np.exp(glu_met * lag)))\n"
     ]
    },
    {
     "name": "stdout",
     "output_type": "stream",
     "text": [
      "[0.16989574867966095, 24.034723397273154, 6.005799355936087, 0.035372897998450746, 7.4967513272054465, 0.4068822576852017, 1.1567906314649763, 0.07337865620353277, 0.003583581063866901]\n"
     ]
    },
    {
     "name": "stderr",
     "output_type": "stream",
     "text": [
      "C:\\Users\\dxp2904\\AppData\\Local\\Temp\\ipykernel_13944\\465046859.py:8: RuntimeWarning: overflow encountered in exp\n",
      "  qs3 = lambda qs_max, c_glucose, Ks_qs, glu_met, lag: qs_max * c_glucose / (Ks_qs + c_glucose) * (1 / (np.exp(glu_met * lag)))\n"
     ]
    },
    {
     "name": "stdout",
     "output_type": "stream",
     "text": [
      "[0.05201690212901669, 19.858246909595596, 7.734488106244522, 0.08443863993379498, 6.622358799247081, 0.4370019547417434, 0.6325550202335586, 0.14888640883568832, 0.010119849670988234]\n"
     ]
    },
    {
     "data": {
      "text/html": [
       "<div>\n",
       "<style scoped>\n",
       "    .dataframe tbody tr th:only-of-type {\n",
       "        vertical-align: middle;\n",
       "    }\n",
       "\n",
       "    .dataframe tbody tr th {\n",
       "        vertical-align: top;\n",
       "    }\n",
       "\n",
       "    .dataframe thead th {\n",
       "        text-align: right;\n",
       "    }\n",
       "</style>\n",
       "<table border=\"1\" class=\"dataframe\">\n",
       "  <thead>\n",
       "    <tr style=\"text-align: right;\">\n",
       "      <th></th>\n",
       "      <th>set</th>\n",
       "      <th>mu</th>\n",
       "      <th>qs</th>\n",
       "      <th>mu_max</th>\n",
       "      <th>X_max</th>\n",
       "      <th>Ks</th>\n",
       "      <th>Ks_qs</th>\n",
       "      <th>Ki</th>\n",
       "      <th>Yxs</th>\n",
       "      <th>qs_max</th>\n",
       "      <th>m_s</th>\n",
       "      <th>lag</th>\n",
       "      <th>rmse</th>\n",
       "    </tr>\n",
       "  </thead>\n",
       "  <tbody>\n",
       "    <tr>\n",
       "      <th>951</th>\n",
       "      <td>59</td>\n",
       "      <td>1</td>\n",
       "      <td>3</td>\n",
       "      <td>0.151842</td>\n",
       "      <td>21.610650</td>\n",
       "      <td>1.849366</td>\n",
       "      <td>0.077962</td>\n",
       "      <td>7.402749</td>\n",
       "      <td>0.499585</td>\n",
       "      <td>1.136157</td>\n",
       "      <td>0.121758</td>\n",
       "      <td>0.017414</td>\n",
       "      <td>3.832</td>\n",
       "    </tr>\n",
       "    <tr>\n",
       "      <th>871</th>\n",
       "      <td>54</td>\n",
       "      <td>1</td>\n",
       "      <td>3</td>\n",
       "      <td>0.136699</td>\n",
       "      <td>18.216403</td>\n",
       "      <td>0.535589</td>\n",
       "      <td>0.076009</td>\n",
       "      <td>6.491255</td>\n",
       "      <td>0.450012</td>\n",
       "      <td>1.430207</td>\n",
       "      <td>0.110820</td>\n",
       "      <td>0.016074</td>\n",
       "      <td>3.834</td>\n",
       "    </tr>\n",
       "    <tr>\n",
       "      <th>1540</th>\n",
       "      <td>96</td>\n",
       "      <td>1</td>\n",
       "      <td>0</td>\n",
       "      <td>0.181003</td>\n",
       "      <td>19.182082</td>\n",
       "      <td>6.158906</td>\n",
       "      <td>0.020521</td>\n",
       "      <td>7.455448</td>\n",
       "      <td>0.457738</td>\n",
       "      <td>0.756964</td>\n",
       "      <td>0.115150</td>\n",
       "      <td>0.010964</td>\n",
       "      <td>3.907</td>\n",
       "    </tr>\n",
       "    <tr>\n",
       "      <th>7</th>\n",
       "      <td>0</td>\n",
       "      <td>1</td>\n",
       "      <td>3</td>\n",
       "      <td>0.148524</td>\n",
       "      <td>22.293302</td>\n",
       "      <td>9.870132</td>\n",
       "      <td>0.081201</td>\n",
       "      <td>7.010735</td>\n",
       "      <td>0.465053</td>\n",
       "      <td>1.270749</td>\n",
       "      <td>0.142903</td>\n",
       "      <td>0.012809</td>\n",
       "      <td>4.050</td>\n",
       "    </tr>\n",
       "    <tr>\n",
       "      <th>727</th>\n",
       "      <td>45</td>\n",
       "      <td>1</td>\n",
       "      <td>3</td>\n",
       "      <td>0.218356</td>\n",
       "      <td>18.659077</td>\n",
       "      <td>1.210381</td>\n",
       "      <td>0.055047</td>\n",
       "      <td>6.178527</td>\n",
       "      <td>0.454024</td>\n",
       "      <td>0.723849</td>\n",
       "      <td>0.076236</td>\n",
       "      <td>0.012178</td>\n",
       "      <td>4.171</td>\n",
       "    </tr>\n",
       "    <tr>\n",
       "      <th>772</th>\n",
       "      <td>48</td>\n",
       "      <td>1</td>\n",
       "      <td>0</td>\n",
       "      <td>0.139866</td>\n",
       "      <td>23.463812</td>\n",
       "      <td>6.253094</td>\n",
       "      <td>0.027281</td>\n",
       "      <td>7.919310</td>\n",
       "      <td>0.420863</td>\n",
       "      <td>1.160831</td>\n",
       "      <td>0.120088</td>\n",
       "      <td>0.012483</td>\n",
       "      <td>4.182</td>\n",
       "    </tr>\n",
       "    <tr>\n",
       "      <th>1100</th>\n",
       "      <td>68</td>\n",
       "      <td>3</td>\n",
       "      <td>0</td>\n",
       "      <td>0.367979</td>\n",
       "      <td>24.948018</td>\n",
       "      <td>0.221270</td>\n",
       "      <td>0.099580</td>\n",
       "      <td>6.306802</td>\n",
       "      <td>0.402236</td>\n",
       "      <td>1.236294</td>\n",
       "      <td>0.096955</td>\n",
       "      <td>0.016771</td>\n",
       "      <td>4.395</td>\n",
       "    </tr>\n",
       "    <tr>\n",
       "      <th>424</th>\n",
       "      <td>26</td>\n",
       "      <td>2</td>\n",
       "      <td>0</td>\n",
       "      <td>0.286853</td>\n",
       "      <td>19.421220</td>\n",
       "      <td>0.714451</td>\n",
       "      <td>0.095325</td>\n",
       "      <td>6.108962</td>\n",
       "      <td>0.490747</td>\n",
       "      <td>0.676160</td>\n",
       "      <td>0.054178</td>\n",
       "      <td>0.018813</td>\n",
       "      <td>4.737</td>\n",
       "    </tr>\n",
       "    <tr>\n",
       "      <th>1468</th>\n",
       "      <td>91</td>\n",
       "      <td>3</td>\n",
       "      <td>0</td>\n",
       "      <td>0.459201</td>\n",
       "      <td>22.395016</td>\n",
       "      <td>1.482734</td>\n",
       "      <td>0.082202</td>\n",
       "      <td>7.032032</td>\n",
       "      <td>0.464889</td>\n",
       "      <td>1.413100</td>\n",
       "      <td>0.140962</td>\n",
       "      <td>0.014582</td>\n",
       "      <td>5.084</td>\n",
       "    </tr>\n",
       "    <tr>\n",
       "      <th>775</th>\n",
       "      <td>48</td>\n",
       "      <td>1</td>\n",
       "      <td>3</td>\n",
       "      <td>0.139866</td>\n",
       "      <td>23.463812</td>\n",
       "      <td>6.253094</td>\n",
       "      <td>0.027281</td>\n",
       "      <td>7.919310</td>\n",
       "      <td>0.420863</td>\n",
       "      <td>1.160831</td>\n",
       "      <td>0.120088</td>\n",
       "      <td>0.012483</td>\n",
       "      <td>5.184</td>\n",
       "    </tr>\n",
       "  </tbody>\n",
       "</table>\n",
       "</div>"
      ],
      "text/plain": [
       "     set mu qs    mu_max      X_max        Ks     Ks_qs        Ki       Yxs  \\\n",
       "951   59  1  3  0.151842  21.610650  1.849366  0.077962  7.402749  0.499585   \n",
       "871   54  1  3  0.136699  18.216403  0.535589  0.076009  6.491255  0.450012   \n",
       "1540  96  1  0  0.181003  19.182082  6.158906  0.020521  7.455448  0.457738   \n",
       "7      0  1  3  0.148524  22.293302  9.870132  0.081201  7.010735  0.465053   \n",
       "727   45  1  3  0.218356  18.659077  1.210381  0.055047  6.178527  0.454024   \n",
       "772   48  1  0  0.139866  23.463812  6.253094  0.027281  7.919310  0.420863   \n",
       "1100  68  3  0  0.367979  24.948018  0.221270  0.099580  6.306802  0.402236   \n",
       "424   26  2  0  0.286853  19.421220  0.714451  0.095325  6.108962  0.490747   \n",
       "1468  91  3  0  0.459201  22.395016  1.482734  0.082202  7.032032  0.464889   \n",
       "775   48  1  3  0.139866  23.463812  6.253094  0.027281  7.919310  0.420863   \n",
       "\n",
       "        qs_max       m_s       lag   rmse  \n",
       "951   1.136157  0.121758  0.017414  3.832  \n",
       "871   1.430207  0.110820  0.016074  3.834  \n",
       "1540  0.756964  0.115150  0.010964  3.907  \n",
       "7     1.270749  0.142903  0.012809  4.050  \n",
       "727   0.723849  0.076236  0.012178  4.171  \n",
       "772   1.160831  0.120088  0.012483  4.182  \n",
       "1100  1.236294  0.096955  0.016771  4.395  \n",
       "424   0.676160  0.054178  0.018813  4.737  \n",
       "1468  1.413100  0.140962  0.014582  5.084  \n",
       "775   1.160831  0.120088  0.012483  5.184  "
      ]
     },
     "execution_count": 29,
     "metadata": {},
     "output_type": "execute_result"
    }
   ],
   "source": [
    "df_all_sets = pd.DataFrame(columns=['set', 'mu', 'qs', 'mu_max', 'X_max', 'Ks', 'Ks_qs', 'Ki', 'Yxs', 'qs_max', 'm_s', 'lag', 'rmse'])\n",
    "for set_num in range(LHS_samples.shape[0]):\n",
    "    # Save all parameters and equations and the RMSE in a dataframe\n",
    "    ## with the beginning of one set a new rmse_overview will be created\n",
    "    rmse_one_set = []\n",
    "    #key = f'set{set_num}' ; init_p = est_mu_max[key]\n",
    "    init_p = list(LHS_samples[set_num, :])\n",
    "    for i in range(len(mu_all)):\n",
    "        for j in range(len(qs_all)):\n",
    "            # Define the combination of equations\n",
    "            mu_eq = mu_all[i]; num_mu = i\n",
    "            qs_eq = qs_all[j]; num_qs = j\n",
    "\n",
    "            # Make the predictions and calculate the error\n",
    "            rmse, time_pred, biomass_pred, substrate_pred, volume_pred = objective_function(init_p, mu_eq, num_mu, qs_eq, num_qs)\n",
    "            # save the parameters in a dataframe\n",
    "            append_list=[set_num, i, j, init_p[0], init_p[1], init_p[2], init_p[3], init_p[4], init_p[5], init_p[6], init_p[7], init_p[8], round(rmse, 3)]\n",
    "            rmse_one_set.append(append_list)\n",
    "\n",
    "            # Make a plot and save it\n",
    "            title = f'set{set_num}/ mu{i} - qs{j} - rmse: {round(rmse, 3)}'\n",
    "            plot_name = f'mu{i}_qs{j}'\n",
    "\n",
    "            if rmse <= float(20):\n",
    "                plot_estimation(time_pred, biomass_pred, substrate_pred, volume_pred, title, plot_name, set_num)\n",
    "\n",
    "    # save the parameters of one set\n",
    "    df_1set = pd.DataFrame(rmse_one_set, columns=['set', 'mu', 'qs', 'mu_max', 'X_max', 'Ks', 'Ks_qs', 'Ki', 'Yxs', 'qs_max', 'm_s', 'lag', 'rmse'])\n",
    "    df_all_sets = pd.concat([df_all_sets,df_1set], axis=0, ignore_index=True)\n",
    "\n",
    "\n",
    "df_all_sets.sort_values(by=['rmse'], ascending=True, inplace=True)\n",
    "df_all_sets.to_csv(f'data/estimation/LHS_sampling/data.csv')\n",
    "\n",
    "df_all_sets.head(10)"
   ]
  },
  {
   "cell_type": "code",
   "execution_count": 30,
   "metadata": {},
   "outputs": [],
   "source": [
    "df_LHS = pd.read_csv('data/estimation/LHS_sampling/data.csv')"
   ]
  }
 ],
 "metadata": {
  "kernelspec": {
   "display_name": "june_project",
   "language": "python",
   "name": "python3"
  },
  "language_info": {
   "codemirror_mode": {
    "name": "ipython",
    "version": 3
   },
   "file_extension": ".py",
   "mimetype": "text/x-python",
   "name": "python",
   "nbconvert_exporter": "python",
   "pygments_lexer": "ipython3",
   "version": "3.9.13"
  },
  "orig_nbformat": 4
 },
 "nbformat": 4,
 "nbformat_minor": 2
}
