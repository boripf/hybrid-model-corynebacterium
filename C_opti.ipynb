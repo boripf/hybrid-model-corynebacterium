{
 "cells": [
  {
   "cell_type": "code",
   "execution_count": 1,
   "metadata": {},
   "outputs": [],
   "source": [
    "import pandas as pd\n",
    "import numpy as np\n",
    "import yaml\n",
    "from sklearn.metrics import mean_squared_error\n",
    "from C_functions_opti import get_LHS_samples, model_optimization, model_sensitivity_analysis, plot_estimation\n",
    "from SALib.sample import saltelli\n",
    "from SALib.analyze import sobol"
   ]
  },
  {
   "attachments": {},
   "cell_type": "markdown",
   "metadata": {},
   "source": [
    "##### 1. Load all data that is needed"
   ]
  },
  {
   "cell_type": "code",
   "execution_count": 2,
   "metadata": {},
   "outputs": [],
   "source": [
    "# Load experimental data\n",
    "df_exp = pd.read_csv('data/data_combined.csv')\n",
    "biomass_exp = df_exp['Biomass [g/L]']\n",
    "substrate_exp = df_exp['Glucose [g/L]']"
   ]
  },
  {
   "cell_type": "code",
   "execution_count": 3,
   "metadata": {},
   "outputs": [],
   "source": [
    "# Load parameters from YAML file\n",
    "with open('config/parameters.yml', 'r') as file:\n",
    "    param = yaml.safe_load(file)"
   ]
  },
  {
   "attachments": {},
   "cell_type": "markdown",
   "metadata": {},
   "source": [
    "##### 2. Define all possible equations for mu and qs\n",
    "\n",
    "The growth rate and the substrate uptake rate are dependend of each other - meaning that if we define a equation for **mu**, then **qs** is defined by mu with $qs=mu/Yxs$. Contrarily, when **qs** is defined by an ODE, then **mu** is calculated with $mu = qs * Yxs$."
   ]
  },
  {
   "cell_type": "code",
   "execution_count": 4,
   "metadata": {},
   "outputs": [],
   "source": [
    "mu0 = lambda mu_max, c_glucose, Ks: mu_max * c_glucose / (c_glucose + Ks) # -- MONOD\n",
    "mu1 = lambda mu_max, c_biomass, X_max: mu_max * (1 - (c_biomass/ X_max)) # -- LOGISTIC\n",
    "mu2 = lambda mu_max, c_glucose, Ks, c_biomass, X_max: mu_max * (c_glucose / (c_glucose + Ks)) * (1 - (c_biomass/ X_max)) # -- MONOD + LOGISTIC\n",
    "mu3 = lambda mu_max, c_glucose, Ks, Ki, c_biomass, X_max: mu_max * (c_glucose / (c_glucose + Ks + (c_glucose**2/ Ki))) * (1 - (c_biomass/ X_max)) # -- MONOD + LOGISTIC + INHIBITION\n",
    "mu4 = lambda qs, Yxs: qs * Yxs # for changing qs"
   ]
  },
  {
   "cell_type": "code",
   "execution_count": 5,
   "metadata": {},
   "outputs": [],
   "source": [
    "qs0 = lambda qs_max, c_glucose, Ks_qs: qs_max * c_glucose / (Ks_qs + c_glucose) # -- MONOD\n",
    "qs1 = lambda qs_max, c_glucose, Ks_qs, Ki, glu_met: qs_max * c_glucose / (Ks_qs + c_glucose) * (Ki / (Ki + glu_met)) # -- MONOD + NON COMPETITIVE INHIBITION\n",
    "qs2 = lambda qs_max, c_glucose, Ks_qs, c_biomass, lag: qs_max * c_glucose / (Ks_qs + c_glucose) * (1 / (np.exp(c_biomass * lag))) # -- MONOD + METABOLIZED GLU\n",
    "qs3 = lambda mu, Yxs: mu / Yxs # for changing mu"
   ]
  },
  {
   "cell_type": "code",
   "execution_count": 6,
   "metadata": {},
   "outputs": [],
   "source": [
    "mu_all=[mu0, mu1, mu2, mu3, mu4]\n",
    "qs_all=[qs0, qs1, qs2, qs3]"
   ]
  },
  {
   "attachments": {},
   "cell_type": "markdown",
   "metadata": {},
   "source": [
    "##### 3. Define functions that are needed"
   ]
  },
  {
   "cell_type": "code",
   "execution_count": 7,
   "metadata": {},
   "outputs": [],
   "source": [
    "# Root mean squared error is the objective function\n",
    "def objective_function(parameters, mu_eq, num_mu, qs_eq, num_qs):\n",
    "    # Solve the model using the optimal parameters\n",
    "    time_pred, biomass_pred, substrate_pred, volume_pred = model_optimization(param, parameters, mu_eq, num_mu, qs_eq, num_qs)  # Solve the model using the current parameters\n",
    "    biomass = pd.concat([biomass_exp, pd.Series(biomass_pred)], axis=1, keys=['biomass_exp', 'biomass_pred']).dropna()\n",
    "    biomass_exp_ = biomass['biomass_exp'].values\n",
    "    biomass_pred_ = biomass['biomass_pred'].values\n",
    "    mse_x = mean_squared_error(biomass_exp_, biomass_pred_)  # Calculate mean squared error for biomass\n",
    "\n",
    "    glucose = pd.concat([substrate_exp, pd.Series(substrate_pred)], axis=1, keys=['substrate_exp', 'substrate_pred']).dropna()\n",
    "    substrate_exp_ = glucose['substrate_exp'].values\n",
    "    substrate_pred_ = glucose['substrate_pred'].values\n",
    "    mse_s = mean_squared_error(substrate_exp_, substrate_pred_)  # Calculate mean squared error for substrate\n",
    "    \n",
    "    # Calculate the combined rmse\n",
    "    mse = (mse_x + mse_s)/2\n",
    "    rmse = np.sqrt(mse)  # Calculate root mean squared error\n",
    "    return rmse, time_pred, biomass_pred, substrate_pred, volume_pred"
   ]
  },
  {
   "attachments": {},
   "cell_type": "markdown",
   "metadata": {},
   "source": [
    "##### 4. Define set of parameters (3 Versions)"
   ]
  },
  {
   "attachments": {},
   "cell_type": "markdown",
   "metadata": {},
   "source": [
    "Version 1: Define all parameters manually in the config/parameters.yml file"
   ]
  },
  {
   "cell_type": "code",
   "execution_count": 8,
   "metadata": {},
   "outputs": [
    {
     "data": {
      "text/plain": [
       "\"## not needed anymore\\n# Extract the parameter combination and the number of the set in order to save it in the correct folder\\nest_mu_max = param['est_mu_max'] # ['set0']\\nest_Ks = param['est_ks']\""
      ]
     },
     "execution_count": 8,
     "metadata": {},
     "output_type": "execute_result"
    }
   ],
   "source": [
    "'''## not needed anymore\n",
    "# Extract the parameter combination and the number of the set in order to save it in the correct folder\n",
    "est_mu_max = param['est_mu_max'] # ['set0']\n",
    "est_Ks = param['est_ks']'''"
   ]
  },
  {
   "attachments": {},
   "cell_type": "markdown",
   "metadata": {},
   "source": [
    "Version 2: Apply LH sampling on all parameters"
   ]
  },
  {
   "cell_type": "code",
   "execution_count": 9,
   "metadata": {},
   "outputs": [
    {
     "data": {
      "text/plain": [
       "'# Set the number of samples and parameters\\nnum_samples = 50\\nnum_parameters = 9\\n\\n# Define the ranges for each parameter\\nparameter_bounds = [\\n    [0.01, 0.6],    # Range for parameter 1 mu_max\\n    [18, 25],       # Range for parameter 2 X_max\\n    [0.1, 10.0],    # Range for parameter 3 - Ks\\n    [0.1, 10.0],    # Range for parameter 4 - Ks_qs\\n    [6.0, 8.0],     # Range for parameter 5 - Ki\\n    [0.2, 0.6],     # Range for parameter 6 - Yxs\\n    [0.5, 1.5],     # Range for parameter 7 - qs_max\\n    [0.05, 0.5],   # Range for parameter 8 - m_s\\n    [0.001, 0.02],  # Range for parameter 9 - lag\\n]'"
      ]
     },
     "execution_count": 9,
     "metadata": {},
     "output_type": "execute_result"
    }
   ],
   "source": [
    "'''# Set the number of samples and parameters\n",
    "num_samples = 50\n",
    "num_parameters = 9\n",
    "\n",
    "# Define the ranges for each parameter\n",
    "parameter_bounds = [\n",
    "    [0.01, 0.6],    # Range for parameter 1 mu_max\n",
    "    [18, 25],       # Range for parameter 2 X_max\n",
    "    [0.1, 10.0],    # Range for parameter 3 - Ks\n",
    "    [0.1, 10.0],    # Range for parameter 4 - Ks_qs\n",
    "    [6.0, 8.0],     # Range for parameter 5 - Ki\n",
    "    [0.2, 0.6],     # Range for parameter 6 - Yxs\n",
    "    [0.5, 1.5],     # Range for parameter 7 - qs_max\n",
    "    [0.05, 0.5],   # Range for parameter 8 - m_s\n",
    "    [0.001, 0.02],  # Range for parameter 9 - lag\n",
    "]'''"
   ]
  },
  {
   "attachments": {},
   "cell_type": "markdown",
   "metadata": {},
   "source": [
    "Version 3: Use some defined parameters and some LH samples"
   ]
  },
  {
   "cell_type": "code",
   "execution_count": 10,
   "metadata": {},
   "outputs": [],
   "source": [
    "# Set the number of samples and parameters\n",
    "num_samples = 100\n",
    "num_parameters = 9\n",
    "\n",
    "# Define the ranges for each parameter\n",
    "parameter_bounds = [\n",
    "    [0.25, 0.25],    # Range for parameter 1 mu_max\n",
    "    [15, 25],       # Range for parameter 2 X_max\n",
    "    [0.1, 20.0],    # Range for parameter 3 - Ks\n",
    "    [0.1, 20.0],    # Range for parameter 4 - Ks_qs\n",
    "    [0.1, 20.0],     # Range for parameter 5 - Ki\n",
    "    [0.3, 0.5],     # Range for parameter 6 - Yxs\n",
    "    [0.1, 1.5],     # Range for parameter 7 - qs_max\n",
    "    [0.0, 0.2],   # Range for parameter 8 - m_s\n",
    "    [0.001, 1.0],  # Range for parameter 9 - lag\n",
    "]"
   ]
  },
  {
   "cell_type": "code",
   "execution_count": 11,
   "metadata": {},
   "outputs": [
    {
     "data": {
      "text/plain": [
       "(100, 9)"
      ]
     },
     "execution_count": 11,
     "metadata": {},
     "output_type": "execute_result"
    }
   ],
   "source": [
    "LHS_samples = get_LHS_samples(num_samples, num_parameters, parameter_bounds)\n",
    "LHS_samples.shape"
   ]
  },
  {
   "attachments": {},
   "cell_type": "markdown",
   "metadata": {},
   "source": [
    "##### 5. Run it"
   ]
  },
  {
   "cell_type": "code",
   "execution_count": 12,
   "metadata": {},
   "outputs": [
    {
     "data": {
      "text/html": [
       "<div>\n",
       "<style scoped>\n",
       "    .dataframe tbody tr th:only-of-type {\n",
       "        vertical-align: middle;\n",
       "    }\n",
       "\n",
       "    .dataframe tbody tr th {\n",
       "        vertical-align: top;\n",
       "    }\n",
       "\n",
       "    .dataframe thead th {\n",
       "        text-align: right;\n",
       "    }\n",
       "</style>\n",
       "<table border=\"1\" class=\"dataframe\">\n",
       "  <thead>\n",
       "    <tr style=\"text-align: right;\">\n",
       "      <th></th>\n",
       "      <th>set</th>\n",
       "      <th>mu</th>\n",
       "      <th>qs</th>\n",
       "      <th>mu_max</th>\n",
       "      <th>X_max</th>\n",
       "      <th>Ks</th>\n",
       "      <th>Ks_qs</th>\n",
       "      <th>Ki</th>\n",
       "      <th>Yxs</th>\n",
       "      <th>qs_max</th>\n",
       "      <th>m_s</th>\n",
       "      <th>lag</th>\n",
       "      <th>rmse</th>\n",
       "    </tr>\n",
       "  </thead>\n",
       "  <tbody>\n",
       "    <tr>\n",
       "      <th>8</th>\n",
       "      <td>1</td>\n",
       "      <td>1</td>\n",
       "      <td>3</td>\n",
       "      <td>0.25</td>\n",
       "      <td>22.132726</td>\n",
       "      <td>3.027250</td>\n",
       "      <td>10.994495</td>\n",
       "      <td>17.195832</td>\n",
       "      <td>0.330049</td>\n",
       "      <td>1.360724</td>\n",
       "      <td>0.186527</td>\n",
       "      <td>0.272500</td>\n",
       "      <td>5.320</td>\n",
       "    </tr>\n",
       "    <tr>\n",
       "      <th>71</th>\n",
       "      <td>10</td>\n",
       "      <td>1</td>\n",
       "      <td>3</td>\n",
       "      <td>0.25</td>\n",
       "      <td>24.823053</td>\n",
       "      <td>10.303964</td>\n",
       "      <td>1.041204</td>\n",
       "      <td>0.721632</td>\n",
       "      <td>0.314199</td>\n",
       "      <td>1.265538</td>\n",
       "      <td>0.169603</td>\n",
       "      <td>0.683126</td>\n",
       "      <td>5.460</td>\n",
       "    </tr>\n",
       "    <tr>\n",
       "      <th>225</th>\n",
       "      <td>32</td>\n",
       "      <td>1</td>\n",
       "      <td>3</td>\n",
       "      <td>0.25</td>\n",
       "      <td>24.691551</td>\n",
       "      <td>3.665002</td>\n",
       "      <td>17.716266</td>\n",
       "      <td>13.314317</td>\n",
       "      <td>0.320202</td>\n",
       "      <td>1.396845</td>\n",
       "      <td>0.193008</td>\n",
       "      <td>0.130056</td>\n",
       "      <td>5.494</td>\n",
       "    </tr>\n",
       "    <tr>\n",
       "      <th>533</th>\n",
       "      <td>76</td>\n",
       "      <td>1</td>\n",
       "      <td>3</td>\n",
       "      <td>0.25</td>\n",
       "      <td>21.157422</td>\n",
       "      <td>14.719385</td>\n",
       "      <td>10.059823</td>\n",
       "      <td>3.196185</td>\n",
       "      <td>0.356974</td>\n",
       "      <td>0.255111</td>\n",
       "      <td>0.197338</td>\n",
       "      <td>0.972540</td>\n",
       "      <td>5.944</td>\n",
       "    </tr>\n",
       "    <tr>\n",
       "      <th>85</th>\n",
       "      <td>12</td>\n",
       "      <td>1</td>\n",
       "      <td>3</td>\n",
       "      <td>0.25</td>\n",
       "      <td>22.862659</td>\n",
       "      <td>9.617166</td>\n",
       "      <td>18.384138</td>\n",
       "      <td>16.991492</td>\n",
       "      <td>0.339669</td>\n",
       "      <td>1.325941</td>\n",
       "      <td>0.167815</td>\n",
       "      <td>0.395293</td>\n",
       "      <td>5.948</td>\n",
       "    </tr>\n",
       "    <tr>\n",
       "      <th>624</th>\n",
       "      <td>89</td>\n",
       "      <td>1</td>\n",
       "      <td>3</td>\n",
       "      <td>0.25</td>\n",
       "      <td>22.220206</td>\n",
       "      <td>3.842982</td>\n",
       "      <td>19.725081</td>\n",
       "      <td>9.598040</td>\n",
       "      <td>0.369442</td>\n",
       "      <td>1.249460</td>\n",
       "      <td>0.181079</td>\n",
       "      <td>0.751060</td>\n",
       "      <td>6.369</td>\n",
       "    </tr>\n",
       "    <tr>\n",
       "      <th>1</th>\n",
       "      <td>0</td>\n",
       "      <td>1</td>\n",
       "      <td>3</td>\n",
       "      <td>0.25</td>\n",
       "      <td>22.625957</td>\n",
       "      <td>18.436806</td>\n",
       "      <td>1.972623</td>\n",
       "      <td>2.427178</td>\n",
       "      <td>0.416501</td>\n",
       "      <td>0.171372</td>\n",
       "      <td>0.195759</td>\n",
       "      <td>0.070889</td>\n",
       "      <td>6.453</td>\n",
       "    </tr>\n",
       "    <tr>\n",
       "      <th>344</th>\n",
       "      <td>49</td>\n",
       "      <td>1</td>\n",
       "      <td>3</td>\n",
       "      <td>0.25</td>\n",
       "      <td>22.540113</td>\n",
       "      <td>15.605187</td>\n",
       "      <td>13.632584</td>\n",
       "      <td>10.843273</td>\n",
       "      <td>0.344491</td>\n",
       "      <td>1.479278</td>\n",
       "      <td>0.162051</td>\n",
       "      <td>0.923945</td>\n",
       "      <td>6.464</td>\n",
       "    </tr>\n",
       "    <tr>\n",
       "      <th>491</th>\n",
       "      <td>70</td>\n",
       "      <td>1</td>\n",
       "      <td>3</td>\n",
       "      <td>0.25</td>\n",
       "      <td>24.197775</td>\n",
       "      <td>15.084468</td>\n",
       "      <td>6.873537</td>\n",
       "      <td>7.522512</td>\n",
       "      <td>0.447250</td>\n",
       "      <td>0.517230</td>\n",
       "      <td>0.184172</td>\n",
       "      <td>0.160774</td>\n",
       "      <td>6.838</td>\n",
       "    </tr>\n",
       "    <tr>\n",
       "      <th>78</th>\n",
       "      <td>11</td>\n",
       "      <td>1</td>\n",
       "      <td>3</td>\n",
       "      <td>0.25</td>\n",
       "      <td>20.644714</td>\n",
       "      <td>7.718666</td>\n",
       "      <td>18.489369</td>\n",
       "      <td>0.450031</td>\n",
       "      <td>0.313083</td>\n",
       "      <td>0.856420</td>\n",
       "      <td>0.159727</td>\n",
       "      <td>0.310027</td>\n",
       "      <td>6.842</td>\n",
       "    </tr>\n",
       "  </tbody>\n",
       "</table>\n",
       "</div>"
      ],
      "text/plain": [
       "    set mu qs  mu_max      X_max         Ks      Ks_qs         Ki       Yxs  \\\n",
       "8     1  1  3    0.25  22.132726   3.027250  10.994495  17.195832  0.330049   \n",
       "71   10  1  3    0.25  24.823053  10.303964   1.041204   0.721632  0.314199   \n",
       "225  32  1  3    0.25  24.691551   3.665002  17.716266  13.314317  0.320202   \n",
       "533  76  1  3    0.25  21.157422  14.719385  10.059823   3.196185  0.356974   \n",
       "85   12  1  3    0.25  22.862659   9.617166  18.384138  16.991492  0.339669   \n",
       "624  89  1  3    0.25  22.220206   3.842982  19.725081   9.598040  0.369442   \n",
       "1     0  1  3    0.25  22.625957  18.436806   1.972623   2.427178  0.416501   \n",
       "344  49  1  3    0.25  22.540113  15.605187  13.632584  10.843273  0.344491   \n",
       "491  70  1  3    0.25  24.197775  15.084468   6.873537   7.522512  0.447250   \n",
       "78   11  1  3    0.25  20.644714   7.718666  18.489369   0.450031  0.313083   \n",
       "\n",
       "       qs_max       m_s       lag   rmse  \n",
       "8    1.360724  0.186527  0.272500  5.320  \n",
       "71   1.265538  0.169603  0.683126  5.460  \n",
       "225  1.396845  0.193008  0.130056  5.494  \n",
       "533  0.255111  0.197338  0.972540  5.944  \n",
       "85   1.325941  0.167815  0.395293  5.948  \n",
       "624  1.249460  0.181079  0.751060  6.369  \n",
       "1    0.171372  0.195759  0.070889  6.453  \n",
       "344  1.479278  0.162051  0.923945  6.464  \n",
       "491  0.517230  0.184172  0.160774  6.838  \n",
       "78   0.856420  0.159727  0.310027  6.842  "
      ]
     },
     "execution_count": 12,
     "metadata": {},
     "output_type": "execute_result"
    }
   ],
   "source": [
    "df_all_sets = pd.DataFrame(columns=['set', 'mu', 'qs', 'mu_max', 'X_max', 'Ks', 'Ks_qs', 'Ki', 'Yxs', 'qs_max', 'm_s', 'lag', 'rmse'])\n",
    "for set_num in range(LHS_samples.shape[0]):\n",
    "    # Save all parameters and equations and the RMSE in a dataframe\n",
    "    ## with the beginning of one set a new rmse_overview will be created\n",
    "    rmse_one_set = []\n",
    "    #key = f'set{set_num}' ; init_p = est_mu_max[key]\n",
    "    init_p = list(LHS_samples[set_num, :])\n",
    "    for i in range(len(mu_all)):\n",
    "        # Define the combination of equations\n",
    "        mu_eq = mu_all[i]; num_mu = i\n",
    "\n",
    "        # mu 0 to mu3 are combined with qs3 while for mu4 all qs except for qs3 are combined\n",
    "        if i != 4:\n",
    "            j = 3\n",
    "            qs_eq = qs_all[j]; num_qs = j   \n",
    "\n",
    "            # Make the predictions and calculate the error\n",
    "            rmse, time_pred, biomass_pred, substrate_pred, volume_pred = objective_function(init_p, mu_eq, num_mu, qs_eq, num_qs)\n",
    "            # save the parameters in a dataframe\n",
    "            append_list=[set_num, i, j, init_p[0], init_p[1], init_p[2], init_p[3], init_p[4], init_p[5], init_p[6], init_p[7], init_p[8], round(rmse, 3)]\n",
    "            rmse_one_set.append(append_list)\n",
    "\n",
    "            # Make a plot and save it\n",
    "            title = f'set{set_num}/ mu{i} - qs{j} - rmse: {round(rmse, 3)}'\n",
    "            plot_name = f'set{set_num}_mu{i}_qs{j}_rmse{int(rmse)}'\n",
    "\n",
    "            if rmse <= float(6):\n",
    "                plot_estimation(time_pred, biomass_pred, substrate_pred, volume_pred, title, plot_name, set_num)\n",
    "        \n",
    "        elif i == 4:\n",
    "            for j in range(3):\n",
    "                qs_eq = qs_all[j]; num_qs = j   \n",
    "\n",
    "                # Make the predictions and calculate the error\n",
    "                rmse, time_pred, biomass_pred, substrate_pred, volume_pred = objective_function(init_p, mu_eq, num_mu, qs_eq, num_qs)\n",
    "                # save the parameters in a dataframe\n",
    "                append_list=[set_num, i, j, init_p[0], init_p[1], init_p[2], init_p[3], init_p[4], init_p[5], init_p[6], init_p[7], init_p[8], round(rmse, 3)]\n",
    "                rmse_one_set.append(append_list)\n",
    "\n",
    "                # Make a plot and save it\n",
    "                title = f'set{set_num}/ mu{i} - qs{j} - rmse: {round(rmse, 3)}'\n",
    "                plot_name = f'set{set_num}_mu{i}_qs{j}_rmse{int(rmse)}'\n",
    "\n",
    "                if rmse <= float(6):\n",
    "                    plot_estimation(time_pred, biomass_pred, substrate_pred, volume_pred, title, plot_name, set_num)\n",
    "\n",
    "    # save the parameters of one set\n",
    "    df_1set = pd.DataFrame(rmse_one_set, columns=['set', 'mu', 'qs', 'mu_max', 'X_max', 'Ks', 'Ks_qs', 'Ki', 'Yxs', 'qs_max', 'm_s', 'lag', 'rmse'])\n",
    "    df_all_sets = pd.concat([df_all_sets,df_1set], axis=0, ignore_index=True)\n",
    "\n",
    "\n",
    "df_all_sets.sort_values(by=['rmse'], ascending=True, inplace=True)\n",
    "df_all_sets.to_csv(f'data/estimation/new_eq/data.csv')\n",
    "\n",
    "df_all_sets.head(10)"
   ]
  },
  {
   "cell_type": "code",
   "execution_count": 13,
   "metadata": {},
   "outputs": [],
   "source": [
    "df_LHS = pd.read_csv('data/estimation/LHS_sampling/data.csv')"
   ]
  }
 ],
 "metadata": {
  "kernelspec": {
   "display_name": "june_project",
   "language": "python",
   "name": "python3"
  },
  "language_info": {
   "codemirror_mode": {
    "name": "ipython",
    "version": 3
   },
   "file_extension": ".py",
   "mimetype": "text/x-python",
   "name": "python",
   "nbconvert_exporter": "python",
   "pygments_lexer": "ipython3",
   "version": "3.9.13"
  },
  "orig_nbformat": 4
 },
 "nbformat": 4,
 "nbformat_minor": 2
}
