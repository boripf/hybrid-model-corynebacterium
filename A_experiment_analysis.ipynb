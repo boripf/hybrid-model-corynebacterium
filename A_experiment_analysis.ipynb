{
 "cells": [
  {
   "cell_type": "code",
   "execution_count": 1,
   "metadata": {},
   "outputs": [],
   "source": [
    "import pandas as pd\n",
    "import matplotlib.pyplot as plt\n",
    "from datetime import datetime\n",
    "import numpy as np"
   ]
  },
  {
   "cell_type": "code",
   "execution_count": 21,
   "metadata": {},
   "outputs": [],
   "source": [
    "df_biomass = pd.read_csv('data/fermentation raw data/biomass_OD.csv', sep=';')\n",
    "df_hplc = pd.read_excel('data/pre treated/HPLC.xlsx')"
   ]
  },
  {
   "cell_type": "code",
   "execution_count": 8,
   "metadata": {},
   "outputs": [
    {
     "data": {
      "text/html": [
       "<div>\n",
       "<style scoped>\n",
       "    .dataframe tbody tr th:only-of-type {\n",
       "        vertical-align: middle;\n",
       "    }\n",
       "\n",
       "    .dataframe tbody tr th {\n",
       "        vertical-align: top;\n",
       "    }\n",
       "\n",
       "    .dataframe thead th {\n",
       "        text-align: right;\n",
       "    }\n",
       "</style>\n",
       "<table border=\"1\" class=\"dataframe\">\n",
       "  <thead>\n",
       "    <tr style=\"text-align: right;\">\n",
       "      <th></th>\n",
       "      <th>Biomass [g/L]</th>\n",
       "      <th>time [h]</th>\n",
       "    </tr>\n",
       "  </thead>\n",
       "  <tbody>\n",
       "    <tr>\n",
       "      <th>0</th>\n",
       "      <td>0.694</td>\n",
       "      <td>0.2</td>\n",
       "    </tr>\n",
       "  </tbody>\n",
       "</table>\n",
       "</div>"
      ],
      "text/plain": [
       "   Biomass [g/L]  time [h]\n",
       "0          0.694       0.2"
      ]
     },
     "execution_count": 8,
     "metadata": {},
     "output_type": "execute_result"
    }
   ],
   "source": [
    "for col in df_biomass.columns:\n",
    "    df_biomass[col]=df_biomass[col].str.replace(',', '.')\n",
    "    df_biomass[col]=pd.to_numeric(df_biomass[col])\n",
    "df_biomass.rename(columns={'hours': 'time [h]', 'biomass (g/L)': 'Biomass [g/L]'}, inplace=True)\n",
    "df_biomass.head(1)"
   ]
  },
  {
   "cell_type": "code",
   "execution_count": 20,
   "metadata": {},
   "outputs": [
    {
     "data": {
      "text/html": [
       "<div>\n",
       "<style scoped>\n",
       "    .dataframe tbody tr th:only-of-type {\n",
       "        vertical-align: middle;\n",
       "    }\n",
       "\n",
       "    .dataframe tbody tr th {\n",
       "        vertical-align: top;\n",
       "    }\n",
       "\n",
       "    .dataframe thead th {\n",
       "        text-align: right;\n",
       "    }\n",
       "</style>\n",
       "<table border=\"1\" class=\"dataframe\">\n",
       "  <thead>\n",
       "    <tr style=\"text-align: right;\">\n",
       "      <th></th>\n",
       "      <th>time [h]</th>\n",
       "      <th>Glucose [g/L]</th>\n",
       "      <th>Glycerol [g/L]</th>\n",
       "      <th>Lactic acid [g/L]</th>\n",
       "      <th>Acetic acid [g/L]</th>\n",
       "      <th>Ethanol [g/L]</th>\n",
       "      <th>Glucose2 [g/L]</th>\n",
       "      <th>Glucose [g/L].1</th>\n",
       "      <th>added Glucose  [g]</th>\n",
       "      <th>Consumed_Glucose [g]</th>\n",
       "      <th>Consumed_Glucose [g/L]</th>\n",
       "      <th>Volume at each time point</th>\n",
       "    </tr>\n",
       "  </thead>\n",
       "  <tbody>\n",
       "    <tr>\n",
       "      <th>0</th>\n",
       "      <td>0.2</td>\n",
       "      <td>NaN</td>\n",
       "      <td>0.167</td>\n",
       "      <td>0.037</td>\n",
       "      <td>0.007</td>\n",
       "      <td>0.079</td>\n",
       "      <td>5.220</td>\n",
       "      <td>5.220</td>\n",
       "      <td>10.44</td>\n",
       "      <td>NaN</td>\n",
       "      <td>NaN</td>\n",
       "      <td>1.0</td>\n",
       "    </tr>\n",
       "    <tr>\n",
       "      <th>1</th>\n",
       "      <td>2.1</td>\n",
       "      <td>NaN</td>\n",
       "      <td>0.160</td>\n",
       "      <td>0.027</td>\n",
       "      <td>0.033</td>\n",
       "      <td>0.104</td>\n",
       "      <td>5.176</td>\n",
       "      <td>5.176</td>\n",
       "      <td>10.44</td>\n",
       "      <td>NaN</td>\n",
       "      <td>NaN</td>\n",
       "      <td>1.0</td>\n",
       "    </tr>\n",
       "  </tbody>\n",
       "</table>\n",
       "</div>"
      ],
      "text/plain": [
       "   time [h]  Glucose [g/L]  Glycerol [g/L]  Lactic acid [g/L]  \\\n",
       "0       0.2            NaN           0.167              0.037   \n",
       "1       2.1            NaN           0.160              0.027   \n",
       "\n",
       "   Acetic acid [g/L]  Ethanol [g/L]  Glucose2 [g/L]  Glucose [g/L].1  \\\n",
       "0              0.007          0.079           5.220            5.220   \n",
       "1              0.033          0.104           5.176            5.176   \n",
       "\n",
       "   added Glucose  [g]  Consumed_Glucose [g]  Consumed_Glucose [g/L]  \\\n",
       "0               10.44                   NaN                     NaN   \n",
       "1               10.44                   NaN                     NaN   \n",
       "\n",
       "   Volume at each time point  \n",
       "0                        1.0  \n",
       "1                        1.0  "
      ]
     },
     "execution_count": 20,
     "metadata": {},
     "output_type": "execute_result"
    }
   ],
   "source": [
    "for col in df_hplc.columns:\n",
    "     df_hplc[col] = df_hplc[col].astype(str).str.replace(',', '.')\n",
    "     df_hplc[col] = df_hplc[col].replace('nan', float('nan'))\n",
    "     df_hplc[col] = pd.to_numeric(df_hplc[col])\n",
    "df_hplc.rename(columns={'Time [h]': 'time [h]'}, inplace=True)\n",
    "df_hplc.head(2)"
   ]
  },
  {
   "cell_type": "code",
   "execution_count": 11,
   "metadata": {},
   "outputs": [],
   "source": [
    "df_Yxs = df_biomass.merge(df_hplc, on='time [h]', how='left')"
   ]
  },
  {
   "attachments": {},
   "cell_type": "markdown",
   "metadata": {},
   "source": [
    "Assumption made that the parameters mu, Yxs and qs are constant for the model even though they're changing due to fermentation conditions."
   ]
  },
  {
   "cell_type": "code",
   "execution_count": 12,
   "metadata": {},
   "outputs": [],
   "source": [
    "# calculating the growth rate \n",
    "# with 2 approaches:\n",
    "## 1) from 1 to the sample points ; 2) between the two closest sample points: without log, because no exponential growth \n",
    "# df_Yxs['mu 1 [1/h]'] = (np.log(df_Yxs['Biomass [g/L]']) - np.log(df_Yxs['Biomass [g/L]'].iloc[0])) / (df_Yxs['time [h]'] - df_Yxs['time [h]'].iloc[0])\n",
    "df_Yxs['mu between direct samples [1/h]'] = (abs(df_Yxs['Biomass [g/L]'].diff()) / abs(df_Yxs['time [h]'].diff()))/df_Yxs['Biomass [g/L]'].shift(1)"
   ]
  },
  {
   "cell_type": "code",
   "execution_count": 13,
   "metadata": {},
   "outputs": [],
   "source": [
    "# calculating the yield coefficient of biomass over substrate with 3 approaches: (all of them are based on the assumption that glucose is consumed, actually we dont know at all, how much is consumed)\n",
    "#df_Yxs['Yxs 1.1 [gx/gs]'] = (df_Yxs['Biomass [g/L]'] - df_Yxs['Biomass [g/L]'].iloc[0]) / (df_Yxs['Glucose [g/L]'] - df_Yxs['Glucose [g/L]'].iloc[0])\n",
    "#df_Yxs['Yxs 1.2 [gx/gs]'] = abs(df_Yxs['Biomass [g/L]'] - df_Yxs['Biomass [g/L]'].iloc[0]) / abs(df_Yxs['Glucose [g/L]'] - df_Yxs['Glucose [g/L]'].iloc[0])\n",
    "# df_Yxs['Yxs 2.1 [gx/gs]'] = df_Yxs['Biomass [g/L]'].diff() / df_Yxs['Consumed_Glucose [g/L]'].diff()\n",
    "df_Yxs['Yxs [gx/gs]'] = abs(df_Yxs['Biomass [g/L]'].diff()) / abs(df_Yxs['Consumed_Glucose [g/L]'].diff())\n",
    "\n",
    "# 1) qs ds/dt/x = mu/Yxs\n",
    "df_Yxs['qs 1 - ds/dt/x - [1/h]'] = (abs(df_Yxs['Consumed_Glucose [g/L]'].diff()) / abs(df_Yxs['time [h]'].diff()))/df_Yxs['Biomass [g/L]'].shift(1)\n",
    "\n",
    "# 2) qs \n",
    "# df_Yxs['qs 2 - mu/Yxs -[1/h]'] = df_Yxs['mu between direct samples [1/h]']/ df_Yxs['Yxs [gx/gs]']"
   ]
  },
  {
   "attachments": {},
   "cell_type": "markdown",
   "metadata": {},
   "source": [
    "Plot: dynamics of qs, mu and Yx/s"
   ]
  },
  {
   "cell_type": "code",
   "execution_count": 14,
   "metadata": {},
   "outputs": [
    {
     "data": {
      "image/png": "[encoded data removed]",
      "text/plain": [
       "<Figure size 800x600 with 3 Axes>"
      ]
     },
     "metadata": {},
     "output_type": "display_data"
    }
   ],
   "source": [
    "# Create a new figure and set the size\n",
    "plt.figure(figsize=(8, 6))\n",
    "\n",
    "# Plot the first subplot\n",
    "plt.subplot(3, 1, 1)  # (rows, columns, plot_number)\n",
    "plt.plot(df_Yxs['time [h]'], df_Yxs['mu between direct samples [1/h]'], 'r-', label='growth rate μ  [1/h]')\n",
    "plt.title('growth rate μ  [1/h]')\n",
    "plt.legend()\n",
    "\n",
    "# Add annotation for phase 1\n",
    "plt.annotate('Phase 1', xy=(10, 0.6), xytext=(5, 0.8))\n",
    "plt.plot([10, 10], [0.75, 0], 'k--')\n",
    "# Add annotation for phase 2\n",
    "plt.annotate('Phase 2', xy=(23.3, 0.3), xytext=(15, 0.8))\n",
    "plt.plot([23.3, 23.3], [0.75, 0], 'k--')\n",
    "plt.annotate('Phase 3', xy=(42, 0.3), xytext=(25, 0.8))\n",
    "\n",
    "# Plot the second subplot\n",
    "plt.subplot(3, 1, 2)  # (rows, columns, plot_number)\n",
    "plt.plot(df_Yxs['time [h]'], df_Yxs['Yxs [gx/gs]'], 'g-', label='Yxs [x g/l / s g/l]')\n",
    "plt.title('Yxs [gx/gs]')\n",
    "plt.legend()\n",
    "\n",
    "# Add annotation for phase 1\n",
    "plt.annotate('Phase 1', xy=(10, 0.6), xytext=(5, 5))\n",
    "plt.plot([10, 10], [6, 0], 'k--')\n",
    "# Add annotation for phase 2\n",
    "plt.annotate('Phase 2', xy=(23, 0.6), xytext=(15, 5))\n",
    "plt.plot([23.3, 23.3], [6, 0], 'k--')\n",
    "# Add annotation for phase 3\n",
    "plt.annotate('Phase 3', xy=(42, 0.3),  xytext=(25, 5))\n",
    "\n",
    "# Plot the third subplot\n",
    "plt.subplot(3, 1, 3)  # (rows, columns, plot_number)\n",
    "plt.plot(df_Yxs['time [h]'], df_Yxs['qs 1 - ds/dt/x - [1/h]'] , 'b-', label='qs 1 [1/h]')\n",
    "plt.title('qs 1 [1/h]')\n",
    "plt.legend()\n",
    "\n",
    "# Add annotation for phase 1\n",
    "plt.annotate('Phase 1', xy=(10, 0.6), xytext=(5, 0.8))\n",
    "plt.plot([10, 10], [1, 0], 'k--')\n",
    "# Add annotation for phase 2\n",
    "plt.annotate('Phase 2', xy=(23, 0.6), xytext=(15, 0.8))\n",
    "plt.plot([23.3, 23.3], [1, 0], 'k--')\n",
    "\n",
    "plt.annotate('Phase 3', xy=(42, 0.6), xytext=(25, 0.8))\n",
    "\n",
    "# Adjust spacing between subplots\n",
    "plt.tight_layout()\n",
    "\n",
    "# Show the plot\n",
    "plt.show()"
   ]
  },
  {
   "attachments": {},
   "cell_type": "markdown",
   "metadata": {},
   "source": [
    "Calculation how much glucose was fed in total when the last sample was taken:\n",
    "\n",
    "1. Feed started as ramp at **start_feed_ramp**\n",
    "2. Feed was constant starting after **start_feed_const**\n",
    "3. Feed was stopped at **end_feed**"
   ]
  },
  {
   "cell_type": "code",
   "execution_count": null,
   "metadata": {},
   "outputs": [],
   "source": [
    "start_feed_ramp = 9.92 # Start time of linear feed rate (hours)\n",
    "start_feed_const = 28  # End time of linear feed rate (hours)\n",
    "end_feed = 28 # Time when feed rate ends  (hours)\n",
    "\n",
    "feed_rate_start = 0.005  # Initial feed rate (L/h)\n",
    "feed_rate_end = 0.063   # Final feed rate (L/h)\n",
    "feed_rate_constant = 0.102  # Constant feed rate (L/h)\n",
    "\n",
    "feed_concentration = 350  # Concentration of feed solution (g/L)\n",
    "fermentation_time = end_feed  # Total fermentation time (hours)\n",
    "\n",
    "# Calculate the duration of ramp and constant feeding\n",
    "ramp_duration = start_feed_const - start_feed_ramp\n",
    "constant_duration = end_feed - start_feed_const\n",
    "\n",
    "print(f'ramp feed for {ramp_duration} h & constant feed for {constant_duration} h')"
   ]
  },
  {
   "cell_type": "code",
   "execution_count": null,
   "metadata": {},
   "outputs": [],
   "source": [
    "# Calculating the average feed rate based on the start and end value\n",
    "avg_feedrate_ramp = (feed_rate_start + feed_rate_end) / 2 #[L/h]\n",
    "\n",
    "\n",
    "# Calculating the total volume \n",
    "feed_volume_ramp = avg_feedrate_ramp * ramp_duration #[L]\n",
    "\n",
    "# Same for constant feeding phase\n",
    "feed_volume_const = feed_rate_constant * constant_duration #[L]\n",
    "\n",
    "# Total feed volume\n",
    "total_glucose = feed_volume_ramp + feed_volume_const #[L]\n",
    "\n",
    "# Calculate the total amount of glucose in grams\n",
    "total_glucose_grams = total_glucose * feed_concentration #[gs]\n",
    "print(\"Total amount of glucose after {} hours: {:.2f} grams\".format(fermentation_time, total_glucose_grams))"
   ]
  },
  {
   "attachments": {},
   "cell_type": "markdown",
   "metadata": {},
   "source": [
    "Calculating the amount of glc added just for the time slots inside the ramp"
   ]
  },
  {
   "cell_type": "code",
   "execution_count": null,
   "metadata": {},
   "outputs": [],
   "source": [
    "start_feed_ramp1 = 9.92 # Start time of linear feed rate (hours)\n",
    "start_feed_const1 = 21.3 # changes this value to each sample point and run it\n",
    "\n",
    "\n",
    "# Calculating the average feed rate based on the start and end value\n",
    "avg_feedrate_ramp = (feed_rate_start + feed_rate_end) / 2 #[L/h]\n",
    "\n",
    "ramp_duration = start_feed_const1 - start_feed_ramp1 # [h]\n",
    "\n",
    "# Calculating the total volume \n",
    "feed_volume_ramp = avg_feedrate_ramp * ramp_duration #[L]\n",
    "\n",
    "# Calculate the total amount of glucose in grams\n",
    "total_glucose_grams = feed_volume_ramp * feed_concentration #[gs]\n",
    "\n",
    "print(\"Total amount of glucose\" , total_glucose_grams)"
   ]
  },
  {
   "cell_type": "code",
   "execution_count": null,
   "metadata": {},
   "outputs": [],
   "source": [
    "# over the whole fed-batch phase: adding 350 g/l (1l) to 1 L, --> 175 g/l  without consumption \n",
    "Yxs_consumed = (23.1 - 5.5)/(175-120.48)\n",
    "\n",
    "print(Yxs_consumed)"
   ]
  }
 ],
 "metadata": {
  "kernelspec": {
   "display_name": "june_project",
   "language": "python",
   "name": "python3"
  },
  "language_info": {
   "codemirror_mode": {
    "name": "ipython",
    "version": 3
   },
   "file_extension": ".py",
   "mimetype": "text/x-python",
   "name": "python",
   "nbconvert_exporter": "python",
   "pygments_lexer": "ipython3",
   "version": "3.9.13"
  },
  "orig_nbformat": 4
 },
 "nbformat": 4,
 "nbformat_minor": 2
}
