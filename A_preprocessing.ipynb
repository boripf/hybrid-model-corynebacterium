{
 "cells": [
  {
   "attachments": {},
   "cell_type": "markdown",
   "metadata": {},
   "source": [
    "##### Structure of the document\n",
    "1. Import of experimental data\n",
    "2. Preprocessing of the data\n",
    "3. Calculations of new parameters\n",
    "4. Visualization"
   ]
  },
  {
   "cell_type": "code",
   "execution_count": null,
   "metadata": {},
   "outputs": [],
   "source": [
    "import pandas as pd\n",
    "import matplotlib.pyplot as plt\n",
    "from datetime import datetime\n",
    "import numpy as np\n",
    "\n",
    "pd.options.mode.chained_assignment = None  # Suppress the warning"
   ]
  },
  {
   "attachments": {},
   "cell_type": "markdown",
   "metadata": {},
   "source": [
    "##### 1. Import experimental data"
   ]
  },
  {
   "attachments": {},
   "cell_type": "markdown",
   "metadata": {},
   "source": [
    "- Temperature\n",
    "- Stirring\n",
    "- Feed of Glucose\n",
    "- Base & Acid\n",
    "- dissolved O2\n",
    "- pH\n",
    "- air feed\n",
    "- offgas analysis\n",
    "- biomass data\n",
    "- hplc measurements for glucose concentration"
   ]
  },
  {
   "cell_type": "code",
   "execution_count": null,
   "metadata": {},
   "outputs": [],
   "source": [
    "df_T=pd.read_csv('data/fermentation raw data/May 26, 2023_10 58 18 AM_DTU 3-parameterValues_Temperature_Value.csv', sep=';')\n",
    "df_stir=pd.read_csv('data/fermentation raw data/May 26, 2023_10 58 18 AM_DTU 3-parameterValues_Stirrer_Value.csv', sep=';')\n",
    "df_feed1=pd.read_csv('data/fermentation raw data/May 26, 2023_10 58 18 AM_DTU 3-parameterValues_Feed 1_Value.csv', sep=';')\n",
    "df_base=pd.read_csv('data/fermentation raw data/May 26, 2023_10 58 18 AM_DTU 3-parameterValues_Pump - Base_Value.csv', sep=';')\n",
    "df_acid=pd.read_csv('data/fermentation raw data/May 26, 2023_10 58 18 AM_DTU 3-parameterValues_Pump - Acid_Value.csv', sep=';')\n",
    "df_pO2=pd.read_csv('data/fermentation raw data/May 26, 2023_10 58 18 AM_DTU 3-parameterValues_pO₂_Value.csv', sep=';')\n",
    "df_pH=pd.read_csv('data/fermentation raw data/May 26, 2023_10 58 18 AM_DTU 3-parameterValues_pH_Value.csv', sep=';')\n",
    "df_air=pd.read_csv('data/fermentation raw data/May 26, 2023_10 58 18 AM_DTU 3-parameterValues_Flow - Air_Value.csv', sep=';')\n",
    "df_offgas=pd.read_excel('data/fermentation raw data/offgas_data.xlsx')\n",
    "df_biomass=pd.read_csv('data/fermentation raw data/biomass_OD.csv', sep=';')\n",
    "df_hplc = pd.read_excel('data/fermentation raw data/HPLC.xlsx')"
   ]
  },
  {
   "attachments": {},
   "cell_type": "markdown",
   "metadata": {},
   "source": [
    "##### 2. Data Preprocessing"
   ]
  },
  {
   "cell_type": "code",
   "execution_count": null,
   "metadata": {},
   "outputs": [],
   "source": [
    "# group the dataframes -- acid and base will be pre-processed differently\n",
    "first_para=[df_T, df_stir, df_feed1, df_pO2, df_pH, df_air]\n",
    "second_para=[df_base, df_acid]"
   ]
  },
  {
   "cell_type": "code",
   "execution_count": null,
   "metadata": {},
   "outputs": [],
   "source": [
    "start = '31-05-2023 10:14:00'\n",
    "end = '02-06-2023 08:22:00'\n",
    "start_time = datetime.strptime(start, '%d-%m-%Y %H:%M:%S')\n",
    "end_time = datetime.strptime(end, '%d-%m-%Y %H:%M:%S')"
   ]
  },
  {
   "attachments": {},
   "cell_type": "markdown",
   "metadata": {},
   "source": [
    "First parameter group (mean value for reduction of sampling frequency):"
   ]
  },
  {
   "cell_type": "code",
   "execution_count": null,
   "metadata": {},
   "outputs": [],
   "source": [
    "# dataframes are prepared to be merged into one dataframe based on the timestamp\n",
    "df_merged1=pd.DataFrame()\n",
    "for df in first_para:\n",
    "    df_copy=df.copy()\n",
    "    # convert the timestamp into the datetime format and drop the original timestamp\n",
    "    df_copy.insert(0, 'DateTime', df_copy['Date'].astype(str)+' '+df_copy['Time'].astype(str))\n",
    "    df_copy.drop(['Date', 'Time'], axis=1, inplace=True)\n",
    "    df_copy['DateTime']=pd.to_datetime(df_copy['DateTime'], format='%b %d, %Y %I:%M:%S %p')\n",
    "\n",
    "    # values are converted to floats\n",
    "    df_copy[df_copy.columns[1]]=df_copy[df_copy.columns[1]].str.replace(',', '.')\n",
    "    df_copy[df_copy.columns[1]]=pd.to_numeric(df_copy[df_copy.columns[1]], errors='coerce')\n",
    "\n",
    "    # reduce sample frequency to 1min which makes the merge easier\n",
    "    ## mean value of each minute is taken\n",
    "    df_copy.set_index('DateTime', inplace=True)\n",
    "    df_resampled = df_copy.resample('1T').mean() # could be changed to sum/first/min/max...\n",
    "    df_resampled = df_resampled.reset_index()\n",
    "    \n",
    "    # dataframe is reduced to the start and end time of the fermentation\n",
    "    df_se=df_resampled[(df_resampled['DateTime'] > start_time) & (df_resampled['DateTime'] < end_time)]\n",
    "    df_se = df_se.reset_index(drop=True)\n",
    "    if df_merged1.empty:\n",
    "        df_merged1=df_se\n",
    "    else:\n",
    "        df_merged1=df_merged1.merge(df_se, on='DateTime', how='inner')"
   ]
  },
  {
   "attachments": {},
   "cell_type": "markdown",
   "metadata": {},
   "source": [
    "Second parameter group (sum for reduction of sampling frequency):"
   ]
  },
  {
   "cell_type": "code",
   "execution_count": null,
   "metadata": {},
   "outputs": [],
   "source": [
    "# dataframes are prepared to be merged into one dataframe based on the timestamp\n",
    "# since the feed of base/acid lasts only 5s, data will be lost if we take the first value\n",
    "## instead we take the sum of the values within that minute and then later divide it by (5/60)\n",
    "df_merged2=pd.DataFrame()\n",
    "for df in second_para:\n",
    "    df_copy=df.copy()\n",
    "    # convert the timestamp into the datetime format and drop the original timestamp\n",
    "    df_copy.insert(0, 'DateTime', df_copy['Date'].astype(str)+' '+df_copy['Time'].astype(str))\n",
    "    df_copy.drop(['Date', 'Time'], axis=1, inplace=True)\n",
    "    df_copy['DateTime']=pd.to_datetime(df_copy['DateTime'], format='%b %d, %Y %I:%M:%S %p')\n",
    "\n",
    "    # values are converted to floats\n",
    "    df_copy[df_copy.columns[1]]=df_copy[df_copy.columns[1]].str.replace(',', '.')\n",
    "    df_copy[df_copy.columns[1]]=pd.to_numeric(df_copy[df_copy.columns[1]], errors='coerce')\n",
    "\n",
    "    # reduce sample frequency to 1min which makes the merge easier\n",
    "    ## mean value of each minute is taken\n",
    "    df_copy.set_index('DateTime', inplace=True)\n",
    "    df_resampled = df_copy.resample('1T').sum() # could be changed to sum/mean/first/min/max...\n",
    "    df_resampled = df_resampled.reset_index()\n",
    "    \n",
    "    # dataframe is reduced to the start and end time of the fermentation\n",
    "    df_se=df_resampled[(df_resampled['DateTime'] > start_time) & (df_resampled['DateTime'] < end_time)]\n",
    "    df_se = df_se.reset_index(drop=True)\n",
    "    if df_merged2.empty:\n",
    "        df_merged2=df_se\n",
    "    else:\n",
    "        df_merged2=df_merged2.merge(df_se, on='DateTime', how='inner')"
   ]
  },
  {
   "cell_type": "code",
   "execution_count": null,
   "metadata": {},
   "outputs": [],
   "source": [
    "# merging the 2 dataframes\n",
    "df_merged3 = df_merged1.copy()\n",
    "df_merged3 = df_merged3.merge(df_merged2, on='DateTime', how='inner')"
   ]
  },
  {
   "attachments": {},
   "cell_type": "markdown",
   "metadata": {},
   "source": [
    "Merge offgas to the other parameters."
   ]
  },
  {
   "cell_type": "code",
   "execution_count": null,
   "metadata": {},
   "outputs": [],
   "source": [
    "# offgas values are saved in another dataframe\n",
    "## same preprocessing as the others\n",
    "\n",
    "# methanol is zero for the whole time period and RMS is not needed\n",
    "## ethanol has 30 not zero values but the highest is 0.0001 %\n",
    "df_offgas.drop(['offg_ethanol', 'offg_methanol', 'offg_RMS'], axis=1, inplace=True) #\n",
    "# reduce sample frequency to 1min which makes the merge easier\n",
    "## mean value of each minute is taken\n",
    "df_offgas.set_index('Timestamp', inplace=True)\n",
    "df_resampled = df_offgas.resample('1T').mean() # could be changed to sum/mean/first/min/max...\n",
    "df_resampled.reset_index(drop=False, inplace=True)\n",
    "df_resampled.rename(columns={'Timestamp': 'DateTime'}, inplace=True)\n",
    "\n",
    "# dataframe is reduced to the start and end time of the fermentation\n",
    "df_offg=df_resampled[(df_resampled['DateTime'] > start_time) & (df_resampled['DateTime'] < end_time)]\n",
    "\n",
    "## checking if sum of measurements is equal to 100\n",
    "# df_offg['sum']=df_offg[['offg_co2', 'offg_n2', 'offg_o2']].sum(axis=1)\n",
    "# df_offg['y_CO2']=df_offg['offg_co2']/df_offg['sum']\n",
    "# df_offg['y_O2']=df_offg['offg_co2']/df_offg['sum']\n",
    "# df_offg['y_N2']=df_offg['offg_co2']/df_offg['sum']"
   ]
  },
  {
   "cell_type": "code",
   "execution_count": null,
   "metadata": {},
   "outputs": [],
   "source": [
    "# add process duration in hours as time [h]\n",
    "df_merged4=df_merged3.merge(df_offg, on='DateTime', how='inner')\n",
    "first_timestamp = df_merged4['DateTime'].iloc[0]  # Get the first timestamp\n",
    "df_merged4['time [h]'] = (df_merged4['DateTime'] - first_timestamp) / pd.Timedelta(hours=1)\n",
    "df_merged4['time [h]'] = df_merged4['time [h]'].round(2)\n",
    "df_merged4.rename(columns={'Temperature Value (°C)': 'Temperature [°C]', 'Stirrer Value (rpm)': 'Stirrer [rpm]', 'pO₂ Value (pO₂)': 'DO2 [%]'}, errors='raise', inplace=True)\n",
    "df_merged4.rename(columns={'offg_co2': 'Offgas CO2 [%]', 'offg_n2': 'Offgas N2 [%]', 'offg_o2': 'Offgas O2 [%]'}, errors='raise', inplace=True)\n",
    "df_merged4.head(1)"
   ]
  },
  {
   "attachments": {},
   "cell_type": "markdown",
   "metadata": {},
   "source": [
    "Merge biomass to the other parameters."
   ]
  },
  {
   "cell_type": "code",
   "execution_count": null,
   "metadata": {},
   "outputs": [],
   "source": [
    "for col in df_biomass.columns:\n",
    "    df_biomass[col]=df_biomass[col].str.replace(',', '.')\n",
    "    df_biomass[col]=pd.to_numeric(df_biomass[col])\n",
    "df_biomass.rename(columns={'hours': 'time [h]', 'biomass (g/L)': 'Biomass [g/L]'}, inplace=True)\n",
    "df_biomass.head(1)"
   ]
  },
  {
   "attachments": {},
   "cell_type": "markdown",
   "metadata": {},
   "source": [
    "Merge HPLC data for glucose, lactic acid, acetic acid and ehtanol to other paramters."
   ]
  },
  {
   "cell_type": "code",
   "execution_count": null,
   "metadata": {},
   "outputs": [],
   "source": [
    "for col in df_hplc.columns:\n",
    "     df_hplc[col] = df_hplc[col].astype(str).str.replace(',', '.')\n",
    "     df_hplc[col] = df_hplc[col].replace('nan', float('nan'))\n",
    "     df_hplc[col] = pd.to_numeric(df_hplc[col])\n",
    "df_hplc.rename(columns={'Time [h]': 'time [h]'}, inplace=True)\n",
    "df_hplc.head(1)"
   ]
  },
  {
   "cell_type": "code",
   "execution_count": null,
   "metadata": {},
   "outputs": [],
   "source": [
    "# merging the biomass data with the hplc data\n",
    "df_Yxs = df_biomass.merge(df_hplc, on='time [h]', how='left')"
   ]
  },
  {
   "attachments": {},
   "cell_type": "markdown",
   "metadata": {},
   "source": [
    "Assumption made that the parameters mu, Yxs and qs are constant for the model even though they're changing due to fermentation conditions."
   ]
  },
  {
   "cell_type": "code",
   "execution_count": null,
   "metadata": {},
   "outputs": [],
   "source": [
    "# calculating the growth rate \n",
    "# with 2 approaches:\n",
    "## 1) from 1 to the sample points ; 2) between the two closest sample points: without log, because no exponential growth \n",
    "# df_Yxs['mu 1 [1/h]'] = (np.log(df_Yxs['Biomass [g/L]']) - np.log(df_Yxs['Biomass [g/L]'].iloc[0])) / (df_Yxs['time [h]'] - df_Yxs['time [h]'].iloc[0])\n",
    "df_Yxs['mu between direct samples [1/h]'] = (abs(df_Yxs['Biomass [g/L]'].diff()) / abs(df_Yxs['time [h]'].diff()))/df_Yxs['Biomass [g/L]'].shift(1)"
   ]
  },
  {
   "cell_type": "code",
   "execution_count": null,
   "metadata": {},
   "outputs": [],
   "source": [
    "# calculating the yield coefficient of biomass over substrate with 3 approaches: (all of them are based on the assumption that glucose is consumed, actually we dont know at all, how much is consumed)\n",
    "#df_Yxs['Yxs 1.1 [gx/gs]'] = (df_Yxs['Biomass [g/L]'] - df_Yxs['Biomass [g/L]'].iloc[0]) / (df_Yxs['Glucose [g/L]'] - df_Yxs['Glucose [g/L]'].iloc[0])\n",
    "#df_Yxs['Yxs 1.2 [gx/gs]'] = abs(df_Yxs['Biomass [g/L]'] - df_Yxs['Biomass [g/L]'].iloc[0]) / abs(df_Yxs['Glucose [g/L]'] - df_Yxs['Glucose [g/L]'].iloc[0])\n",
    "# df_Yxs['Yxs 2.1 [gx/gs]'] = df_Yxs['Biomass [g/L]'].diff() / df_Yxs['Consumed_Glucose [g/L]'].diff()\n",
    "df_Yxs['Yxs [gx/gs]'] = abs(df_Yxs['Biomass [g/L]'].diff()) / abs(df_Yxs['Consumed_Glucose [g/L]'].diff())\n",
    "\n",
    "# 1) qs ds/dt/x = mu/Yxs\n",
    "df_Yxs['qs 1 - ds/dt/x - [1/h]'] = (abs(df_Yxs['Consumed_Glucose [g/L]'].diff()) / abs(df_Yxs['time [h]'].diff()))/df_Yxs['Biomass [g/L]'].shift(1)\n",
    "\n",
    "# 2) qs \n",
    "# df_Yxs['qs 2 - mu/Yxs -[1/h]'] = df_Yxs['mu between direct samples [1/h]']/ df_Yxs['Yxs [gx/gs]']\n",
    "\n",
    "# Save the DataFrame to an Excel file\n",
    "df_Yxs.to_excel('data/Yxs_table.xlsx', index=False)\n",
    "df_Yxs.head(1)"
   ]
  },
  {
   "cell_type": "code",
   "execution_count": null,
   "metadata": {},
   "outputs": [],
   "source": [
    "# merging the biomass, substrates and coefficients to the overall dataframe\n",
    "df = df_merged4.merge(df_Yxs, on='time [h]', how='left')\n",
    "df.head(3)"
   ]
  },
  {
   "attachments": {},
   "cell_type": "markdown",
   "metadata": {},
   "source": [
    "##### 3. Calculation of process parameters"
   ]
  },
  {
   "attachments": {},
   "cell_type": "markdown",
   "metadata": {},
   "source": [
    "Final dataframe created. Now, adding parameters:"
   ]
  },
  {
   "cell_type": "code",
   "execution_count": null,
   "metadata": {},
   "outputs": [],
   "source": [
    "# the peak around the 7th hour was not fed into the batch but just to accumulate the glucose in the pipe\n",
    "df.loc[df.index[428:431], 'Feed 1 Value (%)'] = 0\n",
    "\n",
    "# after 34 h the Glucose feed was most likely empty but it was still measured as feeding\n",
    "df.loc[df['time [h]'] > 34, 'Feed 1 Value (%)'] = 0\n",
    "df['Feed 1 Value (%)']=df['Feed 1 Value (%)']/(10*1000)\n",
    "df.rename(columns={'Feed 1 Value (%)': 'Glucose feed [L/min]'}, inplace=True)"
   ]
  },
  {
   "cell_type": "code",
   "execution_count": null,
   "metadata": {},
   "outputs": [],
   "source": [
    "# one feed of base/acid lasts for max 5s. Since we have samples every minute I divided the value of the feed rate by 12 because I multiply by 5s*1/60s\n",
    "df['Pump - Base Value (%)']=df['Pump - Base Value (%)']/(12*10*1000)\n",
    "df['Pump - Acid Value (%)']=df['Pump - Acid Value (%)']/(12*10*1000)\n",
    "df.rename(columns={'Pump - Base Value (%)': 'Pump - Base [L/min]', 'Pump - Acid Value (%)': 'Pump - Acid [L/min]', 'Flow - Air Value': 'Air feed [mL/min]'}, inplace=True)\n",
    "\n",
    "# Cumulative Base Feed\n",
    "df['Cum. Base feed [L/min]']=df['Pump - Base [L/min]'].cumsum()\n",
    "df['Cum. Acid feed [L/min]']=df['Pump - Acid [L/min]'].cumsum()\n",
    "\n",
    "df['Air feed [mL/min]']=df['Air feed [mL/min]']/(10)"
   ]
  },
  {
   "cell_type": "code",
   "execution_count": null,
   "metadata": {},
   "outputs": [],
   "source": [
    "df['Offgas CO2 [mL/min]']=df['Air feed [mL/min]'] * df['Offgas CO2 [%]']/100\n",
    "df['Offgas O2 [mL/min]']=df['Air feed [mL/min]'] * df['Offgas O2 [%]']/100\n",
    "df['Offgas N2 [mL/min]']=df['Air feed [mL/min]'] * df['Offgas N2 [%]']/100"
   ]
  },
  {
   "attachments": {},
   "cell_type": "markdown",
   "metadata": {},
   "source": [
    "Volume calculation is missing evaporation term - since no weight measurements it is not included so far (no way to check if it is correct)"
   ]
  },
  {
   "cell_type": "code",
   "execution_count": null,
   "metadata": {},
   "outputs": [],
   "source": [
    "# since the fermentation is fed-batch, the volume increases with time but sampling reduces the volume\n",
    "## in total 400 mL were taken out by sampling\n",
    "## in order to make it a continuous reduction it is divided by the total number of timestemps\n",
    "df['Feed total [L/min]']=df['Glucose feed [L/min]']+df['Pump - Base [L/min]']+df['Pump - Acid [L/min]'] - 0.4/2767\n",
    "df['Volume [L]']=df['Feed total [L/min]'].cumsum().add(1)\n",
    "\n",
    "# # carolines euqation, question mark is just the concentration of water that goes in (last term)\n",
    "# df['F_evap [kg/h]'] = (df['Air feed [mL/min]']*60/100)*(0.0235*3294) - 0.65\n",
    "\n",
    "# Feed 1 contains 350 g/L glucose so a new parameter with the feed rate in g/h is added\n",
    "df['Glucose feed [g/h]']=df['Glucose feed [L/min]']*350*60\n",
    "\n",
    "# dissolved oxygen, stirring and the temperature fluctuate a lot so exponential smooting is applied\n",
    "df['DO2 [%]- smoothed']=df['DO2 [%]'].ewm(alpha=0.1).mean()\n",
    "df['Stirring [rpm]- smoothed']=df['Stirrer [rpm]'].ewm(alpha=0.1).mean()\n",
    "df['T [°C]- smoothed']=df['Temperature [°C]'].ewm(alpha=0.1).mean()"
   ]
  },
  {
   "cell_type": "code",
   "execution_count": null,
   "metadata": {},
   "outputs": [],
   "source": [
    "df['OUR [%/L/h]'] = ((df['Offgas O2 [%]']-df['Offgas O2 [%]'][0])/df['Volume [L]'])/(df['time [h]'])\n",
    "df['CER [%/L/h]'] = ((df['Offgas CO2 [%]']-df['Offgas CO2 [%]'][0])/df['Volume [L]'])/(df['time [h]'])\n",
    "df['RQ'] = df['CER [%/L/h]'] / df['OUR [%/L/h]']*(-1)\n",
    "df.head()"
   ]
  },
  {
   "cell_type": "code",
   "execution_count": null,
   "metadata": {},
   "outputs": [],
   "source": [
    "# the total volume in the end of the fermentation is compared with the experimental data\n",
    "df['Volume [L]'].max()"
   ]
  },
  {
   "cell_type": "code",
   "execution_count": null,
   "metadata": {},
   "outputs": [],
   "source": [
    "df.sort_index(axis=1, inplace=True)"
   ]
  },
  {
   "cell_type": "code",
   "execution_count": null,
   "metadata": {},
   "outputs": [],
   "source": [
    "# save dataframe as csv and xlsx files\n",
    "df.to_csv('data/data_combined.csv')\n",
    "df.to_excel('data/data_combined.xlsx')"
   ]
  },
  {
   "attachments": {},
   "cell_type": "markdown",
   "metadata": {},
   "source": [
    "##### 4. Visualization"
   ]
  },
  {
   "cell_type": "code",
   "execution_count": null,
   "metadata": {},
   "outputs": [],
   "source": [
    "df.columns"
   ]
  },
  {
   "cell_type": "code",
   "execution_count": null,
   "metadata": {},
   "outputs": [],
   "source": [
    "fig, ax = plt.subplots(1,1,figsize=(15,8))\n",
    "\n",
    "ax_2nd=ax.twinx()\n",
    "ax_3rd=ax.twinx()\n",
    "ax_4th=ax.twinx()\n",
    "ax_5th=ax.twinx()\n",
    "\n",
    "ax_5th.plot(df['time [h]'], df['Stirring [rpm]- smoothed'], label='Stirring [rpm]', color='indigo', linewidth=2)\n",
    "ax_4th.plot(df['time [h]'], df['Glucose feed [g/h]'], label='Glucose feed [g/h]', color='maroon', linewidth=2)\n",
    "ax_4th.scatter(df['time [h]'], df['Glucose [g/L]'], label='Glucose Conc. [g/L]', linewidth=7, color='chocolate')\n",
    "ax_4th.plot(df['time [h]'], df['DO2 [%]- smoothed'], label='DO2 [%]- smoothed', color='green', linewidth=2)\n",
    "ax_3rd.plot(df['time [h]'], df['T [°C]- smoothed'], label='T [°C]- smoothed', color='red', linewidth=2)\n",
    "ax_3rd.set_ylim(29,30.5)\n",
    "ax_2nd.plot(df['time [h]'], df['Offgas O2 [%]'], label='Offgas O2 [%]', color='deepskyblue', linewidth=2)\n",
    "ax.plot(df['time [h]'], df['Volume [L]'], label='Volume [L]', color='gold', linewidth=2)\n",
    "ax.plot(df['time [h]'], df['Offgas CO2 [%]'], label='Offgas CO2 [%]', color='royalblue', linewidth=2)\n",
    "ax.plot(df['time [h]'], df['pH Value (pH)'], label='pH Value (pH)', color='orange', linewidth=2)\n",
    "#ax.plot(df['time [h]'], df['Air feed [mL/min]'], label='Flow - Air Value', color='aqua', linewidth=2)\n",
    "ax_2nd.scatter(df['time [h]'], df['Biomass [g/L]'], linewidth=7, color='plum', label='biomass')\n",
    "\n",
    "ax_3rd.spines.right.set_position((\"axes\", 1.07))\n",
    "ax_4th.spines.right.set_position((\"axes\", 1.14))\n",
    "ax_5th.spines.right.set_position((\"axes\", 1.21))\n",
    "\n",
    "ax.set_xlabel('time [h]')\n",
    "ax.set_ylabel('pH     &     Offgas CO2 [%]     &     Volume [L]') #     Flow - Air     &, color='orange'\n",
    "ax_2nd.set_ylabel('Biomass [g/L]     &     Offgas O2 [%]') #, color='royalblue'\n",
    "ax_3rd.set_ylabel('T [°C]- smoothed', color='red')\n",
    "ax_4th.set_ylabel('Glucose feed [g/h]     &     DO2 - smoothed&     Glucose(HPLC)[g/L] ') #, color='green'\n",
    "ax_5th.set_ylabel('Stirrer [rpm]', color='indigo')\n",
    "\n",
    "# Get the handles and labels from all the axes\n",
    "handles, labels = ax.get_legend_handles_labels()\n",
    "handles_2nd, labels_2nd = ax_2nd.get_legend_handles_labels()\n",
    "handles_3rd, labels_3rd = ax_3rd.get_legend_handles_labels()\n",
    "handles_4th, labels_4th = ax_4th.get_legend_handles_labels()\n",
    "handles_5th, labels_5th = ax_5th.get_legend_handles_labels()\n",
    "\n",
    "# Combine the handles and labels from all the axes\n",
    "all_handles = handles + handles_2nd + handles_3rd + handles_4th + handles_5th\n",
    "all_labels = labels + labels_2nd + labels_3rd + labels_4th + labels_5th\n",
    "\n",
    "# Create a single legend using the combined handles and labels\n",
    "ax.legend(all_handles, all_labels, loc='upper center', bbox_to_anchor=(0.5, 1.1), ncols=5)\n",
    "\n",
    "plt.show()"
   ]
  },
  {
   "cell_type": "code",
   "execution_count": null,
   "metadata": {},
   "outputs": [],
   "source": [
    "fig, ax = plt.subplots()\n",
    "ax_2nd=ax.twinx()\n",
    "#ax_3rd=ax.twinx()\n",
    "\n",
    "ax.scatter(df['time [h]'], df['Yxs [gx/gs]'], label='Yxs [gx/gs]', color='forestgreen', linewidth=3)\n",
    "ax.scatter(df['time [h]'], df['mu between direct samples [1/h]'], label='mu [1/h]', color='steelblue', linewidth=3)\n",
    "ax.set_ylim(-2,1)\n",
    "ax_2nd.scatter(df['time [h]'], df['Biomass [g/L]'], label='Biomass [g/L]', color='plum', linewidth=3)\n",
    "ax_2nd.plot(df['time [h]'], df['Glucose feed [g/h]'], label='Glucose feed [g/h]', color='maroon', linewidth=2)\n",
    "ax_2nd.scatter(df['time [h]'], df['Glucose [g/L]'], label='Glucose Conc. [g/L]', color='chocolate', linewidth=3)\n",
    "#ax_3rd.spines.right.set_position((\"axes\", 1.15))\n",
    "\n",
    "ax.set_xlabel('time [h]')\n",
    "ax.set_ylabel('Yxs [gx/gs] & mu [1/h]')\n",
    "ax_2nd.set_ylabel('Biomass [g/L] & Glucose feed [g/h] & Glucose Conc. [g/L]')\n",
    "#ax_3rd.set_ylabel('Glucose feed [g/h] & Glucose Conc. [g/L]')\n",
    "\n",
    "handles, labels = ax.get_legend_handles_labels()\n",
    "handles_2nd, labels_2nd = ax_2nd.get_legend_handles_labels()\n",
    "#handles_3rd, labels_3rd = ax_3rd.get_legend_handles_labels()\n",
    "\n",
    "# Combine the handles and labels from all the axes\n",
    "all_handles = handles + handles_2nd # + handles_3rd\n",
    "all_labels = labels + labels_2nd # + labels_3rd\n",
    "\n",
    "# Create a single legend using the combined handles and labels\n",
    "ax.legend(all_handles, all_labels, loc='upper center', bbox_to_anchor=(0.5, 1.1), ncols=5)\n",
    "plt.show()"
   ]
  },
  {
   "cell_type": "code",
   "execution_count": null,
   "metadata": {},
   "outputs": [],
   "source": [
    "fig, ax = plt.subplots(1, 2, figsize=(15,3))\n",
    "\n",
    "ax[0].scatter(df['Glucose [g/L]'], df['mu between direct samples [1/h]'], label='mu [1/h]', color='steelblue', linewidth=1)\n",
    "ax[1].scatter(df['Glucose [g/L]'], df['mu between direct samples [1/h]'], label='mu [1/h]', color='forestgreen', linewidth=1)\n",
    "\n",
    "ax[0].set_xlabel('Glucose [g/L]')\n",
    "ax[0].set_ylabel('mu [1/h]')\n",
    "ax[1].set_xlabel('Glucose [g/L]')\n",
    "ax[1].set_ylabel('mu [1/h]')\n",
    "\n",
    "\n",
    "ax[0].set_title('mu 1 [1/h] vs Glucose [g/L]')\n",
    "ax[1].set_title('mu 2 [1/h] vs Glucose [g/L]')\n",
    "plt.show()"
   ]
  },
  {
   "cell_type": "code",
   "execution_count": null,
   "metadata": {},
   "outputs": [],
   "source": [
    "fig, ax = plt.subplots(1, 2, figsize=(15,3))\n",
    "\n",
    "ax[0].scatter(df['time [h]'], df['Yxs 1.1 [gx/gs]'], label='mu [1/h]', color='steelblue', linewidth=1)\n",
    "ax[1].scatter(df['time [h]'], df['Yxs 2.1 [gx/gs]'], label='Yxs [gx/gs]', color='forestgreen', linewidth=1)\n",
    "\n",
    "#ax[0].set_ylim(0,2.5)\n",
    "#ax[1].set_ylim(-3,1)\n",
    "\n",
    "ax[0].set_title('Yxs 1.1')\n",
    "ax[1].set_title('Yxs 2.1')\n",
    "plt.show()"
   ]
  },
  {
   "cell_type": "code",
   "execution_count": null,
   "metadata": {},
   "outputs": [],
   "source": [
    "fig, ax = plt.subplots(1, 4, figsize=(20,3))\n",
    "\n",
    "ax[0].scatter(df['Glucose [g/L]'], df['mu 1 [1/h]'], label='mu [1/h]', color='steelblue', linewidth=1)\n",
    "ax[1].scatter(df['Glucose [g/L]'], df['mu 2 [1/h]'], label='mu [1/h]', color='steelblue', linewidth=1)\n",
    "#ax[1].set_ylim(-0.2, 0.2)\n",
    "ax[2].scatter(df['time [h]'], df['Yxs 2.1 [gx/gs]'], label='Yxs [gx/gs]', color='forestgreen', linewidth=1)\n",
    "ax[3].scatter(df['time [h]'], df['Yxs 2.2 [gx/gs]'], label='Yxs [gx/gs]', color='forestgreen', linewidth=1)\n",
    "#ax[3].set_ylim(-2, 1)\n",
    "\n",
    "ax[0].set_xlabel('Glucose [g/L]')\n",
    "ax[0].set_ylabel('mu [1/h]')\n",
    "ax[1].set_xlabel('Glucose [g/L]')\n",
    "ax[1].set_ylabel('mu [1/h]')\n",
    "ax[2].set_xlabel('time [h]')\n",
    "ax[2].set_ylabel('Yxs [gx/gs]')\n",
    "ax[3].set_xlabel('time [h]')\n",
    "ax[3].set_ylabel('Yxs [gx/gs]')\n",
    "\n",
    "ax[0].set_title('mu [1/h] vs Glucose [g/L]')\n",
    "ax[1].set_title('mu [1/h] vs Glucose [g/L] - zoomed in')\n",
    "ax[2].set_title('Yxs [gx/gs] vs time [h]')\n",
    "ax[3].set_title('Yxs [gx/gs] vs time [h] - zoomed in')\n",
    "plt.show()"
   ]
  },
  {
   "cell_type": "code",
   "execution_count": null,
   "metadata": {},
   "outputs": [],
   "source": [
    "fig, ax = plt.subplots()\n",
    "\n",
    "ax.plot(df['time [h]'], df[['Cum. Base feed [L/min]', 'Cum. Acid feed [L/min]']], label=['Total Base [L]', 'Total Acid [L]'])\n",
    "\n",
    "ax.set_xlabel('time [h]')\n",
    "ax.set_ylabel(['Cum. Base/Acid feed [L]'])\n",
    "ax.legend()\n",
    "plt.show()"
   ]
  },
  {
   "cell_type": "code",
   "execution_count": null,
   "metadata": {},
   "outputs": [],
   "source": [
    "fig, ax = plt.subplots()\n",
    "\n",
    "ax_sec=ax.twinx()\n",
    "ax.plot(df['time [h]'], df[['CER [%/L/h]', 'OUR [%/L/h]']], label=['CER', 'OUR'])\n",
    "ax_sec.plot(df['time [h]'],df['RQ'], label=['RQ'], color='green')\n",
    "\n",
    "ax.set_xlabel('time [h]')\n",
    "ax.set_ylabel(['CER [%/L/h]', 'OUR [%/L/h]'])\n",
    "ax_sec.set_ylabel(['RQ'])\n",
    "# Get the handles and labels from all the axes\n",
    "handles, labels = ax.get_legend_handles_labels()\n",
    "handles_2nd, labels_2nd = ax_sec.get_legend_handles_labels()\n",
    "\n",
    "# Combine the handles and labels from all the axes\n",
    "all_handles = handles + handles_2nd\n",
    "all_labels = labels + labels_2nd\n",
    "\n",
    "# Create a single legend using the combined handles and labels\n",
    "ax.legend(all_handles, all_labels, loc='upper center', bbox_to_anchor=(0.5, 1.1), ncols=3)\n",
    "\n",
    "plt.show()"
   ]
  },
  {
   "attachments": {},
   "cell_type": "markdown",
   "metadata": {},
   "source": [
    "Calculation how much glucose was fed in total when the last sample was taken:\n",
    "\n",
    "1. Feed started as ramp at **start_feed_ramp**\n",
    "2. Feed was constant starting after **start_feed_const**\n",
    "3. Feed was stopped at **end_feed**"
   ]
  },
  {
   "cell_type": "code",
   "execution_count": null,
   "metadata": {},
   "outputs": [],
   "source": [
    "start_feed_ramp = 9.92 # Start time of linear feed rate (hours)\n",
    "start_feed_const = 28  # End time of linear feed rate (hours)\n",
    "end_feed = 28 # Time when feed rate ends  (hours)\n",
    "\n",
    "feed_rate_start = 0.005  # Initial feed rate (L/h)\n",
    "feed_rate_end = 0.063   # Final feed rate (L/h)\n",
    "feed_rate_constant = 0.102  # Constant feed rate (L/h)\n",
    "\n",
    "feed_concentration = 350  # Concentration of feed solution (g/L)\n",
    "fermentation_time = end_feed  # Total fermentation time (hours)\n",
    "\n",
    "# Calculate the duration of ramp and constant feeding\n",
    "ramp_duration = start_feed_const - start_feed_ramp\n",
    "constant_duration = end_feed - start_feed_const\n",
    "\n",
    "print(f'ramp feed for {ramp_duration} h & constant feed for {constant_duration} h')"
   ]
  },
  {
   "cell_type": "code",
   "execution_count": null,
   "metadata": {},
   "outputs": [],
   "source": [
    "# Calculating the average feed rate based on the start and end value\n",
    "avg_feedrate_ramp = (feed_rate_start + feed_rate_end) / 2 #[L/h]\n",
    "\n",
    "\n",
    "# Calculating the total volume \n",
    "feed_volume_ramp = avg_feedrate_ramp * ramp_duration #[L]\n",
    "\n",
    "# Same for constant feeding phase\n",
    "feed_volume_const = feed_rate_constant * constant_duration #[L]\n",
    "\n",
    "# Total feed volume\n",
    "total_glucose = feed_volume_ramp + feed_volume_const #[L]\n",
    "\n",
    "# Calculate the total amount of glucose in grams\n",
    "total_glucose_grams = total_glucose * feed_concentration #[gs]\n",
    "print(\"Total amount of glucose after {} hours: {:.2f} grams\".format(fermentation_time, total_glucose_grams))"
   ]
  },
  {
   "attachments": {},
   "cell_type": "markdown",
   "metadata": {},
   "source": [
    "Calculating the amount of glc added just for the time slots inside the ramp"
   ]
  },
  {
   "cell_type": "code",
   "execution_count": null,
   "metadata": {},
   "outputs": [],
   "source": [
    "start_feed_ramp1 = 9.92 # Start time of linear feed rate (hours)\n",
    "start_feed_const1 = 21.3 # changes this value to each sample point and run it\n",
    "\n",
    "\n",
    "# Calculating the average feed rate based on the start and end value\n",
    "avg_feedrate_ramp = (feed_rate_start + feed_rate_end) / 2 #[L/h]\n",
    "\n",
    "ramp_duration = start_feed_const1 - start_feed_ramp1 # [h]\n",
    "\n",
    "# Calculating the total volume \n",
    "feed_volume_ramp = avg_feedrate_ramp * ramp_duration #[L]\n",
    "\n",
    "# Calculate the total amount of glucose in grams\n",
    "total_glucose_grams = feed_volume_ramp * feed_concentration #[gs]\n",
    "\n",
    "print(\"Total amount of glucose\" , total_glucose_grams)"
   ]
  },
  {
   "cell_type": "code",
   "execution_count": null,
   "metadata": {},
   "outputs": [],
   "source": [
    "# over the whole fed-batch phase: adding 350 g/l (1l) to 1 L, --> 175 g/l  without consumption \n",
    "Yxs_consumed = (23.1 - 5.5)/(175-120.48)\n",
    "\n",
    "print(Yxs_consumed)"
   ]
  },
  {
   "attachments": {},
   "cell_type": "markdown",
   "metadata": {},
   "source": [
    "Signal/noise ratio: \n",
    "Temperature"
   ]
  },
  {
   "cell_type": "code",
   "execution_count": null,
   "metadata": {},
   "outputs": [],
   "source": [
    "# calculating the signal to noise ratio with the mean of the signal, divided by the standard deviation \n",
    "\n",
    "signal_amplitude  = np.mean(df['Temperature [°C]'])\n",
    "\n",
    "temperature_signal = df['Temperature [°C]']\n",
    "noise_free_portion = 30 #grad\n",
    "\n",
    "df ['noise'] = df['Temperature [°C]'] - noise_free_portion\n",
    "noise_std  = np.std(df['noise'])\n",
    "\n",
    "snr = signal_amplitude / noise_std\n",
    "\n",
    "df['snr2'] = df['Temperature [°C]']/ noise_std\n",
    "\n",
    "print(signal_amplitude)\n",
    "print(noise_std)\n",
    "print(df['noise'])\n",
    "print(\"SNR:\", snr)\n",
    "print(\"SNR2:\",df['snr2'])"
   ]
  },
  {
   "cell_type": "code",
   "execution_count": null,
   "metadata": {},
   "outputs": [],
   "source": [
    "fig, ax = plt.subplots()\n",
    "\n",
    "ax.plot(df['time [h]'], df[['Temperature [°C]']], label=['Temperature]'])\n",
    "ax_sec.plot(df['time [h]'],df['snr2'], label=['snr2'], color='green')\n",
    "\n",
    "ax.set_xlabel('time [h]')\n",
    "ax.set_ylabel(['Temperature [°C]]'])\n",
    "ax.set_ylabel('Temperature [°C]]')\n",
    "ax_sec.set_ylabel(['snr2'])\n",
    "\n",
    "ax.legend()\n",
    "\n",
    "plt.show()"
   ]
  },
  {
   "attachments": {},
   "cell_type": "markdown",
   "metadata": {},
   "source": [
    "Plot: dynamics of qs, mu and Yx/s"
   ]
  },
  {
   "cell_type": "code",
   "execution_count": null,
   "metadata": {},
   "outputs": [],
   "source": [
    "# Create a new figure and set the size\n",
    "plt.figure(figsize=(8, 6))\n",
    "\n",
    "# Plot the first subplot\n",
    "plt.subplot(3, 1, 1)  # (rows, columns, plot_number)\n",
    "plt.plot(df_Yxs['time [h]'], df_Yxs['mu between direct samples [1/h]'], 'r-', label='growth rate μ  [1/h]')\n",
    "plt.title('growth rate μ  [1/h]')\n",
    "plt.legend()\n",
    "\n",
    "# Add annotation for phase 1\n",
    "plt.annotate('Phase 1', xy=(10, 0.6), xytext=(5, 0.8))\n",
    "plt.plot([10, 10], [0.75, 0], 'k--')\n",
    "# Add annotation for phase 2\n",
    "plt.annotate('Phase 2', xy=(23.3, 0.3), xytext=(15, 0.8))\n",
    "plt.plot([23.3, 23.3], [0.75, 0], 'k--')\n",
    "plt.annotate('Phase 3', xy=(42, 0.3), xytext=(25, 0.8))\n",
    "\n",
    "# Plot the second subplot\n",
    "plt.subplot(3, 1, 2)  # (rows, columns, plot_number)\n",
    "plt.plot(df_Yxs['time [h]'], df_Yxs['Yxs [gx/gs]'], 'g-', label='Yxs [x g/l / s g/l]')\n",
    "plt.title('Yxs [gx/gs]')\n",
    "plt.legend()\n",
    "\n",
    "# Add annotation for phase 1\n",
    "plt.annotate('Phase 1', xy=(10, 0.6), xytext=(5, 5))\n",
    "plt.plot([10, 10], [6, 0], 'k--')\n",
    "# Add annotation for phase 2\n",
    "plt.annotate('Phase 2', xy=(23, 0.6), xytext=(15, 5))\n",
    "plt.plot([23.3, 23.3], [6, 0], 'k--')\n",
    "# Add annotation for phase 3\n",
    "plt.annotate('Phase 3', xy=(42, 0.3),  xytext=(25, 5))\n",
    "\n",
    "# Plot the third subplot\n",
    "plt.subplot(3, 1, 3)  # (rows, columns, plot_number)\n",
    "plt.plot(df_Yxs['time [h]'], df_Yxs['qs 1 - ds/dt/x - [1/h]'] , 'b-', label='qs 1 [1/h]')\n",
    "plt.title('qs 1 [1/h]')\n",
    "plt.legend()\n",
    "\n",
    "# Add annotation for phase 1\n",
    "plt.annotate('Phase 1', xy=(10, 0.6), xytext=(5, 0.8))\n",
    "plt.plot([10, 10], [1, 0], 'k--')\n",
    "# Add annotation for phase 2\n",
    "plt.annotate('Phase 2', xy=(23, 0.6), xytext=(15, 0.8))\n",
    "plt.plot([23.3, 23.3], [1, 0], 'k--')\n",
    "\n",
    "plt.annotate('Phase 3', xy=(42, 0.6), xytext=(25, 0.8))\n",
    "\n",
    "# Adjust spacing between subplots\n",
    "plt.tight_layout()\n",
    "\n",
    "# Show the plot\n",
    "plt.show()"
   ]
  }
 ],
 "metadata": {
  "kernelspec": {
   "display_name": "june_project",
   "language": "python",
   "name": "python3"
  },
  "language_info": {
   "codemirror_mode": {
    "name": "ipython",
    "version": 3
   },
   "file_extension": ".py",
   "mimetype": "text/x-python",
   "name": "python",
   "nbconvert_exporter": "python",
   "pygments_lexer": "ipython3",
   "version": "3.9.13"
  },
  "orig_nbformat": 4
 },
 "nbformat": 4,
 "nbformat_minor": 2
}
