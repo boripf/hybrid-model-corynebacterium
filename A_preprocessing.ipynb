{
 "cells": [
  {
   "attachments": {},
   "cell_type": "markdown",
   "metadata": {},
   "source": [
    "#### Structure of the document"
   ]
  },
  {
   "attachments": {},
   "cell_type": "markdown",
   "metadata": {},
   "source": [
    "##### 1. Import of experimental data\n",
    "##### 2. Preprocessing of the data\n",
    "\n",
    "First of all, the timestamp is transformed into the datetime format to be able to do 'time calcualtions' with it. This is important because each dataframe has its unique timestamp with varying sample frequencies. Therefore, a overall sample frequency of 1min is chosen for each dataframe which simplifies the alignment of the data. Within that step we need to decide how we handle the excessive data because usually we have multiple measurements in one minute. The parameters **Pump Acid Value** and **Pump Base Value** contain the information how much of each is fed to the system. Looking at all the data points that we have for one minute, we don't want to neglect any data of how much is going into the system. Consequently, we sum all feeds, divide it by the feeding duration, convert it into L/min and assigned that value to this minute. For the other parameters such as **Temperature**, **Stirring**, **Glucose feed**, **dissolved $O_2$**, **pH** and **Air flow**, this procedure doesn't make sense. Those parameters are continuously measured. The mean value is calculated and assigned to its minute. Be aware that this data treatment is a smoothing factor.\n",
    "\n",
    "##### 3. Calculations of new parameters\n",
    "\n",
    "- Conversion into suitable units\n",
    "- Outlier removal for glucose feed\n",
    "- Calculation of volume, OUR, CER and RQ\n",
    "\n",
    "##### 4. Saving the new dataframe as .csv file (data_combined.csv)\n",
    "##### 5. Visualization"
   ]
  },
  {
   "attachments": {},
   "cell_type": "markdown",
   "metadata": {},
   "source": [
    "#### Code"
   ]
  },
  {
   "cell_type": "code",
   "execution_count": 1,
   "metadata": {},
   "outputs": [],
   "source": [
    "import numpy as np\n",
    "import pandas as pd\n",
    "import matplotlib.pyplot as plt\n",
    "from datetime import datetime\n",
    "\n",
    "pd.options.mode.chained_assignment = None  # Suppress the warning"
   ]
  },
  {
   "attachments": {},
   "cell_type": "markdown",
   "metadata": {},
   "source": [
    "##### 1. Import experimental data"
   ]
  },
  {
   "attachments": {},
   "cell_type": "markdown",
   "metadata": {},
   "source": [
    "Temperature / Stirring / Feed of Glucose / Base & Acid / dissolved $O_2$ / pH / Air feed / Offgas analysis / Biomass / HPLC measurements"
   ]
  },
  {
   "cell_type": "code",
   "execution_count": 2,
   "metadata": {},
   "outputs": [],
   "source": [
    "df_T=pd.read_csv('data/fermentation raw data/May 26, 2023_10 58 18 AM_DTU 3-parameterValues_Temperature_Value.csv', sep=';')\n",
    "df_stir=pd.read_csv('data/fermentation raw data/May 26, 2023_10 58 18 AM_DTU 3-parameterValues_Stirrer_Value.csv', sep=';')\n",
    "df_feed1=pd.read_csv('data/fermentation raw data/May 26, 2023_10 58 18 AM_DTU 3-parameterValues_Feed 1_Value.csv', sep=';')\n",
    "df_base=pd.read_csv('data/fermentation raw data/May 26, 2023_10 58 18 AM_DTU 3-parameterValues_Pump - Base_Value.csv', sep=';')\n",
    "df_acid=pd.read_csv('data/fermentation raw data/May 26, 2023_10 58 18 AM_DTU 3-parameterValues_Pump - Acid_Value.csv', sep=';')\n",
    "df_pO2=pd.read_csv('data/fermentation raw data/May 26, 2023_10 58 18 AM_DTU 3-parameterValues_pO₂_Value.csv', sep=';')\n",
    "df_pH=pd.read_csv('data/fermentation raw data/May 26, 2023_10 58 18 AM_DTU 3-parameterValues_pH_Value.csv', sep=';')\n",
    "df_air=pd.read_csv('data/fermentation raw data/May 26, 2023_10 58 18 AM_DTU 3-parameterValues_Flow - Air_Value.csv', sep=';')\n",
    "df_offgas=pd.read_excel('data/fermentation raw data/offgas_data.xlsx')\n",
    "df_biomass=pd.read_csv('data/fermentation raw data/biomass_OD.csv', sep=';')\n",
    "df_hplc = pd.read_csv('data/fermentation raw data/HPLC.csv', sep=';')"
   ]
  },
  {
   "attachments": {},
   "cell_type": "markdown",
   "metadata": {},
   "source": [
    "##### 2. Data Preprocessing"
   ]
  },
  {
   "cell_type": "code",
   "execution_count": 3,
   "metadata": {},
   "outputs": [],
   "source": [
    "# group the dataframes -- acid and base will be pre-processed differently\n",
    "first_para=[df_T, df_stir, df_feed1, df_pO2, df_pH, df_air]\n",
    "second_para=[df_base, df_acid]"
   ]
  },
  {
   "cell_type": "code",
   "execution_count": 4,
   "metadata": {},
   "outputs": [],
   "source": [
    "start = '31-05-2023 10:14:00'\n",
    "end = '02-06-2023 08:22:00'\n",
    "start_time = datetime.strptime(start, '%d-%m-%Y %H:%M:%S')\n",
    "end_time = datetime.strptime(end, '%d-%m-%Y %H:%M:%S')"
   ]
  },
  {
   "attachments": {},
   "cell_type": "markdown",
   "metadata": {},
   "source": [
    "First parameter group (mean value for reduction of sampling frequency):"
   ]
  },
  {
   "cell_type": "code",
   "execution_count": 5,
   "metadata": {},
   "outputs": [],
   "source": [
    "# dataframes are prepared to be merged into one dataframe based on the timestamp\n",
    "df_merged1=pd.DataFrame()\n",
    "for df in first_para:\n",
    "    df_copy=df.copy()\n",
    "    # convert the timestamp into the datetime format and drop the original timestamp\n",
    "    df_copy.insert(0, 'DateTime', df_copy['Date'].astype(str)+' '+df_copy['Time'].astype(str))\n",
    "    df_copy.drop(['Date', 'Time'], axis=1, inplace=True)\n",
    "    df_copy['DateTime']=pd.to_datetime(df_copy['DateTime'], format='%b %d, %Y %I:%M:%S %p')\n",
    "\n",
    "    # values are converted to floats\n",
    "    df_copy[df_copy.columns[1]]=df_copy[df_copy.columns[1]].str.replace(',', '.')\n",
    "    df_copy[df_copy.columns[1]]=pd.to_numeric(df_copy[df_copy.columns[1]], errors='coerce')\n",
    "\n",
    "    # reduce sample frequency to 1min which makes the merge easier\n",
    "    ## mean value of each minute is taken\n",
    "    df_copy.set_index('DateTime', inplace=True)\n",
    "    df_resampled = df_copy.resample('1T').mean() # could be changed to sum/first/min/max...\n",
    "    df_resampled = df_resampled.reset_index()\n",
    "    \n",
    "    # dataframe is reduced to the start and end time of the fermentation\n",
    "    df_se=df_resampled[(df_resampled['DateTime'] > start_time) & (df_resampled['DateTime'] < end_time)]\n",
    "    df_se = df_se.reset_index(drop=True)\n",
    "    if df_merged1.empty:\n",
    "        df_merged1=df_se\n",
    "    else:\n",
    "        df_merged1=df_merged1.merge(df_se, on='DateTime', how='inner')"
   ]
  },
  {
   "attachments": {},
   "cell_type": "markdown",
   "metadata": {},
   "source": [
    "Second parameter group (sum for reduction of sampling frequency):"
   ]
  },
  {
   "cell_type": "code",
   "execution_count": 6,
   "metadata": {},
   "outputs": [],
   "source": [
    "# dataframes are prepared to be merged into one dataframe based on the timestamp\n",
    "# since the feed of base/acid lasts only 5s, data will be lost if we take the first value\n",
    "## instead we take the sum of the values within that minute and then later divide it by (5/60)\n",
    "df_merged2=pd.DataFrame()\n",
    "for df in second_para:\n",
    "    df_copy=df.copy()\n",
    "    # convert the timestamp into the datetime format and drop the original timestamp\n",
    "    df_copy.insert(0, 'DateTime', df_copy['Date'].astype(str)+' '+df_copy['Time'].astype(str))\n",
    "    df_copy.drop(['Date', 'Time'], axis=1, inplace=True)\n",
    "    df_copy['DateTime']=pd.to_datetime(df_copy['DateTime'], format='%b %d, %Y %I:%M:%S %p')\n",
    "\n",
    "    # values are converted to floats\n",
    "    df_copy[df_copy.columns[1]]=df_copy[df_copy.columns[1]].str.replace(',', '.')\n",
    "    df_copy[df_copy.columns[1]]=pd.to_numeric(df_copy[df_copy.columns[1]], errors='coerce')\n",
    "\n",
    "    # reduce sample frequency to 1min which makes the merge easier\n",
    "    ## mean value of each minute is taken\n",
    "    df_copy.set_index('DateTime', inplace=True)\n",
    "    df_resampled = df_copy.resample('1T').sum() # could be changed to sum/mean/first/min/max...\n",
    "    df_resampled = df_resampled.reset_index()\n",
    "    \n",
    "    # dataframe is reduced to the start and end time of the fermentation\n",
    "    df_se=df_resampled[(df_resampled['DateTime'] > start_time) & (df_resampled['DateTime'] < end_time)]\n",
    "    df_se = df_se.reset_index(drop=True)\n",
    "    if df_merged2.empty:\n",
    "        df_merged2=df_se\n",
    "    else:\n",
    "        df_merged2=df_merged2.merge(df_se, on='DateTime', how='inner')"
   ]
  },
  {
   "cell_type": "code",
   "execution_count": 7,
   "metadata": {},
   "outputs": [],
   "source": [
    "# merging the 2 dataframes\n",
    "df_merged3 = df_merged1.copy()\n",
    "df_merged3 = df_merged3.merge(df_merged2, on='DateTime', how='inner')"
   ]
  },
  {
   "attachments": {},
   "cell_type": "markdown",
   "metadata": {},
   "source": [
    "Merge offgas to the other parameters."
   ]
  },
  {
   "cell_type": "code",
   "execution_count": 8,
   "metadata": {},
   "outputs": [],
   "source": [
    "# offgas values are saved in another dataframe\n",
    "## same preprocessing as the others\n",
    "\n",
    "# methanol is zero for the whole time period and RMS is not needed\n",
    "## ethanol has 30 not zero values but the highest is 0.0001 %\n",
    "df_offgas.drop(['offg_ethanol', 'offg_methanol', 'offg_RMS'], axis=1, inplace=True) #\n",
    "# reduce sample frequency to 1min which makes the merge easier\n",
    "## mean value of each minute is taken\n",
    "df_offgas.set_index('Timestamp', inplace=True)\n",
    "df_resampled = df_offgas.resample('1T').mean() # could be changed to sum/mean/first/min/max...\n",
    "df_resampled.reset_index(drop=False, inplace=True)\n",
    "df_resampled.rename(columns={'Timestamp': 'DateTime'}, inplace=True)\n",
    "\n",
    "# dataframe is reduced to the start and end time of the fermentation\n",
    "df_offg=df_resampled[(df_resampled['DateTime'] > start_time) & (df_resampled['DateTime'] < end_time)]\n",
    "\n",
    "## checking if sum of measurements is equal to 100\n",
    "# df_offg['sum']=df_offg[['offg_co2', 'offg_n2', 'offg_o2']].sum(axis=1)\n",
    "# df_offg['y_CO2']=df_offg['offg_co2']/df_offg['sum']\n",
    "# df_offg['y_O2']=df_offg['offg_co2']/df_offg['sum']\n",
    "# df_offg['y_N2']=df_offg['offg_co2']/df_offg['sum']"
   ]
  },
  {
   "cell_type": "code",
   "execution_count": 9,
   "metadata": {},
   "outputs": [
    {
     "data": {
      "text/html": [
       "<div>\n",
       "<style scoped>\n",
       "    .dataframe tbody tr th:only-of-type {\n",
       "        vertical-align: middle;\n",
       "    }\n",
       "\n",
       "    .dataframe tbody tr th {\n",
       "        vertical-align: top;\n",
       "    }\n",
       "\n",
       "    .dataframe thead th {\n",
       "        text-align: right;\n",
       "    }\n",
       "</style>\n",
       "<table border=\"1\" class=\"dataframe\">\n",
       "  <thead>\n",
       "    <tr style=\"text-align: right;\">\n",
       "      <th></th>\n",
       "      <th>DateTime</th>\n",
       "      <th>Temperature [°C]</th>\n",
       "      <th>Stirrer [rpm]</th>\n",
       "      <th>Feed 1 Value (%)</th>\n",
       "      <th>DO2 [%]</th>\n",
       "      <th>pH Value (pH)</th>\n",
       "      <th>Flow - Air Value</th>\n",
       "      <th>Pump - Base Value (%)</th>\n",
       "      <th>Pump - Acid Value (%)</th>\n",
       "      <th>Offgas CO2 [%]</th>\n",
       "      <th>Offgas N2 [%]</th>\n",
       "      <th>Offgas O2 [%]</th>\n",
       "      <th>time [h]</th>\n",
       "    </tr>\n",
       "  </thead>\n",
       "  <tbody>\n",
       "    <tr>\n",
       "      <th>0</th>\n",
       "      <td>2023-05-31 10:15:00</td>\n",
       "      <td>29.869167</td>\n",
       "      <td>293.464167</td>\n",
       "      <td>0.0</td>\n",
       "      <td>72.283333</td>\n",
       "      <td>7.0225</td>\n",
       "      <td>1.0</td>\n",
       "      <td>0.0</td>\n",
       "      <td>0.0</td>\n",
       "      <td>0.03907</td>\n",
       "      <td>77.497645</td>\n",
       "      <td>21.178897</td>\n",
       "      <td>0.0</td>\n",
       "    </tr>\n",
       "  </tbody>\n",
       "</table>\n",
       "</div>"
      ],
      "text/plain": [
       "             DateTime  Temperature [°C]  Stirrer [rpm]  Feed 1 Value (%)  \\\n",
       "0 2023-05-31 10:15:00         29.869167     293.464167               0.0   \n",
       "\n",
       "     DO2 [%]  pH Value (pH)  Flow - Air Value  Pump - Base Value (%)  \\\n",
       "0  72.283333         7.0225               1.0                    0.0   \n",
       "\n",
       "   Pump - Acid Value (%)  Offgas CO2 [%]  Offgas N2 [%]  Offgas O2 [%]  \\\n",
       "0                    0.0         0.03907      77.497645      21.178897   \n",
       "\n",
       "   time [h]  \n",
       "0       0.0  "
      ]
     },
     "execution_count": 9,
     "metadata": {},
     "output_type": "execute_result"
    }
   ],
   "source": [
    "# add process duration in hours as time [h]\n",
    "df_merged4=df_merged3.merge(df_offg, on='DateTime', how='inner')\n",
    "first_timestamp = df_merged4['DateTime'].iloc[0]  # Get the first timestamp\n",
    "df_merged4['time [h]'] = (df_merged4['DateTime'] - first_timestamp) / pd.Timedelta(hours=1)\n",
    "df_merged4['time [h]'] = df_merged4['time [h]'].round(2)\n",
    "df_merged4.rename(columns={'Temperature Value (°C)': 'Temperature [°C]', 'Stirrer Value (rpm)': 'Stirrer [rpm]', 'pO₂ Value (pO₂)': 'DO2 [%]'}, errors='raise', inplace=True)\n",
    "df_merged4.rename(columns={'offg_co2': 'Offgas CO2 [%]', 'offg_n2': 'Offgas N2 [%]', 'offg_o2': 'Offgas O2 [%]'}, errors='raise', inplace=True)\n",
    "df_merged4.head(1)"
   ]
  },
  {
   "attachments": {},
   "cell_type": "markdown",
   "metadata": {},
   "source": [
    "Merge biomass to the other parameters."
   ]
  },
  {
   "cell_type": "code",
   "execution_count": 10,
   "metadata": {},
   "outputs": [
    {
     "data": {
      "text/html": [
       "<div>\n",
       "<style scoped>\n",
       "    .dataframe tbody tr th:only-of-type {\n",
       "        vertical-align: middle;\n",
       "    }\n",
       "\n",
       "    .dataframe tbody tr th {\n",
       "        vertical-align: top;\n",
       "    }\n",
       "\n",
       "    .dataframe thead th {\n",
       "        text-align: right;\n",
       "    }\n",
       "</style>\n",
       "<table border=\"1\" class=\"dataframe\">\n",
       "  <thead>\n",
       "    <tr style=\"text-align: right;\">\n",
       "      <th></th>\n",
       "      <th>Biomass [g/L]</th>\n",
       "      <th>time [h]</th>\n",
       "    </tr>\n",
       "  </thead>\n",
       "  <tbody>\n",
       "    <tr>\n",
       "      <th>0</th>\n",
       "      <td>0.694</td>\n",
       "      <td>0.2</td>\n",
       "    </tr>\n",
       "  </tbody>\n",
       "</table>\n",
       "</div>"
      ],
      "text/plain": [
       "   Biomass [g/L]  time [h]\n",
       "0          0.694       0.2"
      ]
     },
     "execution_count": 10,
     "metadata": {},
     "output_type": "execute_result"
    }
   ],
   "source": [
    "for col in df_biomass.columns:\n",
    "    df_biomass[col]=df_biomass[col].str.replace(',', '.')\n",
    "    df_biomass[col]=pd.to_numeric(df_biomass[col])\n",
    "df_biomass.rename(columns={'hours': 'time [h]', 'biomass (g/L)': 'Biomass [g/L]'}, inplace=True)\n",
    "df_biomass.head(1)"
   ]
  },
  {
   "attachments": {},
   "cell_type": "markdown",
   "metadata": {},
   "source": [
    "Merge HPLC data for glucose, lactic acid, acetic acid and ehtanol to other paramters."
   ]
  },
  {
   "cell_type": "code",
   "execution_count": 11,
   "metadata": {},
   "outputs": [
    {
     "data": {
      "text/html": [
       "<div>\n",
       "<style scoped>\n",
       "    .dataframe tbody tr th:only-of-type {\n",
       "        vertical-align: middle;\n",
       "    }\n",
       "\n",
       "    .dataframe tbody tr th {\n",
       "        vertical-align: top;\n",
       "    }\n",
       "\n",
       "    .dataframe thead th {\n",
       "        text-align: right;\n",
       "    }\n",
       "</style>\n",
       "<table border=\"1\" class=\"dataframe\">\n",
       "  <thead>\n",
       "    <tr style=\"text-align: right;\">\n",
       "      <th></th>\n",
       "      <th>time [h]</th>\n",
       "      <th>Glucose [g/L]</th>\n",
       "      <th>Glycerol [g/L]</th>\n",
       "      <th>Lactic acid [g/L]</th>\n",
       "      <th>Acetic acid [g/L]</th>\n",
       "      <th>Ethanol [g/L]</th>\n",
       "    </tr>\n",
       "  </thead>\n",
       "  <tbody>\n",
       "    <tr>\n",
       "      <th>0</th>\n",
       "      <td>0.2</td>\n",
       "      <td>10.44</td>\n",
       "      <td>0.34</td>\n",
       "      <td>0.08</td>\n",
       "      <td>0.02</td>\n",
       "      <td>0.08</td>\n",
       "    </tr>\n",
       "  </tbody>\n",
       "</table>\n",
       "</div>"
      ],
      "text/plain": [
       "   time [h]  Glucose [g/L]  Glycerol [g/L]  Lactic acid [g/L]  \\\n",
       "0       0.2          10.44            0.34               0.08   \n",
       "\n",
       "   Acetic acid [g/L]  Ethanol [g/L]  \n",
       "0               0.02           0.08  "
      ]
     },
     "execution_count": 11,
     "metadata": {},
     "output_type": "execute_result"
    }
   ],
   "source": [
    "for col in df_hplc.columns:\n",
    "     df_hplc[col] = df_hplc[col].str.replace(',', '.')\n",
    "     df_hplc[col] = pd.to_numeric(df_hplc[col])\n",
    "df_hplc.rename(columns={'Time [h]': 'time [h]'}, inplace=True)\n",
    "# the hplc measurements were diluted with XXX in a 1:1 ratio\n",
    "## therefore all values have to be multiplied by 2\n",
    "df_hplc.iloc[:, 1:5] *= 2\n",
    "df_hplc.head(1)"
   ]
  },
  {
   "cell_type": "code",
   "execution_count": 12,
   "metadata": {},
   "outputs": [
    {
     "data": {
      "text/html": [
       "<div>\n",
       "<style scoped>\n",
       "    .dataframe tbody tr th:only-of-type {\n",
       "        vertical-align: middle;\n",
       "    }\n",
       "\n",
       "    .dataframe tbody tr th {\n",
       "        vertical-align: top;\n",
       "    }\n",
       "\n",
       "    .dataframe thead th {\n",
       "        text-align: right;\n",
       "    }\n",
       "</style>\n",
       "<table border=\"1\" class=\"dataframe\">\n",
       "  <thead>\n",
       "    <tr style=\"text-align: right;\">\n",
       "      <th></th>\n",
       "      <th>Biomass [g/L]</th>\n",
       "      <th>time [h]</th>\n",
       "      <th>Glucose [g/L]</th>\n",
       "      <th>Glycerol [g/L]</th>\n",
       "      <th>Lactic acid [g/L]</th>\n",
       "      <th>Acetic acid [g/L]</th>\n",
       "      <th>Ethanol [g/L]</th>\n",
       "    </tr>\n",
       "  </thead>\n",
       "  <tbody>\n",
       "    <tr>\n",
       "      <th>0</th>\n",
       "      <td>0.694</td>\n",
       "      <td>0.2</td>\n",
       "      <td>10.44</td>\n",
       "      <td>0.34</td>\n",
       "      <td>0.08</td>\n",
       "      <td>0.02</td>\n",
       "      <td>0.08</td>\n",
       "    </tr>\n",
       "  </tbody>\n",
       "</table>\n",
       "</div>"
      ],
      "text/plain": [
       "   Biomass [g/L]  time [h]  Glucose [g/L]  Glycerol [g/L]  Lactic acid [g/L]  \\\n",
       "0          0.694       0.2          10.44            0.34               0.08   \n",
       "\n",
       "   Acetic acid [g/L]  Ethanol [g/L]  \n",
       "0               0.02           0.08  "
      ]
     },
     "execution_count": 12,
     "metadata": {},
     "output_type": "execute_result"
    }
   ],
   "source": [
    "# merging the biomass data with the hplc data\n",
    "df_Yxs = df_biomass.merge(df_hplc, on='time [h]', how='left')\n",
    "\n",
    "# Save the DataFrame to an Excel file\n",
    "df_Yxs.to_excel('data/Yxs_table.xlsx', index=False)\n",
    "df_Yxs.head(1)"
   ]
  },
  {
   "cell_type": "code",
   "execution_count": 13,
   "metadata": {},
   "outputs": [
    {
     "data": {
      "text/html": [
       "<div>\n",
       "<style scoped>\n",
       "    .dataframe tbody tr th:only-of-type {\n",
       "        vertical-align: middle;\n",
       "    }\n",
       "\n",
       "    .dataframe tbody tr th {\n",
       "        vertical-align: top;\n",
       "    }\n",
       "\n",
       "    .dataframe thead th {\n",
       "        text-align: right;\n",
       "    }\n",
       "</style>\n",
       "<table border=\"1\" class=\"dataframe\">\n",
       "  <thead>\n",
       "    <tr style=\"text-align: right;\">\n",
       "      <th></th>\n",
       "      <th>DateTime</th>\n",
       "      <th>Temperature [°C]</th>\n",
       "      <th>Stirrer [rpm]</th>\n",
       "      <th>Feed 1 Value (%)</th>\n",
       "      <th>DO2 [%]</th>\n",
       "      <th>pH Value (pH)</th>\n",
       "      <th>Flow - Air Value</th>\n",
       "      <th>Pump - Base Value (%)</th>\n",
       "      <th>Pump - Acid Value (%)</th>\n",
       "      <th>Offgas CO2 [%]</th>\n",
       "      <th>Offgas N2 [%]</th>\n",
       "      <th>Offgas O2 [%]</th>\n",
       "      <th>time [h]</th>\n",
       "      <th>Biomass [g/L]</th>\n",
       "      <th>Glucose [g/L]</th>\n",
       "      <th>Glycerol [g/L]</th>\n",
       "      <th>Lactic acid [g/L]</th>\n",
       "      <th>Acetic acid [g/L]</th>\n",
       "      <th>Ethanol [g/L]</th>\n",
       "    </tr>\n",
       "  </thead>\n",
       "  <tbody>\n",
       "    <tr>\n",
       "      <th>0</th>\n",
       "      <td>2023-05-31 10:15:00</td>\n",
       "      <td>29.869167</td>\n",
       "      <td>293.464167</td>\n",
       "      <td>0.0</td>\n",
       "      <td>72.283333</td>\n",
       "      <td>7.02250</td>\n",
       "      <td>1.0</td>\n",
       "      <td>0.0</td>\n",
       "      <td>0.0</td>\n",
       "      <td>0.039070</td>\n",
       "      <td>77.497645</td>\n",
       "      <td>21.178897</td>\n",
       "      <td>0.00</td>\n",
       "      <td>NaN</td>\n",
       "      <td>NaN</td>\n",
       "      <td>NaN</td>\n",
       "      <td>NaN</td>\n",
       "      <td>NaN</td>\n",
       "      <td>NaN</td>\n",
       "    </tr>\n",
       "    <tr>\n",
       "      <th>1</th>\n",
       "      <td>2023-05-31 10:16:00</td>\n",
       "      <td>29.863333</td>\n",
       "      <td>293.145833</td>\n",
       "      <td>0.0</td>\n",
       "      <td>65.328750</td>\n",
       "      <td>7.02000</td>\n",
       "      <td>1.0</td>\n",
       "      <td>0.0</td>\n",
       "      <td>0.0</td>\n",
       "      <td>0.039194</td>\n",
       "      <td>77.495783</td>\n",
       "      <td>21.178618</td>\n",
       "      <td>0.02</td>\n",
       "      <td>NaN</td>\n",
       "      <td>NaN</td>\n",
       "      <td>NaN</td>\n",
       "      <td>NaN</td>\n",
       "      <td>NaN</td>\n",
       "      <td>NaN</td>\n",
       "    </tr>\n",
       "    <tr>\n",
       "      <th>2</th>\n",
       "      <td>2023-05-31 10:17:00</td>\n",
       "      <td>29.827500</td>\n",
       "      <td>293.525833</td>\n",
       "      <td>0.0</td>\n",
       "      <td>58.371111</td>\n",
       "      <td>7.01125</td>\n",
       "      <td>1.0</td>\n",
       "      <td>0.0</td>\n",
       "      <td>0.0</td>\n",
       "      <td>0.039268</td>\n",
       "      <td>77.510640</td>\n",
       "      <td>21.174856</td>\n",
       "      <td>0.03</td>\n",
       "      <td>NaN</td>\n",
       "      <td>NaN</td>\n",
       "      <td>NaN</td>\n",
       "      <td>NaN</td>\n",
       "      <td>NaN</td>\n",
       "      <td>NaN</td>\n",
       "    </tr>\n",
       "  </tbody>\n",
       "</table>\n",
       "</div>"
      ],
      "text/plain": [
       "             DateTime  Temperature [°C]  Stirrer [rpm]  Feed 1 Value (%)  \\\n",
       "0 2023-05-31 10:15:00         29.869167     293.464167               0.0   \n",
       "1 2023-05-31 10:16:00         29.863333     293.145833               0.0   \n",
       "2 2023-05-31 10:17:00         29.827500     293.525833               0.0   \n",
       "\n",
       "     DO2 [%]  pH Value (pH)  Flow - Air Value  Pump - Base Value (%)  \\\n",
       "0  72.283333        7.02250               1.0                    0.0   \n",
       "1  65.328750        7.02000               1.0                    0.0   \n",
       "2  58.371111        7.01125               1.0                    0.0   \n",
       "\n",
       "   Pump - Acid Value (%)  Offgas CO2 [%]  Offgas N2 [%]  Offgas O2 [%]  \\\n",
       "0                    0.0        0.039070      77.497645      21.178897   \n",
       "1                    0.0        0.039194      77.495783      21.178618   \n",
       "2                    0.0        0.039268      77.510640      21.174856   \n",
       "\n",
       "   time [h]  Biomass [g/L]  Glucose [g/L]  Glycerol [g/L]  Lactic acid [g/L]  \\\n",
       "0      0.00            NaN            NaN             NaN                NaN   \n",
       "1      0.02            NaN            NaN             NaN                NaN   \n",
       "2      0.03            NaN            NaN             NaN                NaN   \n",
       "\n",
       "   Acetic acid [g/L]  Ethanol [g/L]  \n",
       "0                NaN            NaN  \n",
       "1                NaN            NaN  \n",
       "2                NaN            NaN  "
      ]
     },
     "execution_count": 13,
     "metadata": {},
     "output_type": "execute_result"
    }
   ],
   "source": [
    "# merging the biomass, substrates and coefficients to the overall dataframe\n",
    "df = df_merged4.merge(df_Yxs, on='time [h]', how='left')\n",
    "df.head(3)"
   ]
  },
  {
   "attachments": {},
   "cell_type": "markdown",
   "metadata": {},
   "source": [
    "##### 3. Calculation of process parameters"
   ]
  },
  {
   "attachments": {},
   "cell_type": "markdown",
   "metadata": {},
   "source": [
    "Final dataframe created. Now, adding parameters:"
   ]
  },
  {
   "cell_type": "code",
   "execution_count": 14,
   "metadata": {},
   "outputs": [],
   "source": [
    "# the peak around the 7th hour was not fed into the batch but just to accumulate the glucose in the pipe\n",
    "df.loc[df.index[428:431], 'Feed 1 Value (%)'] = 0\n",
    "\n",
    "# after 34 h the Glucose feed was most likely empty but it was still measured as feeding\n",
    "df.loc[df['time [h]'] > 34, 'Feed 1 Value (%)'] = 0\n",
    "df['Feed 1 Value (%)']=df['Feed 1 Value (%)']/(10*1000)\n",
    "df.rename(columns={'Feed 1 Value (%)': 'Glucose feed [L/min]'}, inplace=True)"
   ]
  },
  {
   "cell_type": "code",
   "execution_count": 15,
   "metadata": {},
   "outputs": [],
   "source": [
    "# one feed of base/acid lasts for max 5s. Since we have samples every minute I divided the value of the feed rate by 12 because I multiply by 5s*1/60s\n",
    "df['Pump - Base Value (%)']=df['Pump - Base Value (%)']/(12*10*1000)\n",
    "df['Pump - Acid Value (%)']=df['Pump - Acid Value (%)']/(12*10*1000)\n",
    "df.rename(columns={'Pump - Base Value (%)': 'Pump - Base [L/min]', 'Pump - Acid Value (%)': 'Pump - Acid [L/min]', 'Flow - Air Value': 'Air feed [mL/min]'}, inplace=True)\n",
    "\n",
    "# Cumulative Base Feed\n",
    "df['Cum. Base feed [L/min]']=df['Pump - Base [L/min]'].cumsum()\n",
    "df['Cum. Acid feed [L/min]']=df['Pump - Acid [L/min]'].cumsum()\n",
    "\n",
    "df['Air feed [mL/min]']=df['Air feed [mL/min]']/(10)"
   ]
  },
  {
   "cell_type": "code",
   "execution_count": 16,
   "metadata": {},
   "outputs": [],
   "source": [
    "df['Offgas CO2 [mL/min]']=df['Air feed [mL/min]'] * df['Offgas CO2 [%]']/100\n",
    "df['Offgas O2 [mL/min]']=df['Air feed [mL/min]'] * df['Offgas O2 [%]']/100\n",
    "df['Offgas N2 [mL/min]']=df['Air feed [mL/min]'] * df['Offgas N2 [%]']/100"
   ]
  },
  {
   "attachments": {},
   "cell_type": "markdown",
   "metadata": {},
   "source": [
    "Volume calculation is missing evaporation term - since no weight measurements, it is not included so far (no way to check if it is correct)"
   ]
  },
  {
   "cell_type": "code",
   "execution_count": 17,
   "metadata": {},
   "outputs": [],
   "source": [
    "# since the fermentation is fed-batch, the volume increases with time but sampling reduces the volume\n",
    "## in total 400 mL were taken out by sampling\n",
    "## in order to make it a continuous reduction it is divided by the total number of timestemps\n",
    "df['Feed total [L/min]']=df['Glucose feed [L/min]']+df['Pump - Base [L/min]']+df['Pump - Acid [L/min]'] - 0.4/2767\n",
    "df['Volume [L]']=df['Feed total [L/min]'].cumsum().add(1)\n",
    "\n",
    "# # carolines euqation, question mark is just the concentration of water that goes in (last term)\n",
    "# df['F_evap [kg/h]'] = (df['Air feed [mL/min]']*60/100)*(0.0235*3294) - 0.65\n",
    "\n",
    "# Feed 1 contains 350 g/L glucose so a new parameter with the feed rate in g/h is added\n",
    "df['Glucose feed [g/h]']=df['Glucose feed [L/min]']*350*60\n",
    "\n",
    "# dissolved oxygen, stirring and the temperature fluctuate a lot so exponential smooting is applied\n",
    "df['DO2 [%]- smoothed']=df['DO2 [%]'].ewm(alpha=0.1).mean()\n",
    "df['Stirring [rpm]- smoothed']=df['Stirrer [rpm]'].ewm(alpha=0.1).mean()\n",
    "df['T [°C]- smoothed']=df['Temperature [°C]'].ewm(alpha=0.1).mean()"
   ]
  },
  {
   "cell_type": "code",
   "execution_count": 18,
   "metadata": {},
   "outputs": [
    {
     "data": {
      "text/html": [
       "<div>\n",
       "<style scoped>\n",
       "    .dataframe tbody tr th:only-of-type {\n",
       "        vertical-align: middle;\n",
       "    }\n",
       "\n",
       "    .dataframe tbody tr th {\n",
       "        vertical-align: top;\n",
       "    }\n",
       "\n",
       "    .dataframe thead th {\n",
       "        text-align: right;\n",
       "    }\n",
       "</style>\n",
       "<table border=\"1\" class=\"dataframe\">\n",
       "  <thead>\n",
       "    <tr style=\"text-align: right;\">\n",
       "      <th></th>\n",
       "      <th>DateTime</th>\n",
       "      <th>Temperature [°C]</th>\n",
       "      <th>Stirrer [rpm]</th>\n",
       "      <th>Glucose feed [L/min]</th>\n",
       "      <th>DO2 [%]</th>\n",
       "      <th>pH Value (pH)</th>\n",
       "      <th>Air feed [mL/min]</th>\n",
       "      <th>Pump - Base [L/min]</th>\n",
       "      <th>Pump - Acid [L/min]</th>\n",
       "      <th>Offgas CO2 [%]</th>\n",
       "      <th>...</th>\n",
       "      <th>Offgas N2 [mL/min]</th>\n",
       "      <th>Feed total [L/min]</th>\n",
       "      <th>Volume [L]</th>\n",
       "      <th>Glucose feed [g/h]</th>\n",
       "      <th>DO2 [%]- smoothed</th>\n",
       "      <th>Stirring [rpm]- smoothed</th>\n",
       "      <th>T [°C]- smoothed</th>\n",
       "      <th>OUR [%/L/h]</th>\n",
       "      <th>CER [%/L/h]</th>\n",
       "      <th>RQ</th>\n",
       "    </tr>\n",
       "  </thead>\n",
       "  <tbody>\n",
       "    <tr>\n",
       "      <th>0</th>\n",
       "      <td>2023-05-31 10:15:00</td>\n",
       "      <td>29.869167</td>\n",
       "      <td>293.464167</td>\n",
       "      <td>0.0</td>\n",
       "      <td>72.283333</td>\n",
       "      <td>7.02250</td>\n",
       "      <td>0.1</td>\n",
       "      <td>0.0</td>\n",
       "      <td>0.0</td>\n",
       "      <td>0.039070</td>\n",
       "      <td>...</td>\n",
       "      <td>0.077498</td>\n",
       "      <td>-0.000145</td>\n",
       "      <td>0.999855</td>\n",
       "      <td>0.0</td>\n",
       "      <td>72.283333</td>\n",
       "      <td>293.464167</td>\n",
       "      <td>29.869167</td>\n",
       "      <td>NaN</td>\n",
       "      <td>NaN</td>\n",
       "      <td>NaN</td>\n",
       "    </tr>\n",
       "    <tr>\n",
       "      <th>1</th>\n",
       "      <td>2023-05-31 10:16:00</td>\n",
       "      <td>29.863333</td>\n",
       "      <td>293.145833</td>\n",
       "      <td>0.0</td>\n",
       "      <td>65.328750</td>\n",
       "      <td>7.02000</td>\n",
       "      <td>0.1</td>\n",
       "      <td>0.0</td>\n",
       "      <td>0.0</td>\n",
       "      <td>0.039194</td>\n",
       "      <td>...</td>\n",
       "      <td>0.077496</td>\n",
       "      <td>-0.000145</td>\n",
       "      <td>0.999711</td>\n",
       "      <td>0.0</td>\n",
       "      <td>68.623026</td>\n",
       "      <td>293.296623</td>\n",
       "      <td>29.866096</td>\n",
       "      <td>-0.013960</td>\n",
       "      <td>0.006206</td>\n",
       "      <td>0.444548</td>\n",
       "    </tr>\n",
       "    <tr>\n",
       "      <th>2</th>\n",
       "      <td>2023-05-31 10:17:00</td>\n",
       "      <td>29.827500</td>\n",
       "      <td>293.525833</td>\n",
       "      <td>0.0</td>\n",
       "      <td>58.371111</td>\n",
       "      <td>7.01125</td>\n",
       "      <td>0.1</td>\n",
       "      <td>0.0</td>\n",
       "      <td>0.0</td>\n",
       "      <td>0.039268</td>\n",
       "      <td>...</td>\n",
       "      <td>0.077511</td>\n",
       "      <td>-0.000145</td>\n",
       "      <td>0.999566</td>\n",
       "      <td>0.0</td>\n",
       "      <td>64.840032</td>\n",
       "      <td>293.381202</td>\n",
       "      <td>29.851854</td>\n",
       "      <td>-0.134778</td>\n",
       "      <td>0.006607</td>\n",
       "      <td>0.049023</td>\n",
       "    </tr>\n",
       "    <tr>\n",
       "      <th>3</th>\n",
       "      <td>2023-05-31 10:18:00</td>\n",
       "      <td>29.762727</td>\n",
       "      <td>293.107273</td>\n",
       "      <td>0.0</td>\n",
       "      <td>51.463750</td>\n",
       "      <td>7.01000</td>\n",
       "      <td>0.1</td>\n",
       "      <td>0.0</td>\n",
       "      <td>0.0</td>\n",
       "      <td>0.039736</td>\n",
       "      <td>...</td>\n",
       "      <td>0.077513</td>\n",
       "      <td>-0.000145</td>\n",
       "      <td>0.999422</td>\n",
       "      <td>0.0</td>\n",
       "      <td>60.950447</td>\n",
       "      <td>293.301548</td>\n",
       "      <td>29.825938</td>\n",
       "      <td>-0.135629</td>\n",
       "      <td>0.013330</td>\n",
       "      <td>0.098284</td>\n",
       "    </tr>\n",
       "    <tr>\n",
       "      <th>4</th>\n",
       "      <td>2023-05-31 10:19:00</td>\n",
       "      <td>29.820833</td>\n",
       "      <td>292.355000</td>\n",
       "      <td>0.0</td>\n",
       "      <td>52.295556</td>\n",
       "      <td>7.00500</td>\n",
       "      <td>0.1</td>\n",
       "      <td>0.0</td>\n",
       "      <td>0.0</td>\n",
       "      <td>0.041027</td>\n",
       "      <td>...</td>\n",
       "      <td>0.077511</td>\n",
       "      <td>-0.000145</td>\n",
       "      <td>0.999277</td>\n",
       "      <td>0.0</td>\n",
       "      <td>58.836972</td>\n",
       "      <td>293.070407</td>\n",
       "      <td>29.824691</td>\n",
       "      <td>-0.079263</td>\n",
       "      <td>0.027973</td>\n",
       "      <td>0.352917</td>\n",
       "    </tr>\n",
       "  </tbody>\n",
       "</table>\n",
       "<p>5 rows × 33 columns</p>\n",
       "</div>"
      ],
      "text/plain": [
       "             DateTime  Temperature [°C]  Stirrer [rpm]  Glucose feed [L/min]  \\\n",
       "0 2023-05-31 10:15:00         29.869167     293.464167                   0.0   \n",
       "1 2023-05-31 10:16:00         29.863333     293.145833                   0.0   \n",
       "2 2023-05-31 10:17:00         29.827500     293.525833                   0.0   \n",
       "3 2023-05-31 10:18:00         29.762727     293.107273                   0.0   \n",
       "4 2023-05-31 10:19:00         29.820833     292.355000                   0.0   \n",
       "\n",
       "     DO2 [%]  pH Value (pH)  Air feed [mL/min]  Pump - Base [L/min]  \\\n",
       "0  72.283333        7.02250                0.1                  0.0   \n",
       "1  65.328750        7.02000                0.1                  0.0   \n",
       "2  58.371111        7.01125                0.1                  0.0   \n",
       "3  51.463750        7.01000                0.1                  0.0   \n",
       "4  52.295556        7.00500                0.1                  0.0   \n",
       "\n",
       "   Pump - Acid [L/min]  Offgas CO2 [%]  ...  Offgas N2 [mL/min]  \\\n",
       "0                  0.0        0.039070  ...            0.077498   \n",
       "1                  0.0        0.039194  ...            0.077496   \n",
       "2                  0.0        0.039268  ...            0.077511   \n",
       "3                  0.0        0.039736  ...            0.077513   \n",
       "4                  0.0        0.041027  ...            0.077511   \n",
       "\n",
       "   Feed total [L/min]  Volume [L]  Glucose feed [g/h]  DO2 [%]- smoothed  \\\n",
       "0           -0.000145    0.999855                 0.0          72.283333   \n",
       "1           -0.000145    0.999711                 0.0          68.623026   \n",
       "2           -0.000145    0.999566                 0.0          64.840032   \n",
       "3           -0.000145    0.999422                 0.0          60.950447   \n",
       "4           -0.000145    0.999277                 0.0          58.836972   \n",
       "\n",
       "   Stirring [rpm]- smoothed  T [°C]- smoothed  OUR [%/L/h]  CER [%/L/h]  \\\n",
       "0                293.464167         29.869167          NaN          NaN   \n",
       "1                293.296623         29.866096    -0.013960     0.006206   \n",
       "2                293.381202         29.851854    -0.134778     0.006607   \n",
       "3                293.301548         29.825938    -0.135629     0.013330   \n",
       "4                293.070407         29.824691    -0.079263     0.027973   \n",
       "\n",
       "         RQ  \n",
       "0       NaN  \n",
       "1  0.444548  \n",
       "2  0.049023  \n",
       "3  0.098284  \n",
       "4  0.352917  \n",
       "\n",
       "[5 rows x 33 columns]"
      ]
     },
     "execution_count": 18,
     "metadata": {},
     "output_type": "execute_result"
    }
   ],
   "source": [
    "df['OUR [%/L/h]'] = ((df['Offgas O2 [%]']-df['Offgas O2 [%]'][0])/df['Volume [L]'])/(df['time [h]'])\n",
    "df['CER [%/L/h]'] = ((df['Offgas CO2 [%]']-df['Offgas CO2 [%]'][0])/df['Volume [L]'])/(df['time [h]'])\n",
    "df['RQ'] = df['CER [%/L/h]'] / df['OUR [%/L/h]']*(-1)\n",
    "df.head()"
   ]
  },
  {
   "cell_type": "code",
   "execution_count": 19,
   "metadata": {},
   "outputs": [
    {
     "data": {
      "text/plain": [
       "2.5870542727272703"
      ]
     },
     "execution_count": 19,
     "metadata": {},
     "output_type": "execute_result"
    }
   ],
   "source": [
    "# the total volume in the end of the fermentation is compared with the experimental data\n",
    "df['Volume [L]'].max()"
   ]
  },
  {
   "cell_type": "code",
   "execution_count": 20,
   "metadata": {},
   "outputs": [],
   "source": [
    "df.sort_index(axis=1, inplace=True)"
   ]
  },
  {
   "attachments": {},
   "cell_type": "markdown",
   "metadata": {},
   "source": [
    "##### 4. Save dataframe as .csv file"
   ]
  },
  {
   "cell_type": "code",
   "execution_count": 21,
   "metadata": {},
   "outputs": [],
   "source": [
    "# save dataframe as csv and xlsx files\n",
    "df.to_csv('data/data_combined.csv')\n",
    "df.to_excel('data/data_combined.xlsx')"
   ]
  },
  {
   "attachments": {},
   "cell_type": "markdown",
   "metadata": {},
   "source": [
    "##### 5. Visualization"
   ]
  },
  {
   "cell_type": "code",
   "execution_count": 22,
   "metadata": {},
   "outputs": [
    {
     "data": {
      "text/plain": [
       "Index(['Acetic acid [g/L]', 'Air feed [mL/min]', 'Biomass [g/L]',\n",
       "       'CER [%/L/h]', 'Cum. Acid feed [L/min]', 'Cum. Base feed [L/min]',\n",
       "       'DO2 [%]', 'DO2 [%]- smoothed', 'DateTime', 'Ethanol [g/L]',\n",
       "       'Feed total [L/min]', 'Glucose [g/L]', 'Glucose feed [L/min]',\n",
       "       'Glucose feed [g/h]', 'Glycerol [g/L]', 'Lactic acid [g/L]',\n",
       "       'OUR [%/L/h]', 'Offgas CO2 [%]', 'Offgas CO2 [mL/min]', 'Offgas N2 [%]',\n",
       "       'Offgas N2 [mL/min]', 'Offgas O2 [%]', 'Offgas O2 [mL/min]',\n",
       "       'Pump - Acid [L/min]', 'Pump - Base [L/min]', 'RQ', 'Stirrer [rpm]',\n",
       "       'Stirring [rpm]- smoothed', 'T [°C]- smoothed', 'Temperature [°C]',\n",
       "       'Volume [L]', 'pH Value (pH)', 'time [h]'],\n",
       "      dtype='object')"
      ]
     },
     "execution_count": 22,
     "metadata": {},
     "output_type": "execute_result"
    }
   ],
   "source": [
    "df.columns"
   ]
  },
  {
   "cell_type": "code",
   "execution_count": 23,
   "metadata": {},
   "outputs": [
    {
     "data": {
      "image/png": "[encoded data removed]",
      "text/plain": [
       "<Figure size 1500x800 with 5 Axes>"
      ]
     },
     "metadata": {},
     "output_type": "display_data"
    }
   ],
   "source": [
    "fig, ax = plt.subplots(1,1,figsize=(15,8))\n",
    "\n",
    "ax_2nd=ax.twinx()\n",
    "ax_3rd=ax.twinx()\n",
    "ax_4th=ax.twinx()\n",
    "ax_5th=ax.twinx()\n",
    "\n",
    "ax_5th.plot(df['time [h]'], df['Stirring [rpm]- smoothed'], label='Stirring [rpm]', color='indigo', linewidth=2)\n",
    "ax_4th.plot(df['time [h]'], df['Glucose feed [g/h]'], label='Glucose feed [g/h]', color='maroon', linewidth=2)\n",
    "ax_4th.scatter(df['time [h]'], df['Glucose [g/L]'], label='Glucose Conc. [g/L]', linewidth=7, color='chocolate')\n",
    "ax_4th.plot(df['time [h]'], df['DO2 [%]- smoothed'], label='DO2 [%]- smoothed', color='green', linewidth=2)\n",
    "ax_3rd.plot(df['time [h]'], df['T [°C]- smoothed'], label='T [°C]- smoothed', color='red', linewidth=2)\n",
    "ax_3rd.set_ylim(29,30.5)\n",
    "ax_2nd.plot(df['time [h]'], df['Offgas O2 [%]'], label='Offgas O2 [%]', color='deepskyblue', linewidth=2)\n",
    "ax.plot(df['time [h]'], df['Volume [L]'], label='Volume [L]', color='gold', linewidth=2)\n",
    "ax.plot(df['time [h]'], df['Offgas CO2 [%]'], label='Offgas CO2 [%]', color='royalblue', linewidth=2)\n",
    "ax.plot(df['time [h]'], df['pH Value (pH)'], label='pH Value (pH)', color='orange', linewidth=2)\n",
    "#ax.plot(df['time [h]'], df['Air feed [mL/min]'], label='Flow - Air Value', color='aqua', linewidth=2)\n",
    "ax_2nd.scatter(df['time [h]'], df['Biomass [g/L]'], linewidth=7, color='plum', label='biomass')\n",
    "\n",
    "ax_3rd.spines.right.set_position((\"axes\", 1.07))\n",
    "ax_4th.spines.right.set_position((\"axes\", 1.14))\n",
    "ax_5th.spines.right.set_position((\"axes\", 1.21))\n",
    "\n",
    "ax.set_xlabel('time [h]')\n",
    "ax.set_ylabel('pH     &     Offgas CO2 [%]     &     Volume [L]') #     Flow - Air     &, color='orange'\n",
    "ax_2nd.set_ylabel('Biomass [g/L]     &     Offgas O2 [%]') #, color='royalblue'\n",
    "ax_3rd.set_ylabel('T [°C]- smoothed', color='red')\n",
    "ax_4th.set_ylabel('Glucose feed [g/h]     &     DO2 - smoothed&     Glucose(HPLC)[g/L] ') #, color='green'\n",
    "ax_5th.set_ylabel('Stirrer [rpm]', color='indigo')\n",
    "\n",
    "# Get the handles and labels from all the axes\n",
    "handles, labels = ax.get_legend_handles_labels()\n",
    "handles_2nd, labels_2nd = ax_2nd.get_legend_handles_labels()\n",
    "handles_3rd, labels_3rd = ax_3rd.get_legend_handles_labels()\n",
    "handles_4th, labels_4th = ax_4th.get_legend_handles_labels()\n",
    "handles_5th, labels_5th = ax_5th.get_legend_handles_labels()\n",
    "\n",
    "# Combine the handles and labels from all the axes\n",
    "all_handles = handles + handles_2nd + handles_3rd + handles_4th + handles_5th\n",
    "all_labels = labels + labels_2nd + labels_3rd + labels_4th + labels_5th\n",
    "\n",
    "# Create a single legend using the combined handles and labels\n",
    "ax.legend(all_handles, all_labels, loc='upper center', bbox_to_anchor=(0.5, 1.1), ncols=5)\n",
    "\n",
    "plt.show()"
   ]
  },
  {
   "cell_type": "code",
   "execution_count": null,
   "metadata": {},
   "outputs": [],
   "source": [
    "fig, ax = plt.subplots()\n",
    "ax_2nd=ax.twinx()\n",
    "#ax_3rd=ax.twinx()\n",
    "\n",
    "ax.scatter(df['time [h]'], df['Yxs [gx/gs]'], label='Yxs [gx/gs]', color='forestgreen', linewidth=3)\n",
    "ax.scatter(df['time [h]'], df['mu between direct samples [1/h]'], label='mu [1/h]', color='steelblue', linewidth=3)\n",
    "ax.set_ylim(-2,1)\n",
    "ax_2nd.scatter(df['time [h]'], df['Biomass [g/L]'], label='Biomass [g/L]', color='plum', linewidth=3)\n",
    "ax_2nd.plot(df['time [h]'], df['Glucose feed [g/h]'], label='Glucose feed [g/h]', color='maroon', linewidth=2)\n",
    "ax_2nd.scatter(df['time [h]'], df['Glucose [g/L]'], label='Glucose Conc. [g/L]', color='chocolate', linewidth=3)\n",
    "#ax_3rd.spines.right.set_position((\"axes\", 1.15))\n",
    "\n",
    "ax.set_xlabel('time [h]')\n",
    "ax.set_ylabel('Yxs [gx/gs] & mu [1/h]')\n",
    "ax_2nd.set_ylabel('Biomass [g/L] & Glucose feed [g/h] & Glucose Conc. [g/L]')\n",
    "#ax_3rd.set_ylabel('Glucose feed [g/h] & Glucose Conc. [g/L]')\n",
    "\n",
    "handles, labels = ax.get_legend_handles_labels()\n",
    "handles_2nd, labels_2nd = ax_2nd.get_legend_handles_labels()\n",
    "#handles_3rd, labels_3rd = ax_3rd.get_legend_handles_labels()\n",
    "\n",
    "# Combine the handles and labels from all the axes\n",
    "all_handles = handles + handles_2nd # + handles_3rd\n",
    "all_labels = labels + labels_2nd # + labels_3rd\n",
    "\n",
    "# Create a single legend using the combined handles and labels\n",
    "ax.legend(all_handles, all_labels, loc='upper center', bbox_to_anchor=(0.5, 1.1), ncols=5)\n",
    "plt.show()"
   ]
  },
  {
   "cell_type": "code",
   "execution_count": null,
   "metadata": {},
   "outputs": [],
   "source": [
    "fig, ax = plt.subplots(1, 2, figsize=(15,3))\n",
    "\n",
    "ax[0].scatter(df['Glucose [g/L]'], df['mu between direct samples [1/h]'], label='mu [1/h]', color='steelblue', linewidth=1)\n",
    "ax[1].scatter(df['Glucose [g/L]'], df['mu between direct samples [1/h]'], label='mu [1/h]', color='forestgreen', linewidth=1)\n",
    "\n",
    "ax[0].set_xlabel('Glucose [g/L]')\n",
    "ax[0].set_ylabel('mu [1/h]')\n",
    "ax[1].set_xlabel('Glucose [g/L]')\n",
    "ax[1].set_ylabel('mu [1/h]')\n",
    "\n",
    "\n",
    "ax[0].set_title('mu 1 [1/h] vs Glucose [g/L]')\n",
    "ax[1].set_title('mu 2 [1/h] vs Glucose [g/L]')\n",
    "plt.show()"
   ]
  },
  {
   "cell_type": "code",
   "execution_count": null,
   "metadata": {},
   "outputs": [],
   "source": [
    "fig, ax = plt.subplots(1, 2, figsize=(15,3))\n",
    "\n",
    "ax[0].scatter(df['time [h]'], df['Yxs 1.1 [gx/gs]'], label='mu [1/h]', color='steelblue', linewidth=1)\n",
    "ax[1].scatter(df['time [h]'], df['Yxs 2.1 [gx/gs]'], label='Yxs [gx/gs]', color='forestgreen', linewidth=1)\n",
    "\n",
    "#ax[0].set_ylim(0,2.5)\n",
    "#ax[1].set_ylim(-3,1)\n",
    "\n",
    "ax[0].set_title('Yxs 1.1')\n",
    "ax[1].set_title('Yxs 2.1')\n",
    "plt.show()"
   ]
  },
  {
   "cell_type": "code",
   "execution_count": null,
   "metadata": {},
   "outputs": [],
   "source": [
    "fig, ax = plt.subplots(1, 4, figsize=(20,3))\n",
    "\n",
    "ax[0].scatter(df['Glucose [g/L]'], df['mu 1 [1/h]'], label='mu [1/h]', color='steelblue', linewidth=1)\n",
    "ax[1].scatter(df['Glucose [g/L]'], df['mu 2 [1/h]'], label='mu [1/h]', color='steelblue', linewidth=1)\n",
    "#ax[1].set_ylim(-0.2, 0.2)\n",
    "ax[2].scatter(df['time [h]'], df['Yxs 2.1 [gx/gs]'], label='Yxs [gx/gs]', color='forestgreen', linewidth=1)\n",
    "ax[3].scatter(df['time [h]'], df['Yxs 2.2 [gx/gs]'], label='Yxs [gx/gs]', color='forestgreen', linewidth=1)\n",
    "#ax[3].set_ylim(-2, 1)\n",
    "\n",
    "ax[0].set_xlabel('Glucose [g/L]')\n",
    "ax[0].set_ylabel('mu [1/h]')\n",
    "ax[1].set_xlabel('Glucose [g/L]')\n",
    "ax[1].set_ylabel('mu [1/h]')\n",
    "ax[2].set_xlabel('time [h]')\n",
    "ax[2].set_ylabel('Yxs [gx/gs]')\n",
    "ax[3].set_xlabel('time [h]')\n",
    "ax[3].set_ylabel('Yxs [gx/gs]')\n",
    "\n",
    "ax[0].set_title('mu [1/h] vs Glucose [g/L]')\n",
    "ax[1].set_title('mu [1/h] vs Glucose [g/L] - zoomed in')\n",
    "ax[2].set_title('Yxs [gx/gs] vs time [h]')\n",
    "ax[3].set_title('Yxs [gx/gs] vs time [h] - zoomed in')\n",
    "plt.show()"
   ]
  },
  {
   "cell_type": "code",
   "execution_count": null,
   "metadata": {},
   "outputs": [],
   "source": [
    "fig, ax = plt.subplots()\n",
    "\n",
    "ax.plot(df['time [h]'], df[['Cum. Base feed [L/min]', 'Cum. Acid feed [L/min]']], label=['Total Base [L]', 'Total Acid [L]'])\n",
    "\n",
    "ax.set_xlabel('time [h]')\n",
    "ax.set_ylabel(['Cum. Base/Acid feed [L]'])\n",
    "ax.legend()\n",
    "plt.show()"
   ]
  },
  {
   "cell_type": "code",
   "execution_count": null,
   "metadata": {},
   "outputs": [],
   "source": [
    "fig, ax = plt.subplots()\n",
    "\n",
    "ax_sec=ax.twinx()\n",
    "ax.plot(df['time [h]'], df[['CER [%/L/h]', 'OUR [%/L/h]']], label=['CER', 'OUR'])\n",
    "ax_sec.plot(df['time [h]'],df['RQ'], label=['RQ'], color='green')\n",
    "\n",
    "ax.set_xlabel('time [h]')\n",
    "ax.set_ylabel(['CER [%/L/h]', 'OUR [%/L/h]'])\n",
    "ax_sec.set_ylabel(['RQ'])\n",
    "# Get the handles and labels from all the axes\n",
    "handles, labels = ax.get_legend_handles_labels()\n",
    "handles_2nd, labels_2nd = ax_sec.get_legend_handles_labels()\n",
    "\n",
    "# Combine the handles and labels from all the axes\n",
    "all_handles = handles + handles_2nd\n",
    "all_labels = labels + labels_2nd\n",
    "\n",
    "# Create a single legend using the combined handles and labels\n",
    "ax.legend(all_handles, all_labels, loc='upper center', bbox_to_anchor=(0.5, 1.1), ncols=3)\n",
    "\n",
    "plt.show()"
   ]
  },
  {
   "attachments": {},
   "cell_type": "markdown",
   "metadata": {},
   "source": [
    "Signal/noise ratio: \n",
    "Temperature"
   ]
  },
  {
   "cell_type": "code",
   "execution_count": null,
   "metadata": {},
   "outputs": [],
   "source": [
    "# calculating the signal to noise ratio with the mean of the signal, divided by the standard deviation \n",
    "\n",
    "signal_amplitude  = np.mean(df['Temperature [°C]'])\n",
    "\n",
    "temperature_signal = df['Temperature [°C]']\n",
    "noise_free_portion = 30 #grad\n",
    "\n",
    "df ['noise'] = df['Temperature [°C]'] - noise_free_portion\n",
    "noise_std  = np.std(df['noise'])\n",
    "\n",
    "snr = signal_amplitude / noise_std\n",
    "\n",
    "df['snr2'] = df['Temperature [°C]']/ noise_std\n",
    "\n",
    "print(signal_amplitude)\n",
    "print(noise_std)\n",
    "print(df['noise'])\n",
    "print(\"SNR:\", snr)\n",
    "print(\"SNR2:\",df['snr2'])"
   ]
  },
  {
   "cell_type": "code",
   "execution_count": null,
   "metadata": {},
   "outputs": [],
   "source": [
    "fig, ax = plt.subplots()\n",
    "\n",
    "ax.plot(df['time [h]'], df[['Temperature [°C]']], label=['Temperature]'])\n",
    "ax_sec.plot(df['time [h]'],df['snr2'], label=['snr2'], color='green')\n",
    "\n",
    "ax.set_xlabel('time [h]')\n",
    "ax.set_ylabel(['Temperature [°C]]'])\n",
    "ax.set_ylabel('Temperature [°C]]')\n",
    "ax_sec.set_ylabel(['snr2'])\n",
    "\n",
    "ax.legend()\n",
    "\n",
    "plt.show()"
   ]
  }
 ],
 "metadata": {
  "kernelspec": {
   "display_name": "june_project",
   "language": "python",
   "name": "python3"
  },
  "language_info": {
   "codemirror_mode": {
    "name": "ipython",
    "version": 3
   },
   "file_extension": ".py",
   "mimetype": "text/x-python",
   "name": "python",
   "nbconvert_exporter": "python",
   "pygments_lexer": "ipython3",
   "version": "3.9.13"
  },
  "orig_nbformat": 4
 },
 "nbformat": 4,
 "nbformat_minor": 2
}
