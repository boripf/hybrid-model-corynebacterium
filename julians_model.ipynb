{
 "cells": [
  {
   "cell_type": "code",
   "execution_count": 5,
   "metadata": {},
   "outputs": [],
   "source": [
    "import numpy as np\n",
    "import matplotlib.pyplot as plt"
   ]
  },
  {
   "cell_type": "code",
   "execution_count": 10,
   "metadata": {},
   "outputs": [],
   "source": [
    "qsmax = 0.50976  # max substrate uptake rate [gS/gX/h]\n",
    "K_s = 0.079651  # Ks value for glucose [g/L]\n",
    "Yxs = 0.37405  # Yield coefficient for Glucose [gX/gS]\n",
    "Ypx = 1369.8477  # Yield coefficient for Product [gP/gX]\n",
    "# p.kd = 0.001  # constant - cell death[1/h]?\n",
    "lag = 0.0040574\n",
    "\n",
    "maxpO2 = 0.2095  # for %dO2 calculation 0.2095   0.605\n",
    "\n",
    "# p.kLaO2 = 300  # h-1\n",
    "alpha1 = 0.8303  # 0.7117\n",
    "alpha2 = 0.2956  # 0.0657\n",
    "beta = 0.4575  # 0.4298\n",
    "K_value = 0.0123  # 0.0215\n",
    "stirrerdiameter = 0.046  # m\n",
    "crossarea = 0.01  # m2\n",
    "# p.cO2max = 0.000239  # mol/L\n",
    "Yo2x = 0.038  # mol/g\n",
    "# p.cCO2max = 0.00116  # mol/L\n",
    "Yco2x = 0.037  # mol/g\n",
    "\n",
    "y_CO2_in = 0.032  # %0.032        0.020   0.016\n",
    "y_O2_in = 20.95  # %20.95        50.03   60.05\n",
    "y_O2_O2in = 99.9\n",
    "\n",
    "epsilon = 0.2\n",
    "T_zero = 298.15  # K\n",
    "H_CO2_standard = 3.4e-2  # mol/(L atm) - später dann 1/x um auf L atm/ mol zu kommen\n",
    "deltaH_R_CO2 = 2400  # von Sven übernommen (calc_offgas_corrSDA)\n",
    "\n",
    "H_O2_standard = 1.3e-3\n",
    "deltaH_R_O2 = 1700  # von Sven übernommen (calc_offgas_corrSDA)"
   ]
  },
  {
   "cell_type": "code",
   "execution_count": null,
   "metadata": {},
   "outputs": [],
   "source": [
    "gas_constant = 8.314462  # kg*m2/s2/mol/K\n",
    "\n",
    "kLa_factor = 0.80\n",
    "\n",
    "# p.kplus = 211.32  # [1/h];Kappelmann\n",
    "# p.kminus = 19.152  # [1/h];Kappelmann\n",
    "k1 = 129.6\n",
    "k2 = 41760000\n",
    "Kw = 10**(-13.8)\n",
    "\n",
    "# Define model constant\n",
    "c_glu = 350  # conc. of glucose in Feed [g/L]\n",
    "\n",
    "# p.a = 0.0123  # exponential correlation exponent for viscosity (data-driven!)\n",
    "#Note: The commented lines involving p.kplus, p.kminus, and p.a have been excluded as there is no value assigned to them in the given MATLAB code. You can uncomment and assign appropriate values if needed."
   ]
  },
  {
   "cell_type": "code",
   "execution_count": null,
   "metadata": {},
   "outputs": [],
   "source": [
    "# Define model equations\n",
    "\n",
    "# Substrate uptake rate qs\n",
    "def qs(x, IPTG):\n",
    "    return qsmax * (x[2] / (x[2] + K_s)) * (1 / (1 + IPTG * (np.exp(x[10] * lag))))\n",
    "# Biomass growth rate\n",
    "def qx(x, IPTG):\n",
    "    return qs(x, IPTG) * Yxs\n",
    "# convert T in Celsius to Kelvin\n",
    "def from_cel_to_kel(T):\n",
    "    return (T+273.15)\n",
    "# Temperature dependence of Henry constant - O2\n",
    "def H_O2(T):\n",
    "    return 1.0/(H_O2_standard*np.exp(deltaH_R_O2*(1/(from_cel_to_kel(T) - (1/T_zero)))))\n",
    "# Temperature dependence of Henry constant - CO2\n",
    "def H_CO2(T):\n",
    "    return 1/(H_CO2_standard*np.exp(deltaH_R_CO2*(1/(from_cel_to_kel(T) - (1/T_zero)))))\n",
    "# Airflow import + convert from NL/min --> m3/h\n",
    "def F_air(f_air):\n",
    "    return f_air * 60/1000\n",
    "# Oxygenflow import + convert from NL/min --> m3/h\n",
    "def F_o2(f_o2):\n",
    "    return f_o2 * 60/1000\n",
    "sum_gasflow = F_o2() + F_air()\n",
    " \n",
    "def dO2_molperL(x):\n",
    "    OTR = kLaO2 * (x[6] / H_O2 - x[5])\n",
    "    OUR = qx(x, IPTG) * YO2X * x[2]\n",
    "    return OTR - OUR\n",
    "\n",
    "def pO2(x):\n",
    "    pO2_in = p.y_O2_in.Value / 100 * p.Fair.Value / p.R.Value / EQ.T\n",
    "    pO2_O2in = p.y_O2_O2in.Value / 100 * p.FO2.Value / p.R.Value / EQ.T\n",
    "    return (((-OTR * x[1]) - (p.Fgas.Value * x[6] * 101325 / p.R.Value / EQ.T) + (p.p.Value * pO2_in) + (p.p.Value * pO2_O2in)) * p.R.Value * EQ.T / (Vair / 1000)) / 101325\n"
   ]
  }
 ],
 "metadata": {
  "kernelspec": {
   "display_name": "june_project",
   "language": "python",
   "name": "python3"
  },
  "language_info": {
   "codemirror_mode": {
    "name": "ipython",
    "version": 3
   },
   "file_extension": ".py",
   "mimetype": "text/x-python",
   "name": "python",
   "nbconvert_exporter": "python",
   "pygments_lexer": "ipython3",
   "version": "3.9.13"
  },
  "orig_nbformat": 4
 },
 "nbformat": 4,
 "nbformat_minor": 2
}
