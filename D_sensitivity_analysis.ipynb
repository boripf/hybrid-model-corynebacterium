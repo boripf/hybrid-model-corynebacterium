{
 "cells": [
  {
   "attachments": {},
   "cell_type": "markdown",
   "metadata": {},
   "source": [
    "not working yet "
   ]
  },
  {
   "cell_type": "code",
   "execution_count": 116,
   "metadata": {},
   "outputs": [],
   "source": [
    "import numpy as np\n",
    "import pandas as pd\n",
    "from SALib.sample import saltelli\n",
    "from SALib.analyze import sobol"
   ]
  },
  {
   "cell_type": "code",
   "execution_count": 117,
   "metadata": {},
   "outputs": [],
   "source": [
    "def mu_eq(mu_max, c_glucose, Ks, c_biomass, X_max):\n",
    "    # -- MONOD / insert: mu_max, c_glucose, Ks\n",
    "    #mu = mu_max * c_glucose / (c_glucose + Ks)\n",
    "    # -- LOGISTIC / insert: mu_max, c_biomass, X_max\n",
    "    #mu = mu_max * (1 - (c_biomass/ X_max)) \n",
    "    # -- MONOD + LOGISTIC / insert: mu_max, c_glucose, Ks, c_biomass, X_max\n",
    "    mu = mu_max * (c_glucose / (c_glucose + Ks)) * (1 - (c_biomass/ X_max))\n",
    "    # -- MONOD + LOGISTIC + INHIBITION / insert: mu_max, c_glucose, Ks, Ki, c_biomass, X_max\n",
    "    #mu = mu_max * (c_glucose / (c_glucose + Ks + (c_glucose**2/ Ki))) * (1 - (c_biomass/ X_max))\n",
    "    return mu\n",
    "\n",
    "\n",
    "def qs_eq(Yxs, f_glucose, V):\n",
    "    # -- MONOD / insert: qs_max, c_glucose, Ks_qs\n",
    "    #qs = qs_max * c_glucose / (Ks_qs + c_glucose)\n",
    "    # -- MONOD + NON COMPETITIVE INHIBITION / insert: qs_max, c_glucose, Ks_qs, Ki, glu_met\n",
    "    #s = qs_max * c_glucose / (Ks_qs + c_glucose) * (Ki / (Ki + glu_met))\n",
    "    # -- YIELD / insert: Yxs, f_glucose, V\n",
    "    qs = 1/Yxs * f_glucose / V #NOT SURE IF CORRECT because g_S/g_X but not per h\n",
    "    # -- MONOD + METABOLIZED GLU / insert: qs_max, c_glucose, Ks_qs, glu_met, lag\n",
    "    #qs = qs_max * c_glucose / (Ks_qs + c_glucose) * (1 / (np.exp(glu_met * lag)))\n",
    "    return qs"
   ]
  },
  {
   "cell_type": "code",
   "execution_count": 118,
   "metadata": {},
   "outputs": [],
   "source": [
    "\n",
    "def dXdt(mu, c_biomass, f_glucose, V):\n",
    "    # -- BATCH + mu / insert: mu, c_biomass\n",
    "    #dXdt = mu * c_biomass\n",
    "    # -- FEDBATCH + mu / insert: mu, c_biomass, f_glucose, V\n",
    "    dXdt = mu * c_biomass - c_biomass * f_glucose / V \n",
    "    # -- FEDBATCH + Yield / insert: qs, Yxs, c_biomass, f_glucose, V\n",
    "    # dXdt = qs * Yxs * c_biomass - c_biomass * f_glucose / V\n",
    "    return dXdt\n",
    "\n",
    "def dSdt(f_glucose, V, c_glu_feed, c_glucose, qs, c_biomass, m_s):\n",
    "    # -- BATCH / insert: qs, c_biomass\n",
    "    # dSdt = -qs * c_biomass\n",
    "    # -- FEDBATCH / insert: f_glucose, V, c_glu_feed, c_glucose, c_biomass, qs, c_biomass\n",
    "    # dSdt = ((f_glucose / V) * (c_glu_feed - c_glucose)) - qs * c_biomass\n",
    "    # -- FEDBATCH + MAINTENANCE / insert: f_glucose, V, c_glu_feed, c_glucose, qs, c_biomass, m_s\n",
    "    dSdt = ((f_glucose / V) * (c_glu_feed - c_glucose)) - qs * c_biomass - m_s * c_biomass  \n",
    "    return dSdt"
   ]
  },
  {
   "cell_type": "code",
   "execution_count": 119,
   "metadata": {},
   "outputs": [],
   "source": [
    "def model(param):\n",
    "    \"\"\"\n",
    "    Simulates the fermentation process based on the provided parameters.\n",
    "    Args:\n",
    "        params (dict): Dictionary containing the model parameters.\n",
    "        t0 (float): Initial time.\n",
    "        t_end (float): End time.\n",
    "        dt (float): Time step size.\n",
    "    Returns:\n",
    "        time (array): Array of time values.\n",
    "        biomass (array): Array of biomass concentrations.\n",
    "        substrate (array): Array of substrate concentrations.\n",
    "    \"\"\"\n",
    "    # Simulation settings\n",
    "    t0 = 0\n",
    "    t_end = 46.1\n",
    "    dt = 1/60\n",
    "    num_steps = int((t_end - t0) / dt) + 1 # Number of time steps\n",
    "    print(num_steps)\n",
    "\n",
    "    # Extract experimental data\n",
    "    df_exp = pd.read_csv('data/data_combined.csv')\n",
    "    F_glu = df_exp['Glucose feed [L/min]']*60 # [L/h]\n",
    "    F_in = df_exp['Feed total [L/min]']\n",
    "\n",
    "    mu_max = 0.2\n",
    "    X_max = 23.1\n",
    "    Ks = 7\n",
    "    Ks_qs = 0.035\n",
    "    Ki = 7.15\n",
    "    Yxs = 0.48\n",
    "    qs_max = 0.57\n",
    "    m_s = 0.1\n",
    "    lag = 0.0057 \n",
    "    X0 = 0.5\n",
    "    S0 = 5.5\n",
    "    V0 = 1.0\n",
    "    c_glu_feed = 350 \n",
    "\n",
    "    # Arrays to store results\n",
    "    time = np.linspace(t0, t_end, num_steps)\n",
    "    biomass = np.zeros(num_steps)\n",
    "    substrate = np.zeros(num_steps)\n",
    "    volume = np.zeros(num_steps)\n",
    "    S_met = np.zeros(num_steps)\n",
    "    dS_dt = np.zeros(num_steps)\n",
    "\n",
    "    # Set initial values\n",
    "    biomass[0] = X0\n",
    "    substrate[0] = S0\n",
    "    volume[0] = V0\n",
    "\n",
    "    # Simulation loop\n",
    "    for i in range(1, num_steps):\n",
    "        c_glucose = substrate[i-1]\n",
    "        c_biomass = biomass[i-1]\n",
    "        V = volume[i-1]\n",
    "        glu_met = S_met[i-1]\n",
    "        f_glucose = F_glu[i]\n",
    "        \n",
    "        \n",
    "        # since the glucose concentration can't be negative, it is set to zero\n",
    "        if c_glucose < 0:\n",
    "            c_glucose = 0\n",
    "\n",
    "        # Update growth and glucose uptake rate\n",
    "        mu = mu_eq(mu_max, c_glucose, Ks, c_biomass, X_max)\n",
    "        qs = qs_eq(Yxs, f_glucose, V)\n",
    "        S_met[i] = qs * c_biomass * V\n",
    "\n",
    "        # Update biomass and substrate concentrations\n",
    "        dX_dt = dXdt(mu, c_biomass, f_glucose, V)\n",
    "        dS_dt[i] = dSdt(f_glucose, V, c_glu_feed, c_glucose, qs, c_biomass, m_s)\n",
    "        dV_dt = F_in[i] - (0.4/num_steps) # not complete -- somehow add base and acid to it + include samples + evaporation\n",
    "        biomass[i] = c_biomass + dX_dt * dt\n",
    "        substrate[i] = c_glucose + dS_dt[i] * dt\n",
    "        volume[i] = V + dV_dt\n",
    "\n",
    "    return time, biomass, substrate, volume, dS_dt\n"
   ]
  },
  {
   "cell_type": "code",
   "execution_count": 120,
   "metadata": {},
   "outputs": [],
   "source": [
    "\n",
    "# Define the parameter bounds\n",
    "problem = {\n",
    "    'num_vars': 11,\n",
    "    'names': ['mu_max', 'X_max', 'Ks', 'Ks_qs', 'Ki', 'Yxs', 'qs_max', 'm_s', 'lag', 'X0', 'c_glu_feed'],\n",
    "    'bounds': [[0.1, 0.5], [1.0, 10.0], [0.01, 1.0], [0.01, 1.0], [0.01, 1.0], [0.1, 0.5], [0.1, 1.0], [0.01, 1.0], [0.0, 1.0], [0.1, 1.0], [100, 500]]\n",
    "}\n"
   ]
  },
  {
   "cell_type": "code",
   "execution_count": 121,
   "metadata": {},
   "outputs": [
    {
     "name": "stderr",
     "output_type": "stream",
     "text": [
      "/var/folders/nf/38rh41fn3szgbs5wpsdwjvk00000gn/T/ipykernel_16531/3128660257.py:2: DeprecationWarning: `salib.sample.saltelli` will be removed in SALib 1.5. Please use `salib.sample.sobol`\n",
      "  param_samples = saltelli.sample(problem, 4)\n"
     ]
    }
   ],
   "source": [
    "# Generate the parameter samples using the Saltelli sampling scheme\n",
    "param_samples = saltelli.sample(problem, 4)"
   ]
  },
  {
   "cell_type": "code",
   "execution_count": 122,
   "metadata": {},
   "outputs": [
    {
     "name": "stdout",
     "output_type": "stream",
     "text": [
      "2767\n",
      "2767\n",
      "2767\n",
      "2767\n",
      "2767\n",
      "2767\n",
      "2767\n",
      "2767\n",
      "2767\n",
      "2767\n",
      "2767\n",
      "2767\n",
      "2767\n",
      "2767\n",
      "2767\n",
      "2767\n",
      "2767\n",
      "2767\n",
      "2767\n",
      "2767\n",
      "2767\n",
      "2767\n",
      "2767\n",
      "2767\n",
      "2767\n",
      "2767\n",
      "2767\n",
      "2767\n",
      "2767\n",
      "2767\n",
      "2767\n",
      "2767\n",
      "2767\n",
      "2767\n",
      "2767\n",
      "2767\n",
      "2767\n",
      "2767\n",
      "2767\n",
      "2767\n",
      "2767\n",
      "2767\n",
      "2767\n",
      "2767\n",
      "2767\n",
      "2767\n",
      "2767\n",
      "2767\n",
      "2767\n",
      "2767\n",
      "2767\n",
      "2767\n",
      "2767\n",
      "2767\n",
      "2767\n",
      "2767\n",
      "2767\n",
      "2767\n",
      "2767\n",
      "2767\n",
      "2767\n",
      "2767\n",
      "2767\n",
      "2767\n",
      "2767\n",
      "2767\n",
      "2767\n",
      "2767\n",
      "2767\n",
      "2767\n",
      "2767\n",
      "2767\n",
      "2767\n",
      "2767\n",
      "2767\n",
      "2767\n",
      "2767\n",
      "2767\n",
      "2767\n",
      "2767\n",
      "2767\n",
      "2767\n",
      "2767\n",
      "2767\n",
      "2767\n",
      "2767\n",
      "2767\n",
      "2767\n",
      "2767\n",
      "2767\n",
      "2767\n",
      "2767\n",
      "2767\n",
      "2767\n",
      "2767\n",
      "2767\n"
     ]
    }
   ],
   "source": [
    "\n",
    "# Run the model for each parameter sample and collect the output\n",
    "\n",
    "outputs = np.array([model(param) for param in param_samples])"
   ]
  },
  {
   "cell_type": "code",
   "execution_count": 123,
   "metadata": {},
   "outputs": [
    {
     "ename": "ValueError",
     "evalue": "could not broadcast input array from shape (4,5,2767) into shape (55340,)",
     "output_type": "error",
     "traceback": [
      "\u001b[0;31m---------------------------------------------------------------------------\u001b[0m",
      "\u001b[0;31mValueError\u001b[0m                                Traceback (most recent call last)",
      "Cell \u001b[0;32mIn[123], line 2\u001b[0m\n\u001b[1;32m      1\u001b[0m \u001b[39m# Perform the Sobol sensitivity analysis\u001b[39;00m\n\u001b[0;32m----> 2\u001b[0m Si \u001b[39m=\u001b[39m sobol\u001b[39m.\u001b[39;49manalyze(problem, outputs)\n",
      "File \u001b[0;32m/Library/Frameworks/Python.framework/Versions/3.11/lib/python3.11/site-packages/SALib/analyze/sobol.py:131\u001b[0m, in \u001b[0;36manalyze\u001b[0;34m(problem, Y, calc_second_order, num_resamples, conf_level, print_to_console, parallel, n_processors, keep_resamples, seed)\u001b[0m\n\u001b[1;32m    128\u001b[0m \u001b[39m# normalize the model output\u001b[39;00m\n\u001b[1;32m    129\u001b[0m Y \u001b[39m=\u001b[39m (Y \u001b[39m-\u001b[39m Y\u001b[39m.\u001b[39mmean()) \u001b[39m/\u001b[39m Y\u001b[39m.\u001b[39mstd()\n\u001b[0;32m--> 131\u001b[0m A, B, AB, BA \u001b[39m=\u001b[39m separate_output_values(Y, D, N, calc_second_order)\n\u001b[1;32m    132\u001b[0m r \u001b[39m=\u001b[39m rng(N, size\u001b[39m=\u001b[39m(N, num_resamples))\n\u001b[1;32m    133\u001b[0m Z \u001b[39m=\u001b[39m norm\u001b[39m.\u001b[39mppf(\u001b[39m0.5\u001b[39m \u001b[39m+\u001b[39m conf_level \u001b[39m/\u001b[39m \u001b[39m2\u001b[39m)\n",
      "File \u001b[0;32m/Library/Frameworks/Python.framework/Versions/3.11/lib/python3.11/site-packages/SALib/analyze/sobol.py:263\u001b[0m, in \u001b[0;36mseparate_output_values\u001b[0;34m(Y, D, N, calc_second_order)\u001b[0m\n\u001b[1;32m    261\u001b[0m B \u001b[39m=\u001b[39m Y[(step \u001b[39m-\u001b[39m \u001b[39m1\u001b[39m) : Y\u001b[39m.\u001b[39msize : step]\n\u001b[1;32m    262\u001b[0m \u001b[39mfor\u001b[39;00m j \u001b[39min\u001b[39;00m \u001b[39mrange\u001b[39m(D):\n\u001b[0;32m--> 263\u001b[0m     AB[:, j] \u001b[39m=\u001b[39m Y[(j \u001b[39m+\u001b[39m \u001b[39m1\u001b[39m) : Y\u001b[39m.\u001b[39msize : step]\n\u001b[1;32m    264\u001b[0m     \u001b[39mif\u001b[39;00m calc_second_order:\n\u001b[1;32m    265\u001b[0m         BA[:, j] \u001b[39m=\u001b[39m Y[(j \u001b[39m+\u001b[39m \u001b[39m1\u001b[39m \u001b[39m+\u001b[39m D) : Y\u001b[39m.\u001b[39msize : step]\n",
      "\u001b[0;31mValueError\u001b[0m: could not broadcast input array from shape (4,5,2767) into shape (55340,)"
     ]
    }
   ],
   "source": [
    "\n",
    "# Perform the Sobol sensitivity analysis\n",
    "Si = sobol.analyze(problem, outputs)\n"
   ]
  },
  {
   "cell_type": "code",
   "execution_count": null,
   "metadata": {},
   "outputs": [
    {
     "name": "stdout",
     "output_type": "stream",
     "text": [
      "First-order indices:\n"
     ]
    },
    {
     "ename": "NameError",
     "evalue": "name 'Si' is not defined",
     "output_type": "error",
     "traceback": [
      "\u001b[0;31m---------------------------------------------------------------------------\u001b[0m",
      "\u001b[0;31mNameError\u001b[0m                                 Traceback (most recent call last)",
      "Cell \u001b[0;32mIn[109], line 4\u001b[0m\n\u001b[1;32m      2\u001b[0m \u001b[39mprint\u001b[39m(\u001b[39m\"\u001b[39m\u001b[39mFirst-order indices:\u001b[39m\u001b[39m\"\u001b[39m)\n\u001b[1;32m      3\u001b[0m \u001b[39mfor\u001b[39;00m i, name \u001b[39min\u001b[39;00m \u001b[39menumerate\u001b[39m(problem[\u001b[39m'\u001b[39m\u001b[39mnames\u001b[39m\u001b[39m'\u001b[39m]):\n\u001b[0;32m----> 4\u001b[0m     \u001b[39mprint\u001b[39m(\u001b[39m\"\u001b[39m\u001b[39m{}\u001b[39;00m\u001b[39m: \u001b[39m\u001b[39m{:.3f}\u001b[39;00m\u001b[39m\"\u001b[39m\u001b[39m.\u001b[39mformat(name, Si[\u001b[39m'\u001b[39m\u001b[39mS1\u001b[39m\u001b[39m'\u001b[39m][i]))\n\u001b[1;32m      6\u001b[0m \u001b[39mprint\u001b[39m(\u001b[39m\"\u001b[39m\u001b[39m\\n\u001b[39;00m\u001b[39mTotal indices:\u001b[39m\u001b[39m\"\u001b[39m)\n\u001b[1;32m      7\u001b[0m \u001b[39mfor\u001b[39;00m i, name \u001b[39min\u001b[39;00m \u001b[39menumerate\u001b[39m(problem[\u001b[39m'\u001b[39m\u001b[39mnames\u001b[39m\u001b[39m'\u001b[39m]):\n",
      "\u001b[0;31mNameError\u001b[0m: name 'Si' is not defined"
     ]
    }
   ],
   "source": [
    "\n",
    "\n",
    "\n",
    "# Print the first-order and total sensitivity indices\n",
    "print(\"First-order indices:\")\n",
    "for i, name in enumerate(problem['names']):\n",
    "    print(\"{}: {:.3f}\".format(name, Si['S1'][i]))\n",
    "\n",
    "print(\"\\nTotal indices:\")\n",
    "for i, name in enumerate(problem['names']):\n",
    "    print"
   ]
  },
  {
   "cell_type": "code",
   "execution_count": null,
   "metadata": {},
   "outputs": [],
   "source": []
  }
 ],
 "metadata": {
  "kernelspec": {
   "display_name": "Python 3",
   "language": "python",
   "name": "python3"
  },
  "language_info": {
   "codemirror_mode": {
    "name": "ipython",
    "version": 3
   },
   "file_extension": ".py",
   "mimetype": "text/x-python",
   "name": "python",
   "nbconvert_exporter": "python",
   "pygments_lexer": "ipython3",
   "version": "3.11.3"
  },
  "orig_nbformat": 4
 },
 "nbformat": 4,
 "nbformat_minor": 2
}
