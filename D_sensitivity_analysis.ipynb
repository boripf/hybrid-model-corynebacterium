{
 "cells": [
  {
   "attachments": {},
   "cell_type": "markdown",
   "metadata": {},
   "source": [
    "#### Sensitivity Analysis"
   ]
  },
  {
   "attachments": {},
   "cell_type": "markdown",
   "metadata": {},
   "source": [
    "We want to assess the impact of each parameter on the output of the model. Thereby, we want to identify the most influential factors and quantify their effects. Either local or global sensitivity analysis can be conducted. Within the local sensitivity analysis, one variable at a time is changed while the global sensitivity analysis considers multiple variables simultaneously."
   ]
  },
  {
   "attachments": {},
   "cell_type": "markdown",
   "metadata": {},
   "source": [
    "#### Overview"
   ]
  },
  {
   "attachments": {},
   "cell_type": "markdown",
   "metadata": {},
   "source": [
    "* Load the parameters\n",
    "* Define their perturbation (30%)\n",
    "* Save parameter name, values and lower and upper bounds in variable 'problem'\n",
    "* Create a chosen number of sample sets of the parameters applying **saltelli**\n",
    "* Calculate the RMSE of the model output for each parameter set\n",
    "* **Sobol Analysis** based on problem and sample sets\n",
    "* Plot impact of each parameter in bar plot"
   ]
  },
  {
   "attachments": {},
   "cell_type": "markdown",
   "metadata": {},
   "source": [
    "#### Code"
   ]
  },
  {
   "cell_type": "code",
   "execution_count": 1,
   "metadata": {},
   "outputs": [],
   "source": [
    "import pandas as pd\n",
    "import numpy as np\n",
    "import yaml\n",
    "import matplotlib.pyplot as plt\n",
    "from D_model_sens import objective_function, model_sensitivity_analysis\n",
    "from SALib.sample import saltelli\n",
    "from SALib.analyze import sobol"
   ]
  },
  {
   "cell_type": "code",
   "execution_count": 2,
   "metadata": {},
   "outputs": [],
   "source": [
    "# Load parameters from YAML file\n",
    "with open('config/parameters.yml', 'r') as file:\n",
    "    param = yaml.safe_load(file)"
   ]
  },
  {
   "cell_type": "code",
   "execution_count": 3,
   "metadata": {},
   "outputs": [],
   "source": [
    "mu_max = param['mu_max']\n",
    "X_max = param['X_max']\n",
    "Ks = param['Ks']\n",
    "Ks_qs = param['Ks_qs']\n",
    "Ki = param['Ki']\n",
    "Yxs = param['Yxs']\n",
    "qs_max = param['qs_max']\n",
    "m_s = param['m_s']\n",
    "lag = param['lag']"
   ]
  },
  {
   "cell_type": "code",
   "execution_count": 4,
   "metadata": {},
   "outputs": [],
   "source": [
    "# Perturbation range\n",
    "perc = 0.3\n",
    "\n",
    "lb_mu_max, ub_mu_max = mu_max - (mu_max*perc), mu_max + (mu_max*perc)\n",
    "lb_X_max, ub_X_max = X_max - (X_max*perc), X_max + (X_max*perc)\n",
    "lb_Yxs, ub_Yxs = Yxs - (Yxs*perc), Yxs + (Yxs*perc)\n",
    "lb_m_s, ub_m_s = m_s - (m_s*perc), m_s + (m_s*perc)"
   ]
  },
  {
   "cell_type": "code",
   "execution_count": 5,
   "metadata": {},
   "outputs": [
    {
     "name": "stdout",
     "output_type": "stream",
     "text": [
      "(320, 3)\n"
     ]
    },
    {
     "name": "stderr",
     "output_type": "stream",
     "text": [
      "C:\\Users\\dxp2904\\AppData\\Local\\Temp\\ipykernel_2968\\3555055950.py:11: DeprecationWarning: `salib.sample.saltelli` will be removed in SALib 1.5. Please use `salib.sample.sobol`\n",
      "  param_values = saltelli.sample(problem, n_samples, calc_second_order=False)\n"
     ]
    },
    {
     "data": {
      "text/plain": [
       "array([ 0.1428125, 21.7486875,  0.57225  ])"
      ]
     },
     "execution_count": 5,
     "metadata": {},
     "output_type": "execute_result"
    }
   ],
   "source": [
    "# Define the number of parameters and the parameter ranges\n",
    "problem = {'num_vars' : 3,\n",
    "           'names' : ['mu_max', 'X_max', 'Yxs'],\n",
    "           'bounds' : [[lb_mu_max, ub_mu_max], \n",
    "                       [lb_X_max, ub_X_max], \n",
    "                       [lb_Yxs, ub_Yxs]]\n",
    "}\n",
    "\n",
    "# number of sample sets (output will be N * (D + 2) where N is n_samples and D is the number of parameters)\n",
    "n_samples = 64\n",
    "param_values = saltelli.sample(problem, n_samples, calc_second_order=False)\n",
    "\n",
    "print(param_values.shape)\n",
    "param_values[0]"
   ]
  },
  {
   "attachments": {},
   "cell_type": "markdown",
   "metadata": {},
   "source": [
    "Optional: **Normalization**\n",
    "* would make sense to minimize the effect of different scales (if not higher values will have higher impact)\n",
    "* output of the model would not make sense?"
   ]
  },
  {
   "cell_type": "code",
   "execution_count": 6,
   "metadata": {},
   "outputs": [
    {
     "data": {
      "text/plain": [
       "'means = np.mean(param_values, axis=0)\\nstd_devs = np.std(param_values, axis=0)\\nnormalized_parameters = (param_values - means) / std_devs\\nnormalized_parameters.shape\\n\\nmins = np.min(param_values, axis=0)\\nmaxs = np.max(param_values, axis=0)\\nnormalized_parameters = (param_values - mins) / (maxs - mins)\\nnormalized_parameters.shape'"
      ]
     },
     "execution_count": 6,
     "metadata": {},
     "output_type": "execute_result"
    }
   ],
   "source": [
    "'''means = np.mean(param_values, axis=0)\n",
    "std_devs = np.std(param_values, axis=0)\n",
    "normalized_parameters = (param_values - means) / std_devs\n",
    "normalized_parameters.shape\n",
    "\n",
    "mins = np.min(param_values, axis=0)\n",
    "maxs = np.max(param_values, axis=0)\n",
    "normalized_parameters = (param_values - mins) / (maxs - mins)\n",
    "normalized_parameters.shape'''"
   ]
  },
  {
   "cell_type": "code",
   "execution_count": 7,
   "metadata": {},
   "outputs": [
    {
     "data": {
      "text/plain": [
       "array([-0.09997087, -0.29543136, -0.06989588])"
      ]
     },
     "execution_count": 7,
     "metadata": {},
     "output_type": "execute_result"
    }
   ],
   "source": [
    "# Evaluate the model for each set of parameter samples\n",
    "model_outputs = np.zeros(param_values.shape[0])\n",
    "for n in range(param_values.shape[0]):\n",
    "    # Define your fermentation model function here\n",
    "    rmse = objective_function(param_values[n])\n",
    "    ## biomass_pred, substrate_pred = model_sensitivity_analysis(param_values[n])\n",
    "    model_outputs[n] = rmse\n",
    "\n",
    "# Perform Sobol' analysis\n",
    "sobol_indices = sobol.analyze(problem, model_outputs, print_to_console=False)\n",
    "\n",
    "# Get the first-order indices and parameter names\n",
    "first_order_indices = sobol_indices['S1']\n",
    "first_order_indices"
   ]
  },
  {
   "cell_type": "code",
   "execution_count": 8,
   "metadata": {},
   "outputs": [
    {
     "data": {
      "text/plain": [
       "<BarContainer object of 3 artists>"
      ]
     },
     "execution_count": 8,
     "metadata": {},
     "output_type": "execute_result"
    },
    {
     "data": {
      "image/png": "[encoded data removed]",
      "text/plain": [
       "<Figure size 640x480 with 1 Axes>"
      ]
     },
     "metadata": {},
     "output_type": "display_data"
    }
   ],
   "source": [
    "plt.bar(problem['names'], first_order_indices)"
   ]
  },
  {
   "attachments": {},
   "cell_type": "markdown",
   "metadata": {},
   "source": [
    "Overall, negative sensitivity indices in Sobol analysis indicate that the model output is primarily driven by parameter interactions rather than individual parameter effects. Understanding these interactions is crucial for accurately representing and predicting the system's behavior."
   ]
  },
  {
   "cell_type": "code",
   "execution_count": 9,
   "metadata": {},
   "outputs": [
    {
     "data": {
      "text/plain": [
       "array([2, 0, 1], dtype=int64)"
      ]
     },
     "execution_count": 9,
     "metadata": {},
     "output_type": "execute_result"
    }
   ],
   "source": [
    "sorted_indices = np.argsort(first_order_indices)[::-1]\n",
    "sorted_indices"
   ]
  }
 ],
 "metadata": {
  "kernelspec": {
   "display_name": "Python 3",
   "language": "python",
   "name": "python3"
  },
  "language_info": {
   "codemirror_mode": {
    "name": "ipython",
    "version": 3
   },
   "file_extension": ".py",
   "mimetype": "text/x-python",
   "name": "python",
   "nbconvert_exporter": "python",
   "pygments_lexer": "ipython3",
   "version": "3.9.13"
  },
  "orig_nbformat": 4
 },
 "nbformat": 4,
 "nbformat_minor": 2
}
