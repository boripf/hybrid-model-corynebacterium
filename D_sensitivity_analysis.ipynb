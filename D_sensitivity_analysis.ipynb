{
 "cells": [
  {
   "cell_type": "code",
   "execution_count": 1,
   "metadata": {},
   "outputs": [],
   "source": [
    "import pandas as pd\n",
    "import numpy as np\n",
    "import matplotlib.pyplot as plt\n",
    "from D_model import model_sensitivity_analysis, objective_function\n",
    "from SALib.sample import saltelli\n",
    "from SALib.analyze import sobol"
   ]
  },
  {
   "cell_type": "code",
   "execution_count": 5,
   "metadata": {},
   "outputs": [
    {
     "name": "stderr",
     "output_type": "stream",
     "text": [
      "C:\\Users\\dxp2904\\AppData\\Local\\Temp\\ipykernel_3368\\2241146554.py:22: DeprecationWarning: `salib.sample.saltelli` will be removed in SALib 1.5. Please use `salib.sample.sobol`\n",
      "  param_values = saltelli.sample(problem, n_samples, calc_second_order=False)\n"
     ]
    },
    {
     "data": {
      "text/plain": [
       "(320, 3)"
      ]
     },
     "execution_count": 5,
     "metadata": {},
     "output_type": "execute_result"
    }
   ],
   "source": [
    "mu_max = 0.25\n",
    "X_max = 22\n",
    "Yxs = 0.33\n",
    "m_s = 0.018\n",
    "\n",
    "perc = 0.3\n",
    "lb_mu_max, ub_mu_max = mu_max - (mu_max*perc), mu_max + (mu_max*perc)\n",
    "lb_X_max, ub_X_max = X_max - (X_max*perc), X_max + (X_max*perc)\n",
    "lb_Yxs, ub_Yxs = Yxs - (Yxs*perc), Yxs + (Yxs*perc)\n",
    "lb_m_s, ub_m_s = m_s - (m_s*perc), m_s + (m_s*perc)\n",
    "\n",
    "# Define the number of parameters and the parameter ranges\n",
    "problem = {'num_vars' : 3,\n",
    "           'names' : ['mu_max', 'X_max', 'Yxs'],\n",
    "           'bounds' : [[lb_mu_max, ub_mu_max], \n",
    "                       [lb_X_max, ub_X_max], \n",
    "                       [lb_Yxs, ub_Yxs]]\n",
    "}\n",
    "#param_ranges = np.array([[0,5]*num_params])\n",
    "\n",
    "n_samples = 64\n",
    "param_values = saltelli.sample(problem, n_samples, calc_second_order=False)\n",
    "param_values.shape"
   ]
  },
  {
   "cell_type": "code",
   "execution_count": 6,
   "metadata": {},
   "outputs": [
    {
     "data": {
      "text/plain": [
       "array([ 0.30039063, 20.659375  ,  0.39342188])"
      ]
     },
     "execution_count": 6,
     "metadata": {},
     "output_type": "execute_result"
    }
   ],
   "source": [
    "param_values[1]"
   ]
  },
  {
   "cell_type": "code",
   "execution_count": 7,
   "metadata": {},
   "outputs": [
    {
     "data": {
      "text/plain": [
       "'means = np.mean(param_values, axis=0)\\nstd_devs = np.std(param_values, axis=0)\\nnormalized_parameters = (param_values - means) / std_devs\\nnormalized_parameters.shape'"
      ]
     },
     "execution_count": 7,
     "metadata": {},
     "output_type": "execute_result"
    }
   ],
   "source": [
    "'''means = np.mean(param_values, axis=0)\n",
    "std_devs = np.std(param_values, axis=0)\n",
    "normalized_parameters = (param_values - means) / std_devs\n",
    "normalized_parameters.shape'''"
   ]
  },
  {
   "cell_type": "code",
   "execution_count": 8,
   "metadata": {},
   "outputs": [
    {
     "data": {
      "text/plain": [
       "'mins = np.min(param_values, axis=0)\\nmaxs = np.max(param_values, axis=0)\\nnormalized_parameters = (param_values - mins) / (maxs - mins)\\nnormalized_parameters.shape'"
      ]
     },
     "execution_count": 8,
     "metadata": {},
     "output_type": "execute_result"
    }
   ],
   "source": [
    "'''mins = np.min(param_values, axis=0)\n",
    "maxs = np.max(param_values, axis=0)\n",
    "normalized_parameters = (param_values - mins) / (maxs - mins)\n",
    "normalized_parameters.shape'''"
   ]
  },
  {
   "cell_type": "code",
   "execution_count": 9,
   "metadata": {},
   "outputs": [
    {
     "data": {
      "text/plain": [
       "array([-0.00934211,  0.04357693,  0.09426875])"
      ]
     },
     "execution_count": 9,
     "metadata": {},
     "output_type": "execute_result"
    }
   ],
   "source": [
    "# Evaluate the model for each set of parameter samples\n",
    "model_outputs = np.zeros(param_values.shape[0])\n",
    "for n in range(param_values.shape[0]):\n",
    "    # Define your fermentation model function here\n",
    "    rmse = objective_function(param_values[n])\n",
    "    model_outputs[n] = rmse\n",
    "\n",
    "# Perform Sobol' analysis\n",
    "sobol_indices = sobol.analyze(problem, model_outputs, print_to_console=False)\n",
    "\n",
    "# Get the first-order indices and parameter names\n",
    "first_order_indices = sobol_indices['S1']\n",
    "first_order_indices"
   ]
  },
  {
   "cell_type": "code",
   "execution_count": 10,
   "metadata": {},
   "outputs": [
    {
     "data": {
      "text/plain": [
       "array([2, 1, 0], dtype=int64)"
      ]
     },
     "execution_count": 10,
     "metadata": {},
     "output_type": "execute_result"
    }
   ],
   "source": [
    "sorted_indices = np.argsort(first_order_indices)[::-1]\n",
    "sorted_indices"
   ]
  },
  {
   "cell_type": "code",
   "execution_count": 11,
   "metadata": {},
   "outputs": [
    {
     "data": {
      "text/plain": [
       "<BarContainer object of 3 artists>"
      ]
     },
     "execution_count": 11,
     "metadata": {},
     "output_type": "execute_result"
    },
    {
     "data": {
      "image/png": "[encoded data removed]",
      "text/plain": [
       "<Figure size 640x480 with 1 Axes>"
      ]
     },
     "metadata": {},
     "output_type": "display_data"
    }
   ],
   "source": [
    "plt.bar(problem['names'], first_order_indices)"
   ]
  },
  {
   "attachments": {},
   "cell_type": "markdown",
   "metadata": {},
   "source": [
    "Overall, negative sensitivity indices in Sobol analysis indicate that the model output is primarily driven by parameter interactions rather than individual parameter effects. Understanding these interactions is crucial for accurately representing and predicting the system's behavior."
   ]
  }
 ],
 "metadata": {
  "kernelspec": {
   "display_name": "Python 3",
   "language": "python",
   "name": "python3"
  },
  "language_info": {
   "codemirror_mode": {
    "name": "ipython",
    "version": 3
   },
   "file_extension": ".py",
   "mimetype": "text/x-python",
   "name": "python",
   "nbconvert_exporter": "python",
   "pygments_lexer": "ipython3",
   "version": "3.9.13"
  },
  "orig_nbformat": 4
 },
 "nbformat": 4,
 "nbformat_minor": 2
}
