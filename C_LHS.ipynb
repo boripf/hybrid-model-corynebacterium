{
 "cells": [
  {
   "cell_type": "code",
   "execution_count": 1,
   "metadata": {},
   "outputs": [],
   "source": [
    "import numpy as np\n",
    "from pyDOE import lhs"
   ]
  },
  {
   "cell_type": "code",
   "execution_count": 2,
   "metadata": {},
   "outputs": [],
   "source": [
    "# Set the number of samples and parameters\n",
    "num_samples = 100\n",
    "num_parameters = 9"
   ]
  },
  {
   "cell_type": "code",
   "execution_count": 6,
   "metadata": {},
   "outputs": [],
   "source": [
    "# Define the ranges for each parameter\n",
    "parameter_bounds = [\n",
    "    [0.01, 0.6],    # Range for parameter 1 mu_max\n",
    "    [18, 25],       # Range for parameter 2 X_max\n",
    "    [0.1, 10.0],    # Range for parameter 3 - Ks\n",
    "    [0.01, 0.1],    # Range for parameter 4 - Ks_qs\n",
    "    [6.0, 8.0],     # Range for parameter 5 - Ki\n",
    "    [0.4, 0.5],     # Range for parameter 6 - Yxs\n",
    "    [0.5, 1.5],     # Range for parameter 7 - qs_max\n",
    "    [0.05, 0.15],   # Range for parameter 8 - m_s\n",
    "    [-10, 0.02],    # Range for parameter 9 - lag\n",
    "]"
   ]
  },
  {
   "cell_type": "code",
   "execution_count": 14,
   "metadata": {},
   "outputs": [
    {
     "name": "stdout",
     "output_type": "stream",
     "text": [
      "(100, 9): 100 different sets each with 9 parameters\n"
     ]
    }
   ],
   "source": [
    "# Generate Latin hypercube samples\n",
    "lhs_samples = lhs(num_parameters, samples=num_samples, criterion='maximin')\n",
    "print(f'{lhs_samples.shape}: 100 different sets each with 9 parameters')"
   ]
  },
  {
   "cell_type": "code",
   "execution_count": 11,
   "metadata": {},
   "outputs": [
    {
     "data": {
      "text/plain": [
       "(100, 9)"
      ]
     },
     "execution_count": 11,
     "metadata": {},
     "output_type": "execute_result"
    }
   ],
   "source": [
    "# Rescale the samples to the specified parameter ranges\n",
    "rescaled_samples = []\n",
    "for i in range(num_parameters):\n",
    "    # rescaling = lb + lhs_value * (up - lb)\n",
    "    rescaling = parameter_bounds[i][0] + lhs_samples[:, i] * (parameter_bounds[i][1] - parameter_bounds[i][0])\n",
    "    rescaled_samples.append(rescaling)\n",
    "rescaled_samples = np.array(rescaled_samples).T\n",
    "rescaled_samples.shape"
   ]
  }
 ],
 "metadata": {
  "kernelspec": {
   "display_name": "Python 3",
   "language": "python",
   "name": "python3"
  },
  "language_info": {
   "codemirror_mode": {
    "name": "ipython",
    "version": 3
   },
   "file_extension": ".py",
   "mimetype": "text/x-python",
   "name": "python",
   "nbconvert_exporter": "python",
   "pygments_lexer": "ipython3",
   "version": "3.9.13"
  },
  "orig_nbformat": 4
 },
 "nbformat": 4,
 "nbformat_minor": 2
}
