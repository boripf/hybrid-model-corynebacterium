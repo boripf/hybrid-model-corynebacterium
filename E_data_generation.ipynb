{
 "cells": [
  {
   "cell_type": "code",
   "execution_count": 1,
   "metadata": {},
   "outputs": [],
   "source": [
    "import numpy as np\n",
    "import pandas as pd\n",
    "import matplotlib.pyplot as plt\n",
    "from E_model import model, show_plot"
   ]
  },
  {
   "cell_type": "code",
   "execution_count": 2,
   "metadata": {},
   "outputs": [
    {
     "data": {
      "text/html": [
       "<div>\n",
       "<style scoped>\n",
       "    .dataframe tbody tr th:only-of-type {\n",
       "        vertical-align: middle;\n",
       "    }\n",
       "\n",
       "    .dataframe tbody tr th {\n",
       "        vertical-align: top;\n",
       "    }\n",
       "\n",
       "    .dataframe thead th {\n",
       "        text-align: right;\n",
       "    }\n",
       "</style>\n",
       "<table border=\"1\" class=\"dataframe\">\n",
       "  <thead>\n",
       "    <tr style=\"text-align: right;\">\n",
       "      <th></th>\n",
       "      <th>Yxs</th>\n",
       "      <th>qs_max</th>\n",
       "      <th>Ks</th>\n",
       "      <th>m_s</th>\n",
       "      <th>lag</th>\n",
       "    </tr>\n",
       "  </thead>\n",
       "  <tbody>\n",
       "    <tr>\n",
       "      <th>count</th>\n",
       "      <td>200.000000</td>\n",
       "      <td>200.000000</td>\n",
       "      <td>200.000000</td>\n",
       "      <td>200.000000</td>\n",
       "      <td>200.000000</td>\n",
       "    </tr>\n",
       "    <tr>\n",
       "      <th>mean</th>\n",
       "      <td>0.431309</td>\n",
       "      <td>1.142154</td>\n",
       "      <td>0.680004</td>\n",
       "      <td>0.009849</td>\n",
       "      <td>0.191850</td>\n",
       "    </tr>\n",
       "    <tr>\n",
       "      <th>std</th>\n",
       "      <td>0.218199</td>\n",
       "      <td>0.204105</td>\n",
       "      <td>0.188565</td>\n",
       "      <td>0.010009</td>\n",
       "      <td>0.010156</td>\n",
       "    </tr>\n",
       "    <tr>\n",
       "      <th>min</th>\n",
       "      <td>-0.194459</td>\n",
       "      <td>0.641285</td>\n",
       "      <td>0.100625</td>\n",
       "      <td>-0.015061</td>\n",
       "      <td>0.164553</td>\n",
       "    </tr>\n",
       "    <tr>\n",
       "      <th>25%</th>\n",
       "      <td>0.276795</td>\n",
       "      <td>1.002158</td>\n",
       "      <td>0.546814</td>\n",
       "      <td>0.002788</td>\n",
       "      <td>0.184959</td>\n",
       "    </tr>\n",
       "    <tr>\n",
       "      <th>50%</th>\n",
       "      <td>0.438264</td>\n",
       "      <td>1.141941</td>\n",
       "      <td>0.667849</td>\n",
       "      <td>0.009484</td>\n",
       "      <td>0.191549</td>\n",
       "    </tr>\n",
       "    <tr>\n",
       "      <th>75%</th>\n",
       "      <td>0.572083</td>\n",
       "      <td>1.284021</td>\n",
       "      <td>0.813383</td>\n",
       "      <td>0.017134</td>\n",
       "      <td>0.198947</td>\n",
       "    </tr>\n",
       "    <tr>\n",
       "      <th>max</th>\n",
       "      <td>1.043026</td>\n",
       "      <td>1.614223</td>\n",
       "      <td>1.151304</td>\n",
       "      <td>0.034605</td>\n",
       "      <td>0.223318</td>\n",
       "    </tr>\n",
       "  </tbody>\n",
       "</table>\n",
       "</div>"
      ],
      "text/plain": [
       "              Yxs      qs_max          Ks         m_s         lag\n",
       "count  200.000000  200.000000  200.000000  200.000000  200.000000\n",
       "mean     0.431309    1.142154    0.680004    0.009849    0.191850\n",
       "std      0.218199    0.204105    0.188565    0.010009    0.010156\n",
       "min     -0.194459    0.641285    0.100625   -0.015061    0.164553\n",
       "25%      0.276795    1.002158    0.546814    0.002788    0.184959\n",
       "50%      0.438264    1.141941    0.667849    0.009484    0.191549\n",
       "75%      0.572083    1.284021    0.813383    0.017134    0.198947\n",
       "max      1.043026    1.614223    1.151304    0.034605    0.223318"
      ]
     },
     "execution_count": 2,
     "metadata": {},
     "output_type": "execute_result"
    }
   ],
   "source": [
    "num_samples = 200\n",
    "sigma_big = 0.2\n",
    "sigma_small = 0.01\n",
    "p = [0.4597, 1.1255, 0.6814, 0.0094, 0.1913]\n",
    "\n",
    "Yxs_dist = np.random.normal(p[0], sigma_big, num_samples)\n",
    "qs_max_dist = np.random.normal(p[1], sigma_big, num_samples)\n",
    "Ks_dist = np.random.normal(p[2], sigma_big, num_samples)\n",
    "m_s_dist = np.random.normal(p[3], sigma_small, num_samples)\n",
    "lag_dist = np.random.normal(p[4], sigma_small, num_samples)\n",
    "\n",
    "df_p = pd.DataFrame({\n",
    "    'Yxs': Yxs_dist,\n",
    "    'qs_max': qs_max_dist,\n",
    "    'Ks': Ks_dist,\n",
    "    'm_s': m_s_dist,\n",
    "    'lag': lag_dist\n",
    "})\n",
    "df_p.describe()"
   ]
  },
  {
   "cell_type": "code",
   "execution_count": 3,
   "metadata": {},
   "outputs": [
    {
     "data": {
      "text/plain": [
       "[0.6687498335792039,\n",
       " 0.9232458200512964,\n",
       " 1.0842450404487758,\n",
       " 0.030173303477626826,\n",
       " 0.1998614191103639]"
      ]
     },
     "execution_count": 3,
     "metadata": {},
     "output_type": "execute_result"
    }
   ],
   "source": [
    "list_p = list(df_p.iloc[0])\n",
    "list_p"
   ]
  },
  {
   "cell_type": "code",
   "execution_count": 4,
   "metadata": {},
   "outputs": [],
   "source": [
    "df_batches = pd.DataFrame(columns=['time', 'biomass', 'glucose', 'batch_id'])\n",
    "for i in range(df_p.shape[0]):\n",
    "    batch_id = str(i).zfill(3)\n",
    "    list_p = list(df_p.iloc[i])\n",
    "    df = model(list_p)\n",
    "    df['batch_id'] = str(batch_id)\n",
    "    # show_plot(df)\n",
    "    df_batches = pd.concat([df_batches, df], ignore_index=True)\n",
    "\n",
    "df_batches.to_csv('data/generated data/df_gen.csv')"
   ]
  },
  {
   "cell_type": "code",
   "execution_count": 9,
   "metadata": {},
   "outputs": [],
   "source": [
    "df_gen = pd.read_csv('data/generated data/df_gen.csv')"
   ]
  },
  {
   "cell_type": "code",
   "execution_count": 10,
   "metadata": {},
   "outputs": [
    {
     "data": {
      "image/png": "[encoded data removed]",
      "text/plain": [
       "<Figure size 640x480 with 2 Axes>"
      ]
     },
     "metadata": {},
     "output_type": "display_data"
    }
   ],
   "source": [
    "df_one = df[df['batch_id'] == '187']\n",
    "show_plot(df_one)"
   ]
  }
 ],
 "metadata": {
  "kernelspec": {
   "display_name": "june_project",
   "language": "python",
   "name": "python3"
  },
  "language_info": {
   "codemirror_mode": {
    "name": "ipython",
    "version": 3
   },
   "file_extension": ".py",
   "mimetype": "text/x-python",
   "name": "python",
   "nbconvert_exporter": "python",
   "pygments_lexer": "ipython3",
   "version": "3.9.13"
  },
  "orig_nbformat": 4
 },
 "nbformat": 4,
 "nbformat_minor": 2
}
